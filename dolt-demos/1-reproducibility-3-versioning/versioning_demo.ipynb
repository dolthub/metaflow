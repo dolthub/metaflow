{
 "cells": [
  {
   "cell_type": "markdown",
   "id": "sweet-speaker",
   "metadata": {},
   "source": [
    "# Reproducibility: versioning\n",
    "\n",
    "1. Create two versions of a dataframe (v1, v2)\n",
    "2. Commit both to dolt as table: `bar` -> get two commit references\n",
    "3. Run Flow with two different versions of `bar` (parameter to specify)\n",
    "4. Read and the results table `baz` for the two runs given the `run_id`'s"
   ]
  },
  {
   "cell_type": "code",
   "execution_count": 53,
   "id": "equipped-valve",
   "metadata": {},
   "outputs": [
    {
     "name": "stderr",
     "output_type": "stream",
     "text": [
      "01-17 14:30:41 doltpy.core.dolt INFO     Creating directory foo\n",
      "01-17 14:30:41 doltpy.core.dolt INFO     Creating a new repo in foo\n"
     ]
    },
    {
     "name": "stdout",
     "output_type": "stream",
     "text": [
      "['dolt', 'init']\n",
      "/Users/max-hoffman/Documents/sandbox/dolt/metaflow/dolt-demos/1-reproducibility-3-versioning\n"
     ]
    },
    {
     "name": "stderr",
     "output_type": "stream",
     "text": [
      "01-17 14:30:42 doltpy.core.dolt INFO     Creating engine for Dolt SQL Server instance running on 127.0.0.1:3306\n",
      "01-17 14:30:42 doltpy.core.write.write INFO     Importing to table bar in dolt directory located in foo, import mode create\n",
      "01-17 14:30:42 doltpy.core.dolt INFO     Rows Processed: 3, Additions: 3, Modifications: 0, Had No Effect: 0\n",
      "01-17 14:30:42 doltpy.core.dolt INFO     \n"
     ]
    },
    {
     "name": "stdout",
     "output_type": "stream",
     "text": [
      "['dolt', 'table', 'import', 'bar', '-c', '--pk=index', '/var/folders/05/c0ll_wxd26j61fntnymm2k8c0000gn/T/tmpwzxvh2i3.csv']\n",
      "/Users/max-hoffman/Documents/sandbox/dolt/metaflow/dolt-demos/1-reproducibility-3-versioning\n",
      "['dolt', 'add', 'bar']\n",
      "/Users/max-hoffman/Documents/sandbox/dolt/metaflow/dolt-demos/1-reproducibility-3-versioning\n",
      "['dolt', 'status']\n",
      "/Users/max-hoffman/Documents/sandbox/dolt/metaflow/dolt-demos/1-reproducibility-3-versioning\n"
     ]
    },
    {
     "name": "stderr",
     "output_type": "stream",
     "text": [
      "01-17 14:30:42 doltpy.core.dolt INFO     commit pv1482m6b2mamo7od9jhf83m2ehadmfq\n",
      "Author: Max Hoffman <maximilian.wolfgang1@gmail.com>\n",
      "Date:   Sun Jan 17 14:30:42 -0800 2021\n",
      "\n",
      "\tInitialize bar\n",
      "\n",
      "\n",
      "01-17 14:30:42 doltpy.core.write.write INFO     Importing to table bar in dolt directory located in foo, import mode update\n"
     ]
    },
    {
     "name": "stdout",
     "output_type": "stream",
     "text": [
      "['dolt', 'commit', '-m', 'Initialize bar']\n",
      "/Users/max-hoffman/Documents/sandbox/dolt/metaflow/dolt-demos/1-reproducibility-3-versioning\n",
      "['dolt', 'log', '--number', '1']\n",
      "/Users/max-hoffman/Documents/sandbox/dolt/metaflow/dolt-demos/1-reproducibility-3-versioning\n",
      "['dolt', 'table', 'import', 'bar', '-u', '/var/folders/05/c0ll_wxd26j61fntnymm2k8c0000gn/T/tmprvabbtd1.csv']\n",
      "/Users/max-hoffman/Documents/sandbox/dolt/metaflow/dolt-demos/1-reproducibility-3-versioning\n"
     ]
    },
    {
     "name": "stderr",
     "output_type": "stream",
     "text": [
      "01-17 14:30:42 doltpy.core.dolt INFO     Rows Processed: 6, Additions: 3, Modifications: 0, Had No Effect: 3\n",
      "01-17 14:30:42 doltpy.core.dolt INFO     \n",
      "01-17 14:30:42 doltpy.core.dolt INFO     commit hvpnns4djgpvdaqnlv8qhvmo94kg7t72\n",
      "Author: Max Hoffman <maximilian.wolfgang1@gmail.com>\n",
      "Date:   Sun Jan 17 14:30:42 -0800 2021\n",
      "\n",
      "\tAdd rows to bar\n",
      "\n",
      "\n"
     ]
    },
    {
     "name": "stdout",
     "output_type": "stream",
     "text": [
      "['dolt', 'add', 'bar']\n",
      "/Users/max-hoffman/Documents/sandbox/dolt/metaflow/dolt-demos/1-reproducibility-3-versioning\n",
      "['dolt', 'status']\n",
      "/Users/max-hoffman/Documents/sandbox/dolt/metaflow/dolt-demos/1-reproducibility-3-versioning\n",
      "['dolt', 'commit', '-m', 'Add rows to bar']\n",
      "/Users/max-hoffman/Documents/sandbox/dolt/metaflow/dolt-demos/1-reproducibility-3-versioning\n",
      "['dolt', 'log', '--number', '1']\n",
      "/Users/max-hoffman/Documents/sandbox/dolt/metaflow/dolt-demos/1-reproducibility-3-versioning\n"
     ]
    }
   ],
   "source": [
    "import pandas as pd\n",
    "from doltpy.core import Dolt\n",
    "from doltpy.core.write import import_df\n",
    "\n",
    "dolt = Dolt.init(\"foo\")\n",
    "\n",
    "df_v1 = pd.DataFrame({\"A\": [1,1,1], \"B\": [1,1,1]})\n",
    "df_v2 = pd.DataFrame({\"A\": [1,1,1,2,2,2], \"B\": [1,1,1,2,2,2]})\n",
    "\n",
    "import_df(dolt, \"bar\", df_v1.reset_index(), [\"index\"], \"create\")\n",
    "dolt.add(\"bar\")\n",
    "dolt.commit(\"Initialize bar\")\n",
    "\n",
    "v1 = list(dolt.log(number=\"1\").keys())[0]\n",
    "\n",
    "import_df(dolt, \"bar\", df_v2.reset_index(), [\"index\"], \"update\")\n",
    "dolt.add(\"bar\")\n",
    "dolt.commit(\"Add rows to bar\")\n",
    "\n",
    "v2 = list(dolt.log(number=\"1\").keys())[0]"
   ]
  },
  {
   "cell_type": "code",
   "execution_count": 54,
   "id": "public-terminal",
   "metadata": {},
   "outputs": [
    {
     "name": "stdout",
     "output_type": "stream",
     "text": [
      "import pickle\r\n",
      "\r\n",
      "from metaflow import FlowSpec, step, DoltDT, Parameter\r\n",
      "import pandas as pd\r\n",
      "from sklearn import tree\r\n",
      "\r\n",
      "class VersioningDemo(FlowSpec):\r\n",
      "    bar_version = Parameter('bar-version',  help=\"Specifc the tag for the input version\", required=True)\r\n",
      "    @step\r\n",
      "    def start(self):\r\n",
      "        with DoltDT(run=self, database='foo', branch=self.bar_version) as dolt:\r\n",
      "            self.df = dolt.read_table('bar')\r\n",
      "\r\n",
      "        self.next(self.middle)\r\n",
      "\r\n",
      "    @step\r\n",
      "    def middle(self):\r\n",
      "        with DoltDT(run=self, database='foo', branch=self.bar_version) as dolt:\r\n",
      "\r\n",
      "            df = self.df\r\n",
      "            df[\"B\"] = df[\"B\"].map(lambda x: x*2)\r\n",
      "\r\n",
      "            dolt.write_table(table_name='baz', df=df, pks=['index'])\r\n",
      "\r\n",
      "        self.next(self.end)\r\n",
      "\r\n",
      "    @step\r\n",
      "    def end(self):\r\n",
      "        pass\r\n",
      "\r\n",
      "\r\n",
      "if __name__ == '__main__':\r\n",
      "    VersioningDemo()\r\n"
     ]
    }
   ],
   "source": [
    "! cat demo.py"
   ]
  },
  {
   "cell_type": "code",
   "execution_count": 58,
   "id": "tested-photography",
   "metadata": {},
   "outputs": [
    {
     "name": "stdout",
     "output_type": "stream",
     "text": [
      "\u001b[35m\u001b[1mMetaflow 2.2.5.post21+git36980c8\u001b[0m\u001b[35m\u001b[22m executing \u001b[0m\u001b[31m\u001b[1mVersioningDemo\u001b[0m\u001b[35m\u001b[22m\u001b[0m\u001b[35m\u001b[22m for \u001b[0m\u001b[31m\u001b[1muser:max-hoffman\u001b[0m\u001b[35m\u001b[22m\u001b[K\u001b[0m\u001b[35m\u001b[22m\u001b[0m\n",
      "\u001b[35m\u001b[22mValidating your flow...\u001b[K\u001b[0m\u001b[35m\u001b[22m\u001b[0m\n",
      "\u001b[32m\u001b[1m    The graph looks good!\u001b[K\u001b[0m\u001b[32m\u001b[1m\u001b[0m\n",
      "\u001b[35m\u001b[22mRunning pylint...\u001b[K\u001b[0m\u001b[35m\u001b[22m\u001b[0m\n",
      "\u001b[32m\u001b[1m    Pylint is happy!\u001b[K\u001b[0m\u001b[32m\u001b[1m\u001b[0m\n",
      "\u001b[35m2021-01-17 14:34:12.193 \u001b[0m\u001b[1mWorkflow starting (run-id 1610922852187706):\u001b[0m\n",
      "\u001b[35m2021-01-17 14:34:12.202 \u001b[0m\u001b[32m[1610922852187706/start/1 (pid 26961)] \u001b[0m\u001b[1mTask is starting.\u001b[0m\n",
      "\u001b[35m2021-01-17 14:34:13.440 \u001b[0m\u001b[32m[1610922852187706/start/1 (pid 26961)] \u001b[0m\u001b[22m01-17 14:34:13 doltpy.core.dolt INFO     Creating engine for Dolt SQL Server instance running on 127.0.0.1:3306\u001b[0m\n",
      "\u001b[35m2021-01-17 14:34:13.471 \u001b[0m\u001b[32m[1610922852187706/start/1 (pid 26961)] \u001b[0m\u001b[22m01-17 14:34:13 doltpy.core.dolt INFO     Creating engine for Dolt SQL Server instance running on 127.0.0.1:3306\u001b[0m\n",
      "\u001b[35m2021-01-17 14:34:13.535 \u001b[0m\u001b[32m[1610922852187706/start/1 (pid 26961)] \u001b[0m\u001b[22m01-17 14:34:13 doltpy.core.dolt INFO     * master                                        \thvpnns4djgpvdaqnlv8qhvmo94kg7t72\u001b[0m\n",
      "\u001b[35m2021-01-17 14:34:13.726 \u001b[0m\u001b[32m[1610922852187706/start/1 (pid 26961)] \u001b[0m\u001b[22m\u001b[0m\n",
      "\u001b[35m2021-01-17 14:34:13.726 \u001b[0m\u001b[32m[1610922852187706/start/1 (pid 26961)] \u001b[0m\u001b[22m01-17 14:34:13 doltpy.core.dolt INFO     index,A,B\u001b[0m\n",
      "\u001b[35m2021-01-17 14:34:13.898 \u001b[0m\u001b[32m[1610922852187706/start/1 (pid 26961)] \u001b[0m\u001b[22m0,1,1\u001b[0m\n",
      "\u001b[35m2021-01-17 14:34:13.899 \u001b[0m\u001b[32m[1610922852187706/start/1 (pid 26961)] \u001b[0m\u001b[22m1,1,1\u001b[0m\n",
      "\u001b[35m2021-01-17 14:34:13.899 \u001b[0m\u001b[32m[1610922852187706/start/1 (pid 26961)] \u001b[0m\u001b[22m2,1,1\u001b[0m\n",
      "\u001b[35m2021-01-17 14:34:13.899 \u001b[0m\u001b[32m[1610922852187706/start/1 (pid 26961)] \u001b[0m\u001b[22m\u001b[0m\n",
      "\u001b[35m2021-01-17 14:34:13.899 \u001b[0m\u001b[32m[1610922852187706/start/1 (pid 26961)] \u001b[0m\u001b[22m01-17 14:34:13 doltpy.core.write.write INFO     No import mode specified, table exists, using \"create\"\u001b[0m\n",
      "\u001b[35m2021-01-17 14:34:14.002 \u001b[0m\u001b[32m[1610922852187706/start/1 (pid 26961)] \u001b[0m\u001b[22m01-17 14:34:13 doltpy.core.write.write INFO     Importing to table metadata in dolt directory located in /Users/max-hoffman/Documents/sandbox/dolt/metaflow/dolt-demos/1-reproducibility-3-versioning, import mode create\u001b[0m\n",
      "\u001b[35m2021-01-17 14:34:14.002 \u001b[0m\u001b[32m[1610922852187706/start/1 (pid 26961)] \u001b[0m\u001b[22m01-17 14:34:14 doltpy.core.dolt INFO     Rows Processed: 1, Additions: 1, Modifications: 0, Had No Effect: 0\u001b[0m\n",
      "\u001b[35m2021-01-17 14:34:14.056 \u001b[0m\u001b[32m[1610922852187706/start/1 (pid 26961)] \u001b[0m\u001b[22m01-17 14:34:14 doltpy.core.dolt INFO\u001b[0m\n",
      "\u001b[35m2021-01-17 14:34:14.161 \u001b[0m\u001b[32m[1610922852187706/start/1 (pid 26961)] \u001b[0m\u001b[22m01-17 14:34:14 doltpy.core.dolt INFO     commit ok4rphrnkdffhaij400pofdog8kfh3ss\u001b[0m\n",
      "\u001b[35m2021-01-17 14:34:14.177 \u001b[0m\u001b[32m[1610922852187706/start/1 (pid 26961)] \u001b[0m\u001b[22mAuthor: Max Hoffman <maximilian.wolfgang1@gmail.com>\u001b[0m\n",
      "\u001b[35m2021-01-17 14:34:14.177 \u001b[0m\u001b[32m[1610922852187706/start/1 (pid 26961)] \u001b[0m\u001b[22mDate:   Sun Jan 17 14:34:14 -0800 2021\u001b[0m\n",
      "\u001b[35m2021-01-17 14:34:14.177 \u001b[0m\u001b[32m[1610922852187706/start/1 (pid 26961)] \u001b[0m\u001b[22m\u001b[0m\n",
      "\u001b[35m2021-01-17 14:34:14.177 \u001b[0m\u001b[32m[1610922852187706/start/1 (pid 26961)] \u001b[0m\u001b[22m\tVersioningDemo/1610922852187706/start/1\u001b[0m\n",
      "\u001b[35m2021-01-17 14:34:14.178 \u001b[0m\u001b[32m[1610922852187706/start/1 (pid 26961)] \u001b[0m\u001b[22m\u001b[0m\n",
      "\u001b[35m2021-01-17 14:34:14.178 \u001b[0m\u001b[32m[1610922852187706/start/1 (pid 26961)] \u001b[0m\u001b[22m\u001b[0m\n",
      "\u001b[35m2021-01-17 14:34:14.178 \u001b[0m\u001b[32m[1610922852187706/start/1 (pid 26961)] \u001b[0m\u001b[22m01-17 14:34:14 doltpy.core.system_helpers INFO     Before exiting cleaning up child processes\u001b[0m\n",
      "\u001b[35m2021-01-17 14:34:14.187 \u001b[0m\u001b[32m[1610922852187706/start/1 (pid 26961)] \u001b[0m\u001b[22m01-17 14:34:14 doltpy.core.system_helpers INFO     No processes to clean up, exiting\u001b[0m\n",
      "\u001b[35m2021-01-17 14:34:14.401 \u001b[0m\u001b[32m[1610922852187706/start/1 (pid 26961)] \u001b[0m\u001b[1mTask finished successfully.\u001b[0m\n",
      "\u001b[35m2021-01-17 14:34:14.410 \u001b[0m\u001b[32m[1610922852187706/middle/2 (pid 26997)] \u001b[0m\u001b[1mTask is starting.\u001b[0m\n",
      "\u001b[35m2021-01-17 14:34:15.699 \u001b[0m\u001b[32m[1610922852187706/middle/2 (pid 26997)] \u001b[0m\u001b[22m01-17 14:34:15 doltpy.core.dolt INFO     Creating engine for Dolt SQL Server instance running on 127.0.0.1:3306\u001b[0m\n",
      "\u001b[35m2021-01-17 14:34:15.732 \u001b[0m\u001b[32m[1610922852187706/middle/2 (pid 26997)] \u001b[0m\u001b[22m01-17 14:34:15 doltpy.core.dolt INFO     Creating engine for Dolt SQL Server instance running on 127.0.0.1:3306\u001b[0m\n",
      "\u001b[35m2021-01-17 14:34:15.800 \u001b[0m\u001b[32m[1610922852187706/middle/2 (pid 26997)] \u001b[0m\u001b[22m01-17 14:34:15 doltpy.core.dolt INFO     * master                                        \thvpnns4djgpvdaqnlv8qhvmo94kg7t72\u001b[0m\n",
      "\u001b[35m2021-01-17 14:34:15.916 \u001b[0m\u001b[32m[1610922852187706/middle/2 (pid 26997)] \u001b[0m\u001b[22m\u001b[0m\n",
      "\u001b[35m2021-01-17 14:34:15.916 \u001b[0m\u001b[32m[1610922852187706/middle/2 (pid 26997)] \u001b[0m\u001b[22m01-17 14:34:15 doltpy.core.write.write INFO     No import mode specified, table exists, using \"create\"\u001b[0m\n",
      "\u001b[35m2021-01-17 14:34:16.024 \u001b[0m\u001b[32m[1610922852187706/middle/2 (pid 26997)] \u001b[0m\u001b[22m01-17 14:34:15 doltpy.core.write.write INFO     Importing to table baz in dolt directory located in foo, import mode create\u001b[0m\n",
      "\u001b[35m2021-01-17 14:34:16.024 \u001b[0m\u001b[32m[1610922852187706/middle/2 (pid 26997)] \u001b[0m\u001b[22m01-17 14:34:16 doltpy.core.dolt INFO     Rows Processed: 3, Additions: 3, Modifications: 0, Had No Effect: 0\u001b[0m\n",
      "\u001b[35m2021-01-17 14:34:16.108 \u001b[0m\u001b[32m[1610922852187706/middle/2 (pid 26997)] \u001b[0m\u001b[22m01-17 14:34:16 doltpy.core.dolt INFO\u001b[0m\n",
      "\u001b[35m2021-01-17 14:34:16.201 \u001b[0m\u001b[32m[1610922852187706/middle/2 (pid 26997)] \u001b[0m\u001b[22m01-17 14:34:16 doltpy.core.dolt INFO     commit 5gqv0f2ppjnbvnuutrouucg7hjmgj8lj\u001b[0m\n",
      "\u001b[35m2021-01-17 14:34:16.321 \u001b[0m\u001b[32m[1610922852187706/middle/2 (pid 26997)] \u001b[0m\u001b[22mAuthor: Max Hoffman <maximilian.wolfgang1@gmail.com>\u001b[0m\n",
      "\u001b[35m2021-01-17 14:34:16.321 \u001b[0m\u001b[32m[1610922852187706/middle/2 (pid 26997)] \u001b[0m\u001b[22mDate:   Sun Jan 17 14:34:16 -0800 2021\u001b[0m\n",
      "\u001b[35m2021-01-17 14:34:16.321 \u001b[0m\u001b[32m[1610922852187706/middle/2 (pid 26997)] \u001b[0m\u001b[22m\u001b[0m\n",
      "\u001b[35m2021-01-17 14:34:16.321 \u001b[0m\u001b[32m[1610922852187706/middle/2 (pid 26997)] \u001b[0m\u001b[22m\tVersioningDemo/1610922852187706/middle/2\u001b[0m\n",
      "\u001b[35m2021-01-17 14:34:16.321 \u001b[0m\u001b[32m[1610922852187706/middle/2 (pid 26997)] \u001b[0m\u001b[22m\u001b[0m\n",
      "\u001b[35m2021-01-17 14:34:16.321 \u001b[0m\u001b[32m[1610922852187706/middle/2 (pid 26997)] \u001b[0m\u001b[22m\u001b[0m\n",
      "\u001b[35m2021-01-17 14:34:16.321 \u001b[0m\u001b[32m[1610922852187706/middle/2 (pid 26997)] \u001b[0m\u001b[22m01-17 14:34:16 doltpy.core.write.write INFO     No import mode specified, table exists, using \"update\"\u001b[0m\n",
      "\u001b[35m2021-01-17 14:34:16.406 \u001b[0m\u001b[32m[1610922852187706/middle/2 (pid 26997)] \u001b[0m\u001b[22m01-17 14:34:16 doltpy.core.write.write INFO     Importing to table metadata in dolt directory located in /Users/max-hoffman/Documents/sandbox/dolt/metaflow/dolt-demos/1-reproducibility-3-versioning, import mode update\u001b[0m\n",
      "\u001b[35m2021-01-17 14:34:16.406 \u001b[0m\u001b[32m[1610922852187706/middle/2 (pid 26997)] \u001b[0m\u001b[22m01-17 14:34:16 doltpy.core.dolt INFO     Rows Processed: 1, Additions: 1, Modifications: 0, Had No Effect: 0\u001b[0m\n",
      "\u001b[35m2021-01-17 14:34:16.456 \u001b[0m\u001b[32m[1610922852187706/middle/2 (pid 26997)] \u001b[0m\u001b[22m01-17 14:34:16 doltpy.core.dolt INFO\u001b[0m\n",
      "\u001b[35m2021-01-17 14:34:16.548 \u001b[0m\u001b[32m[1610922852187706/middle/2 (pid 26997)] \u001b[0m\u001b[22m01-17 14:34:16 doltpy.core.dolt INFO     commit of742h1au6c3jg5lmprer0iqtmf6i6st\u001b[0m\n",
      "\u001b[35m2021-01-17 14:34:16.558 \u001b[0m\u001b[32m[1610922852187706/middle/2 (pid 26997)] \u001b[0m\u001b[22mAuthor: Max Hoffman <maximilian.wolfgang1@gmail.com>\u001b[0m\n",
      "\u001b[35m2021-01-17 14:34:16.558 \u001b[0m\u001b[32m[1610922852187706/middle/2 (pid 26997)] \u001b[0m\u001b[22mDate:   Sun Jan 17 14:34:16 -0800 2021\u001b[0m\n",
      "\u001b[35m2021-01-17 14:34:16.558 \u001b[0m\u001b[32m[1610922852187706/middle/2 (pid 26997)] \u001b[0m\u001b[22m\u001b[0m\n",
      "\u001b[35m2021-01-17 14:34:16.558 \u001b[0m\u001b[32m[1610922852187706/middle/2 (pid 26997)] \u001b[0m\u001b[22m\tVersioningDemo/1610922852187706/middle/2\u001b[0m\n",
      "\u001b[35m2021-01-17 14:34:16.558 \u001b[0m\u001b[32m[1610922852187706/middle/2 (pid 26997)] \u001b[0m\u001b[22m\u001b[0m\n",
      "\u001b[35m2021-01-17 14:34:16.558 \u001b[0m\u001b[32m[1610922852187706/middle/2 (pid 26997)] \u001b[0m\u001b[22m\u001b[0m\n",
      "\u001b[35m2021-01-17 14:34:16.558 \u001b[0m\u001b[32m[1610922852187706/middle/2 (pid 26997)] \u001b[0m\u001b[22m01-17 14:34:16 doltpy.core.system_helpers INFO     Before exiting cleaning up child processes\u001b[0m\n",
      "\u001b[35m2021-01-17 14:34:16.566 \u001b[0m\u001b[32m[1610922852187706/middle/2 (pid 26997)] \u001b[0m\u001b[22m01-17 14:34:16 doltpy.core.system_helpers INFO     No processes to clean up, exiting\u001b[0m\n"
     ]
    },
    {
     "name": "stdout",
     "output_type": "stream",
     "text": [
      "\u001b[35m2021-01-17 14:34:16.737 \u001b[0m\u001b[32m[1610922852187706/middle/2 (pid 26997)] \u001b[0m\u001b[1mTask finished successfully.\u001b[0m\n",
      "\u001b[35m2021-01-17 14:34:16.745 \u001b[0m\u001b[32m[1610922852187706/end/3 (pid 27037)] \u001b[0m\u001b[1mTask is starting.\u001b[0m\n",
      "\u001b[35m2021-01-17 14:34:17.813 \u001b[0m\u001b[32m[1610922852187706/end/3 (pid 27037)] \u001b[0m\u001b[22m01-17 14:34:17 doltpy.core.system_helpers INFO     Before exiting cleaning up child processes\u001b[0m\n",
      "\u001b[35m2021-01-17 14:34:17.820 \u001b[0m\u001b[32m[1610922852187706/end/3 (pid 27037)] \u001b[0m\u001b[22m01-17 14:34:17 doltpy.core.system_helpers INFO     No processes to clean up, exiting\u001b[0m\n",
      "\u001b[35m2021-01-17 14:34:17.967 \u001b[0m\u001b[32m[1610922852187706/end/3 (pid 27037)] \u001b[0m\u001b[1mTask finished successfully.\u001b[0m\n",
      "\u001b[35m2021-01-17 14:34:17.968 \u001b[0m\u001b[1mDone!\u001b[0m\n",
      "01-17 14:34:17 doltpy.core.system_helpers INFO     Before exiting cleaning up child processes\n",
      "01-17 14:34:17 doltpy.core.system_helpers INFO     No processes to clean up, exiting\n"
     ]
    }
   ],
   "source": [
    "!poetry run python3 demo.py run --bar-version $v1"
   ]
  },
  {
   "cell_type": "code",
   "execution_count": 59,
   "id": "established-scanning",
   "metadata": {},
   "outputs": [
    {
     "name": "stdout",
     "output_type": "stream",
     "text": [
      "\u001b[33mcommit 5gqv0f2ppjnbvnuutrouucg7hjmgj8lj\u001b[0m\r\n",
      "Author: Max Hoffman <maximilian.wolfgang1@gmail.com>\r\n",
      "Date:   Sun Jan 17 14:34:16 -0800 2021\r\n",
      "\r\n",
      "\tVersioningDemo/1610922852187706/middle/2\r\n",
      "\r\n"
     ]
    }
   ],
   "source": [
    "!cd foo && dolt log -n 1"
   ]
  },
  {
   "cell_type": "code",
   "execution_count": 4,
   "id": "instructional-resort",
   "metadata": {},
   "outputs": [],
   "source": [
    "# save for later\n",
    "run1_id = \"1610922852187706\""
   ]
  },
  {
   "cell_type": "code",
   "execution_count": 60,
   "id": "gentle-forest",
   "metadata": {},
   "outputs": [
    {
     "name": "stdout",
     "output_type": "stream",
     "text": [
      "\u001b[35m\u001b[1mMetaflow 2.2.5.post21+git36980c8\u001b[0m\u001b[35m\u001b[22m executing \u001b[0m\u001b[31m\u001b[1mVersioningDemo\u001b[0m\u001b[35m\u001b[22m\u001b[0m\u001b[35m\u001b[22m for \u001b[0m\u001b[31m\u001b[1muser:max-hoffman\u001b[0m\u001b[35m\u001b[22m\u001b[K\u001b[0m\u001b[35m\u001b[22m\u001b[0m\n",
      "\u001b[35m\u001b[22mValidating your flow...\u001b[K\u001b[0m\u001b[35m\u001b[22m\u001b[0m\n",
      "\u001b[32m\u001b[1m    The graph looks good!\u001b[K\u001b[0m\u001b[32m\u001b[1m\u001b[0m\n",
      "\u001b[35m\u001b[22mRunning pylint...\u001b[K\u001b[0m\u001b[35m\u001b[22m\u001b[0m\n",
      "\u001b[32m\u001b[1m    Pylint is happy!\u001b[K\u001b[0m\u001b[32m\u001b[1m\u001b[0m\n",
      "\u001b[35m2021-01-17 14:36:26.910 \u001b[0m\u001b[1mWorkflow starting (run-id 1610922986903927):\u001b[0m\n",
      "\u001b[35m2021-01-17 14:36:26.917 \u001b[0m\u001b[32m[1610922986903927/start/1 (pid 27057)] \u001b[0m\u001b[1mTask is starting.\u001b[0m\n",
      "\u001b[35m2021-01-17 14:36:28.073 \u001b[0m\u001b[32m[1610922986903927/start/1 (pid 27057)] \u001b[0m\u001b[22m01-17 14:36:28 doltpy.core.dolt INFO     Creating engine for Dolt SQL Server instance running on 127.0.0.1:3306\u001b[0m\n",
      "\u001b[35m2021-01-17 14:36:28.105 \u001b[0m\u001b[32m[1610922986903927/start/1 (pid 27057)] \u001b[0m\u001b[22m01-17 14:36:28 doltpy.core.dolt INFO     Creating engine for Dolt SQL Server instance running on 127.0.0.1:3306\u001b[0m\n",
      "\u001b[35m2021-01-17 14:36:28.168 \u001b[0m\u001b[32m[1610922986903927/start/1 (pid 27057)] \u001b[0m\u001b[22m01-17 14:36:28 doltpy.core.dolt INFO     * master                                        \t5gqv0f2ppjnbvnuutrouucg7hjmgj8lj\u001b[0m\n",
      "\u001b[35m2021-01-17 14:36:28.355 \u001b[0m\u001b[32m[1610922986903927/start/1 (pid 27057)] \u001b[0m\u001b[22m\u001b[0m\n",
      "\u001b[35m2021-01-17 14:36:28.356 \u001b[0m\u001b[32m[1610922986903927/start/1 (pid 27057)] \u001b[0m\u001b[22m01-17 14:36:28 doltpy.core.dolt INFO     index,A,B\u001b[0m\n",
      "\u001b[35m2021-01-17 14:36:28.521 \u001b[0m\u001b[32m[1610922986903927/start/1 (pid 27057)] \u001b[0m\u001b[22m0,1,1\u001b[0m\n",
      "\u001b[35m2021-01-17 14:36:28.521 \u001b[0m\u001b[32m[1610922986903927/start/1 (pid 27057)] \u001b[0m\u001b[22m1,1,1\u001b[0m\n",
      "\u001b[35m2021-01-17 14:36:28.521 \u001b[0m\u001b[32m[1610922986903927/start/1 (pid 27057)] \u001b[0m\u001b[22m2,1,1\u001b[0m\n",
      "\u001b[35m2021-01-17 14:36:28.521 \u001b[0m\u001b[32m[1610922986903927/start/1 (pid 27057)] \u001b[0m\u001b[22m3,2,2\u001b[0m\n",
      "\u001b[35m2021-01-17 14:36:28.521 \u001b[0m\u001b[32m[1610922986903927/start/1 (pid 27057)] \u001b[0m\u001b[22m4,2,2\u001b[0m\n",
      "\u001b[35m2021-01-17 14:36:28.521 \u001b[0m\u001b[32m[1610922986903927/start/1 (pid 27057)] \u001b[0m\u001b[22m5,2,2\u001b[0m\n",
      "\u001b[35m2021-01-17 14:36:28.521 \u001b[0m\u001b[32m[1610922986903927/start/1 (pid 27057)] \u001b[0m\u001b[22m\u001b[0m\n",
      "\u001b[35m2021-01-17 14:36:28.521 \u001b[0m\u001b[32m[1610922986903927/start/1 (pid 27057)] \u001b[0m\u001b[22m01-17 14:36:28 doltpy.core.write.write INFO     No import mode specified, table exists, using \"update\"\u001b[0m\n",
      "\u001b[35m2021-01-17 14:36:28.609 \u001b[0m\u001b[32m[1610922986903927/start/1 (pid 27057)] \u001b[0m\u001b[22m01-17 14:36:28 doltpy.core.write.write INFO     Importing to table metadata in dolt directory located in /Users/max-hoffman/Documents/sandbox/dolt/metaflow/dolt-demos/1-reproducibility-3-versioning, import mode update\u001b[0m\n",
      "\u001b[35m2021-01-17 14:36:28.610 \u001b[0m\u001b[32m[1610922986903927/start/1 (pid 27057)] \u001b[0m\u001b[22m01-17 14:36:28 doltpy.core.dolt INFO     Rows Processed: 1, Additions: 1, Modifications: 0, Had No Effect: 0\u001b[0m\n",
      "\u001b[35m2021-01-17 14:36:28.657 \u001b[0m\u001b[32m[1610922986903927/start/1 (pid 27057)] \u001b[0m\u001b[22m01-17 14:36:28 doltpy.core.dolt INFO\u001b[0m\n",
      "\u001b[35m2021-01-17 14:36:28.752 \u001b[0m\u001b[32m[1610922986903927/start/1 (pid 27057)] \u001b[0m\u001b[22m01-17 14:36:28 doltpy.core.dolt INFO     commit eabeu2v8se7v6umcl30iote889kq83d6\u001b[0m\n",
      "\u001b[35m2021-01-17 14:36:28.762 \u001b[0m\u001b[32m[1610922986903927/start/1 (pid 27057)] \u001b[0m\u001b[22mAuthor: Max Hoffman <maximilian.wolfgang1@gmail.com>\u001b[0m\n",
      "\u001b[35m2021-01-17 14:36:28.762 \u001b[0m\u001b[32m[1610922986903927/start/1 (pid 27057)] \u001b[0m\u001b[22mDate:   Sun Jan 17 14:36:28 -0800 2021\u001b[0m\n",
      "\u001b[35m2021-01-17 14:36:28.762 \u001b[0m\u001b[32m[1610922986903927/start/1 (pid 27057)] \u001b[0m\u001b[22m\u001b[0m\n",
      "\u001b[35m2021-01-17 14:36:28.762 \u001b[0m\u001b[32m[1610922986903927/start/1 (pid 27057)] \u001b[0m\u001b[22m\tVersioningDemo/1610922986903927/start/1\u001b[0m\n",
      "\u001b[35m2021-01-17 14:36:28.762 \u001b[0m\u001b[32m[1610922986903927/start/1 (pid 27057)] \u001b[0m\u001b[22m\u001b[0m\n",
      "\u001b[35m2021-01-17 14:36:28.762 \u001b[0m\u001b[32m[1610922986903927/start/1 (pid 27057)] \u001b[0m\u001b[22m\u001b[0m\n",
      "\u001b[35m2021-01-17 14:36:28.762 \u001b[0m\u001b[32m[1610922986903927/start/1 (pid 27057)] \u001b[0m\u001b[22m01-17 14:36:28 doltpy.core.system_helpers INFO     Before exiting cleaning up child processes\u001b[0m\n",
      "\u001b[35m2021-01-17 14:36:28.770 \u001b[0m\u001b[32m[1610922986903927/start/1 (pid 27057)] \u001b[0m\u001b[22m01-17 14:36:28 doltpy.core.system_helpers INFO     No processes to clean up, exiting\u001b[0m\n",
      "\u001b[35m2021-01-17 14:36:28.940 \u001b[0m\u001b[32m[1610922986903927/start/1 (pid 27057)] \u001b[0m\u001b[1mTask finished successfully.\u001b[0m\n",
      "\u001b[35m2021-01-17 14:36:28.947 \u001b[0m\u001b[32m[1610922986903927/middle/2 (pid 27091)] \u001b[0m\u001b[1mTask is starting.\u001b[0m\n",
      "\u001b[35m2021-01-17 14:36:30.053 \u001b[0m\u001b[32m[1610922986903927/middle/2 (pid 27091)] \u001b[0m\u001b[22m01-17 14:36:30 doltpy.core.dolt INFO     Creating engine for Dolt SQL Server instance running on 127.0.0.1:3306\u001b[0m\n",
      "\u001b[35m2021-01-17 14:36:30.084 \u001b[0m\u001b[32m[1610922986903927/middle/2 (pid 27091)] \u001b[0m\u001b[22m01-17 14:36:30 doltpy.core.dolt INFO     Creating engine for Dolt SQL Server instance running on 127.0.0.1:3306\u001b[0m\n",
      "\u001b[35m2021-01-17 14:36:30.143 \u001b[0m\u001b[32m[1610922986903927/middle/2 (pid 27091)] \u001b[0m\u001b[22m01-17 14:36:30 doltpy.core.dolt INFO     * master                                        \t5gqv0f2ppjnbvnuutrouucg7hjmgj8lj\u001b[0m\n",
      "\u001b[35m2021-01-17 14:36:30.249 \u001b[0m\u001b[32m[1610922986903927/middle/2 (pid 27091)] \u001b[0m\u001b[22m\u001b[0m\n",
      "\u001b[35m2021-01-17 14:36:30.249 \u001b[0m\u001b[32m[1610922986903927/middle/2 (pid 27091)] \u001b[0m\u001b[22m01-17 14:36:30 doltpy.core.write.write INFO     No import mode specified, table exists, using \"update\"\u001b[0m\n",
      "\u001b[35m2021-01-17 14:36:30.340 \u001b[0m\u001b[32m[1610922986903927/middle/2 (pid 27091)] \u001b[0m\u001b[22m01-17 14:36:30 doltpy.core.write.write INFO     Importing to table baz in dolt directory located in foo, import mode update\u001b[0m\n",
      "\u001b[35m2021-01-17 14:36:30.340 \u001b[0m\u001b[32m[1610922986903927/middle/2 (pid 27091)] \u001b[0m\u001b[22m01-17 14:36:30 doltpy.core.dolt INFO     Rows Processed: 6, Additions: 3, Modifications: 0, Had No Effect: 3\u001b[0m\n",
      "\u001b[35m2021-01-17 14:36:30.425 \u001b[0m\u001b[32m[1610922986903927/middle/2 (pid 27091)] \u001b[0m\u001b[22m01-17 14:36:30 doltpy.core.dolt INFO\u001b[0m\n",
      "\u001b[35m2021-01-17 14:36:30.516 \u001b[0m\u001b[32m[1610922986903927/middle/2 (pid 27091)] \u001b[0m\u001b[22m01-17 14:36:30 doltpy.core.dolt INFO     commit 0a0rptr3q0co1sum6k4ma3tac7sqctkq\u001b[0m\n",
      "\u001b[35m2021-01-17 14:36:30.642 \u001b[0m\u001b[32m[1610922986903927/middle/2 (pid 27091)] \u001b[0m\u001b[22mAuthor: Max Hoffman <maximilian.wolfgang1@gmail.com>\u001b[0m\n",
      "\u001b[35m2021-01-17 14:36:30.642 \u001b[0m\u001b[32m[1610922986903927/middle/2 (pid 27091)] \u001b[0m\u001b[22mDate:   Sun Jan 17 14:36:30 -0800 2021\u001b[0m\n",
      "\u001b[35m2021-01-17 14:36:30.642 \u001b[0m\u001b[32m[1610922986903927/middle/2 (pid 27091)] \u001b[0m\u001b[22m\u001b[0m\n",
      "\u001b[35m2021-01-17 14:36:30.642 \u001b[0m\u001b[32m[1610922986903927/middle/2 (pid 27091)] \u001b[0m\u001b[22m\tVersioningDemo/1610922986903927/middle/2\u001b[0m\n",
      "\u001b[35m2021-01-17 14:36:30.642 \u001b[0m\u001b[32m[1610922986903927/middle/2 (pid 27091)] \u001b[0m\u001b[22m\u001b[0m\n",
      "\u001b[35m2021-01-17 14:36:30.642 \u001b[0m\u001b[32m[1610922986903927/middle/2 (pid 27091)] \u001b[0m\u001b[22m\u001b[0m\n",
      "\u001b[35m2021-01-17 14:36:30.642 \u001b[0m\u001b[32m[1610922986903927/middle/2 (pid 27091)] \u001b[0m\u001b[22m01-17 14:36:30 doltpy.core.write.write INFO     No import mode specified, table exists, using \"update\"\u001b[0m\n",
      "\u001b[35m2021-01-17 14:36:30.734 \u001b[0m\u001b[32m[1610922986903927/middle/2 (pid 27091)] \u001b[0m\u001b[22m01-17 14:36:30 doltpy.core.write.write INFO     Importing to table metadata in dolt directory located in /Users/max-hoffman/Documents/sandbox/dolt/metaflow/dolt-demos/1-reproducibility-3-versioning, import mode update\u001b[0m\n",
      "\u001b[35m2021-01-17 14:36:30.735 \u001b[0m\u001b[32m[1610922986903927/middle/2 (pid 27091)] \u001b[0m\u001b[22m01-17 14:36:30 doltpy.core.dolt INFO     Rows Processed: 1, Additions: 1, Modifications: 0, Had No Effect: 0\u001b[0m\n",
      "\u001b[35m2021-01-17 14:36:30.790 \u001b[0m\u001b[32m[1610922986903927/middle/2 (pid 27091)] \u001b[0m\u001b[22m01-17 14:36:30 doltpy.core.dolt INFO\u001b[0m\n",
      "\u001b[35m2021-01-17 14:36:30.896 \u001b[0m\u001b[32m[1610922986903927/middle/2 (pid 27091)] \u001b[0m\u001b[22m01-17 14:36:30 doltpy.core.dolt INFO     commit 4palmvjetsek96ohv75gbbd56nfimk6r\u001b[0m\n",
      "\u001b[35m2021-01-17 14:36:30.907 \u001b[0m\u001b[32m[1610922986903927/middle/2 (pid 27091)] \u001b[0m\u001b[22mAuthor: Max Hoffman <maximilian.wolfgang1@gmail.com>\u001b[0m\n",
      "\u001b[35m2021-01-17 14:36:30.907 \u001b[0m\u001b[32m[1610922986903927/middle/2 (pid 27091)] \u001b[0m\u001b[22mDate:   Sun Jan 17 14:36:30 -0800 2021\u001b[0m\n",
      "\u001b[35m2021-01-17 14:36:30.907 \u001b[0m\u001b[32m[1610922986903927/middle/2 (pid 27091)] \u001b[0m\u001b[22m\u001b[0m\n",
      "\u001b[35m2021-01-17 14:36:30.907 \u001b[0m\u001b[32m[1610922986903927/middle/2 (pid 27091)] \u001b[0m\u001b[22m\tVersioningDemo/1610922986903927/middle/2\u001b[0m\n",
      "\u001b[35m2021-01-17 14:36:30.907 \u001b[0m\u001b[32m[1610922986903927/middle/2 (pid 27091)] \u001b[0m\u001b[22m\u001b[0m\n",
      "\u001b[35m2021-01-17 14:36:30.907 \u001b[0m\u001b[32m[1610922986903927/middle/2 (pid 27091)] \u001b[0m\u001b[22m\u001b[0m\n",
      "\u001b[35m2021-01-17 14:36:30.907 \u001b[0m\u001b[32m[1610922986903927/middle/2 (pid 27091)] \u001b[0m\u001b[22m01-17 14:36:30 doltpy.core.system_helpers INFO     Before exiting cleaning up child processes\u001b[0m\n",
      "\u001b[35m2021-01-17 14:36:30.915 \u001b[0m\u001b[32m[1610922986903927/middle/2 (pid 27091)] \u001b[0m\u001b[22m01-17 14:36:30 doltpy.core.system_helpers INFO     No processes to clean up, exiting\u001b[0m\n"
     ]
    },
    {
     "name": "stdout",
     "output_type": "stream",
     "text": [
      "\u001b[35m2021-01-17 14:36:31.078 \u001b[0m\u001b[32m[1610922986903927/middle/2 (pid 27091)] \u001b[0m\u001b[1mTask finished successfully.\u001b[0m\n",
      "\u001b[35m2021-01-17 14:36:31.083 \u001b[0m\u001b[32m[1610922986903927/end/3 (pid 27131)] \u001b[0m\u001b[1mTask is starting.\u001b[0m\n",
      "\u001b[35m2021-01-17 14:36:32.193 \u001b[0m\u001b[32m[1610922986903927/end/3 (pid 27131)] \u001b[0m\u001b[22m01-17 14:36:32 doltpy.core.system_helpers INFO     Before exiting cleaning up child processes\u001b[0m\n",
      "\u001b[35m2021-01-17 14:36:32.200 \u001b[0m\u001b[32m[1610922986903927/end/3 (pid 27131)] \u001b[0m\u001b[22m01-17 14:36:32 doltpy.core.system_helpers INFO     No processes to clean up, exiting\u001b[0m\n",
      "\u001b[35m2021-01-17 14:36:32.357 \u001b[0m\u001b[32m[1610922986903927/end/3 (pid 27131)] \u001b[0m\u001b[1mTask finished successfully.\u001b[0m\n",
      "\u001b[35m2021-01-17 14:36:32.357 \u001b[0m\u001b[1mDone!\u001b[0m\n",
      "01-17 14:36:32 doltpy.core.system_helpers INFO     Before exiting cleaning up child processes\n",
      "01-17 14:36:32 doltpy.core.system_helpers INFO     No processes to clean up, exiting\n"
     ]
    }
   ],
   "source": [
    "!poetry run python3 demo.py run --bar-version $v2"
   ]
  },
  {
   "cell_type": "code",
   "execution_count": 62,
   "id": "modern-baghdad",
   "metadata": {},
   "outputs": [
    {
     "name": "stdout",
     "output_type": "stream",
     "text": [
      "\u001b[33mcommit 0a0rptr3q0co1sum6k4ma3tac7sqctkq\u001b[0m\r\n",
      "Author: Max Hoffman <maximilian.wolfgang1@gmail.com>\r\n",
      "Date:   Sun Jan 17 14:36:30 -0800 2021\r\n",
      "\r\n",
      "\tVersioningDemo/1610922986903927/middle/2\r\n",
      "\r\n"
     ]
    }
   ],
   "source": [
    "!cd foo && dolt log -n 1"
   ]
  },
  {
   "cell_type": "code",
   "execution_count": 3,
   "id": "frequent-production",
   "metadata": {},
   "outputs": [],
   "source": [
    "run2_id = \"1610922986903927\""
   ]
  },
  {
   "cell_type": "code",
   "execution_count": 7,
   "id": "growing-nerve",
   "metadata": {},
   "outputs": [
    {
     "name": "stderr",
     "output_type": "stream",
     "text": [
      "01-17 14:44:48 doltpy.core.dolt INFO     Creating engine for Dolt SQL Server instance running on 127.0.0.1:3306\n",
      "01-17 14:44:48 doltpy.core.dolt INFO     Creating engine for Dolt SQL Server instance running on 127.0.0.1:3306\n",
      "01-17 14:44:48 doltpy.core.dolt INFO     flow_name,run_id,step_name,task_id,kind,database,table_name,commit,timestamp\n",
      "VersioningDemo,1610922852187706,middle,2,write,foo,baz,5gqv0f2ppjnbvnuutrouucg7hjmgj8lj,1.6109229e+09\n",
      "\n",
      "01-17 14:44:48 doltpy.core.dolt INFO     Creating engine for Dolt SQL Server instance running on 127.0.0.1:3306\n",
      "01-17 14:44:48 doltpy.core.dolt INFO     index,A,B\n",
      "0,1,11\n",
      "1,1,11\n",
      "2,1,11\n",
      "\n",
      "01-17 14:44:48 doltpy.core.dolt INFO     flow_name,run_id,step_name,task_id,kind,database,table_name,commit,timestamp\n",
      "VersioningDemo,1610922986903927,middle,2,write,foo,baz,0a0rptr3q0co1sum6k4ma3tac7sqctkq,1.610923e+09\n",
      "\n",
      "01-17 14:44:48 doltpy.core.dolt INFO     Creating engine for Dolt SQL Server instance running on 127.0.0.1:3306\n"
     ]
    },
    {
     "name": "stdout",
     "output_type": "stream",
     "text": [
      "foo 5gqv0f2ppjnbvnuutrouucg7hjmgj8lj baz\n",
      "foo 0a0rptr3q0co1sum6k4ma3tac7sqctkq baz\n"
     ]
    },
    {
     "name": "stderr",
     "output_type": "stream",
     "text": [
      "01-17 14:44:48 doltpy.core.dolt INFO     index,A,B\n",
      "0,1,11\n",
      "1,1,11\n",
      "2,1,11\n",
      "3,2,22\n",
      "4,2,22\n",
      "5,2,22\n",
      "\n"
     ]
    }
   ],
   "source": [
    "from metaflow.datatools.dolt import DoltDT, DoltRun\n",
    "d1 = DoltRun(flow_name=\"VersioningDemo\", run_id=run1_id)\n",
    "d2 = DoltRun(flow_name=\"VersioningDemo\", run_id=run2_id)\n",
    "\n",
    "res1 = d1.writes[0].data\n",
    "res2 = d2.writes[0].data"
   ]
  },
  {
   "cell_type": "code",
   "execution_count": 10,
   "id": "insured-mother",
   "metadata": {},
   "outputs": [
    {
     "data": {
      "text/html": [
       "<div>\n",
       "<style scoped>\n",
       "    .dataframe tbody tr th:only-of-type {\n",
       "        vertical-align: middle;\n",
       "    }\n",
       "\n",
       "    .dataframe tbody tr th {\n",
       "        vertical-align: top;\n",
       "    }\n",
       "\n",
       "    .dataframe thead th {\n",
       "        text-align: right;\n",
       "    }\n",
       "</style>\n",
       "<table border=\"1\" class=\"dataframe\">\n",
       "  <thead>\n",
       "    <tr style=\"text-align: right;\">\n",
       "      <th></th>\n",
       "      <th>index</th>\n",
       "      <th>A</th>\n",
       "      <th>B</th>\n",
       "    </tr>\n",
       "  </thead>\n",
       "  <tbody>\n",
       "    <tr>\n",
       "      <th>0</th>\n",
       "      <td>0</td>\n",
       "      <td>1</td>\n",
       "      <td>11</td>\n",
       "    </tr>\n",
       "    <tr>\n",
       "      <th>1</th>\n",
       "      <td>1</td>\n",
       "      <td>1</td>\n",
       "      <td>11</td>\n",
       "    </tr>\n",
       "    <tr>\n",
       "      <th>2</th>\n",
       "      <td>2</td>\n",
       "      <td>1</td>\n",
       "      <td>11</td>\n",
       "    </tr>\n",
       "  </tbody>\n",
       "</table>\n",
       "</div>"
      ],
      "text/plain": [
       "  index  A   B\n",
       "0     0  1  11\n",
       "1     1  1  11\n",
       "2     2  1  11"
      ]
     },
     "execution_count": 10,
     "metadata": {},
     "output_type": "execute_result"
    }
   ],
   "source": [
    "res1"
   ]
  },
  {
   "cell_type": "code",
   "execution_count": 9,
   "id": "flush-introduction",
   "metadata": {},
   "outputs": [
    {
     "data": {
      "text/html": [
       "<div>\n",
       "<style scoped>\n",
       "    .dataframe tbody tr th:only-of-type {\n",
       "        vertical-align: middle;\n",
       "    }\n",
       "\n",
       "    .dataframe tbody tr th {\n",
       "        vertical-align: top;\n",
       "    }\n",
       "\n",
       "    .dataframe thead th {\n",
       "        text-align: right;\n",
       "    }\n",
       "</style>\n",
       "<table border=\"1\" class=\"dataframe\">\n",
       "  <thead>\n",
       "    <tr style=\"text-align: right;\">\n",
       "      <th></th>\n",
       "      <th>index</th>\n",
       "      <th>A</th>\n",
       "      <th>B</th>\n",
       "    </tr>\n",
       "  </thead>\n",
       "  <tbody>\n",
       "    <tr>\n",
       "      <th>0</th>\n",
       "      <td>0</td>\n",
       "      <td>1</td>\n",
       "      <td>11</td>\n",
       "    </tr>\n",
       "    <tr>\n",
       "      <th>1</th>\n",
       "      <td>1</td>\n",
       "      <td>1</td>\n",
       "      <td>11</td>\n",
       "    </tr>\n",
       "    <tr>\n",
       "      <th>2</th>\n",
       "      <td>2</td>\n",
       "      <td>1</td>\n",
       "      <td>11</td>\n",
       "    </tr>\n",
       "    <tr>\n",
       "      <th>3</th>\n",
       "      <td>3</td>\n",
       "      <td>2</td>\n",
       "      <td>22</td>\n",
       "    </tr>\n",
       "    <tr>\n",
       "      <th>4</th>\n",
       "      <td>4</td>\n",
       "      <td>2</td>\n",
       "      <td>22</td>\n",
       "    </tr>\n",
       "    <tr>\n",
       "      <th>5</th>\n",
       "      <td>5</td>\n",
       "      <td>2</td>\n",
       "      <td>22</td>\n",
       "    </tr>\n",
       "  </tbody>\n",
       "</table>\n",
       "</div>"
      ],
      "text/plain": [
       "  index  A   B\n",
       "0     0  1  11\n",
       "1     1  1  11\n",
       "2     2  1  11\n",
       "3     3  2  22\n",
       "4     4  2  22\n",
       "5     5  2  22"
      ]
     },
     "execution_count": 9,
     "metadata": {},
     "output_type": "execute_result"
    }
   ],
   "source": [
    "res2"
   ]
  },
  {
   "cell_type": "code",
   "execution_count": null,
   "id": "written-honduras",
   "metadata": {},
   "outputs": [],
   "source": []
  }
 ],
 "metadata": {
  "kernelspec": {
   "display_name": "Python 3",
   "language": "python",
   "name": "python3"
  },
  "language_info": {
   "codemirror_mode": {
    "name": "ipython",
    "version": 3
   },
   "file_extension": ".py",
   "mimetype": "text/x-python",
   "name": "python",
   "nbconvert_exporter": "python",
   "pygments_lexer": "ipython3",
   "version": "3.8.2"
  }
 },
 "nbformat": 4,
 "nbformat_minor": 5
}
