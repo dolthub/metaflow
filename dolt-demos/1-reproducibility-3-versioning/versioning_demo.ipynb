{
 "cells": [
  {
   "cell_type": "markdown",
   "id": "sweet-speaker",
   "metadata": {},
   "source": [
    "# Reproducibility: versioning\n",
    "\n",
    "1. Create two versions of a dataframe (v1, v2)\n",
    "2. Commit both to dolt as table: `bar` -> get two commit references\n",
    "3. Run Flow with two different versions of `bar` (parameter to specify)\n",
    "4. Read the results table `baz` for the two runs given the `run_id`'s"
   ]
  },
  {
   "cell_type": "code",
   "execution_count": 25,
   "id": "equipped-valve",
   "metadata": {},
   "outputs": [],
   "source": [
    "import logging\n",
    "\n",
    "logger = logging.getLogger()\n",
    "logger.setLevel(logging.WARNING)\n",
    "\n",
    "import pandas as pd\n",
    "from doltpy.core import Dolt\n",
    "from doltpy.core.write import import_df\n",
    "\n",
    "dolt = Dolt.init(\"foo\")\n",
    "\n",
    "df_v1 = pd.DataFrame({\"A\": [1,1,1], \"B\": [1,1,1]})\n",
    "df_v2 = pd.DataFrame({\"A\": [1,1,1,2,2,2], \"B\": [1,1,1,2,2,2]})\n",
    "\n",
    "import_df(dolt, \"bar\", df_v1.reset_index(), [\"index\"], \"create\")\n",
    "dolt.add(\"bar\")\n",
    "dolt.commit(\"Initialize bar\")\n",
    "\n",
    "v1 = list(dolt.log(number=\"1\").keys())[0]\n",
    "\n",
    "import_df(dolt, \"bar\", df_v2.reset_index(), [\"index\"], \"update\")\n",
    "dolt.add(\"bar\")\n",
    "dolt.commit(\"Add rows to bar\")\n",
    "\n",
    "v2 = list(dolt.log(number=\"1\").keys())[0]"
   ]
  },
  {
   "cell_type": "code",
   "execution_count": 10,
   "id": "public-terminal",
   "metadata": {},
   "outputs": [
    {
     "name": "stdout",
     "output_type": "stream",
     "text": [
      "import logging\r\n",
      "\r\n",
      "logger = logging.getLogger()\r\n",
      "logger.setLevel(logging.WARNING)\r\n",
      "\r\n",
      "import pickle\r\n",
      "\r\n",
      "from metaflow import FlowSpec, step, DoltDT, Parameter\r\n",
      "import pandas as pd\r\n",
      "from sklearn import tree\r\n",
      "\r\n",
      "class VersioningDemo(FlowSpec):\r\n",
      "    bar_version = Parameter('bar-version',  help=\"Specifc the tag for the input version\", required=True)\r\n",
      "    @step\r\n",
      "    def start(self):\r\n",
      "        with DoltDT(run=self, database='foo', branch=\"master\") as dolt:\r\n",
      "            self.df = dolt.read_table('bar', commit=self.bar_version)\r\n",
      "\r\n",
      "        self.next(self.middle)\r\n",
      "\r\n",
      "    @step\r\n",
      "    def middle(self):\r\n",
      "        with DoltDT(run=self, database='foo', branch=\"master\") as dolt:\r\n",
      "\r\n",
      "            df = self.df\r\n",
      "            df[\"B\"] = df[\"B\"].map(lambda x: x*2)\r\n",
      "\r\n",
      "            dolt.write_table(table_name='baz', df=df, pks=['index'])\r\n",
      "\r\n",
      "        self.next(self.end)\r\n",
      "\r\n",
      "    @step\r\n",
      "    def end(self):\r\n",
      "        pass\r\n",
      "\r\n",
      "\r\n",
      "if __name__ == '__main__':\r\n",
      "    VersioningDemo()\r\n"
     ]
    }
   ],
   "source": [
    "! cat demo.py"
   ]
  },
  {
   "cell_type": "code",
   "execution_count": 26,
   "id": "tested-photography",
   "metadata": {},
   "outputs": [
    {
     "name": "stdout",
     "output_type": "stream",
     "text": [
      "\u001b[35m\u001b[1mMetaflow 2.2.5.post24+git1f18147\u001b[0m\u001b[35m\u001b[22m executing \u001b[0m\u001b[31m\u001b[1mVersioningDemo\u001b[0m\u001b[35m\u001b[22m\u001b[0m\u001b[35m\u001b[22m for \u001b[0m\u001b[31m\u001b[1muser:max-hoffman\u001b[0m\u001b[35m\u001b[22m\u001b[K\u001b[0m\u001b[35m\u001b[22m\u001b[0m\n",
      "\u001b[35m\u001b[22mValidating your flow...\u001b[K\u001b[0m\u001b[35m\u001b[22m\u001b[0m\n",
      "\u001b[32m\u001b[1m    The graph looks good!\u001b[K\u001b[0m\u001b[32m\u001b[1m\u001b[0m\n",
      "\u001b[35m\u001b[22mRunning pylint...\u001b[K\u001b[0m\u001b[35m\u001b[22m\u001b[0m\n",
      "\u001b[32m\u001b[1m    Pylint is happy!\u001b[K\u001b[0m\u001b[32m\u001b[1m\u001b[0m\n",
      "\u001b[35m2021-01-17 19:02:28.232 \u001b[0m\u001b[1mWorkflow starting (run-id 1610938948223837):\u001b[0m\n",
      "\u001b[35m2021-01-17 19:02:28.239 \u001b[0m\u001b[32m[1610938948223837/start/1 (pid 31582)] \u001b[0m\u001b[1mTask is starting.\u001b[0m\n",
      "\u001b[35m2021-01-17 19:02:29.325 \u001b[0m\u001b[32m[1610938948223837/start/1 (pid 31582)] \u001b[0m\u001b[22m01-17 19:02:29 doltpy.core.dolt INFO     Creating engine for Dolt SQL Server instance running on 127.0.0.1:3306\u001b[0m\n",
      "\u001b[35m2021-01-17 19:02:29.356 \u001b[0m\u001b[32m[1610938948223837/start/1 (pid 31582)] \u001b[0m\u001b[22m01-17 19:02:29 doltpy.core.dolt INFO     Creating engine for Dolt SQL Server instance running on 127.0.0.1:3306\u001b[0m\n",
      "\u001b[35m2021-01-17 19:02:29.417 \u001b[0m\u001b[32m[1610938948223837/start/1 (pid 31582)] \u001b[0m\u001b[22m01-17 19:02:29 doltpy.core.dolt INFO     * master                                        \tt15uoa82uaqn2sjq1eq0qtgf04pu275f\u001b[0m\n",
      "\u001b[35m2021-01-17 19:02:29.580 \u001b[0m\u001b[32m[1610938948223837/start/1 (pid 31582)] \u001b[0m\u001b[22m\u001b[0m\n",
      "\u001b[35m2021-01-17 19:02:29.580 \u001b[0m\u001b[32m[1610938948223837/start/1 (pid 31582)] \u001b[0m\u001b[22m01-17 19:02:29 doltpy.core.dolt INFO     index,A,B\u001b[0m\n",
      "\u001b[35m2021-01-17 19:02:29.742 \u001b[0m\u001b[32m[1610938948223837/start/1 (pid 31582)] \u001b[0m\u001b[22m0,1,1\u001b[0m\n",
      "\u001b[35m2021-01-17 19:02:29.742 \u001b[0m\u001b[32m[1610938948223837/start/1 (pid 31582)] \u001b[0m\u001b[22m1,1,1\u001b[0m\n",
      "\u001b[35m2021-01-17 19:02:29.742 \u001b[0m\u001b[32m[1610938948223837/start/1 (pid 31582)] \u001b[0m\u001b[22m2,1,1\u001b[0m\n",
      "\u001b[35m2021-01-17 19:02:29.742 \u001b[0m\u001b[32m[1610938948223837/start/1 (pid 31582)] \u001b[0m\u001b[22m\u001b[0m\n",
      "\u001b[35m2021-01-17 19:02:29.743 \u001b[0m\u001b[32m[1610938948223837/start/1 (pid 31582)] \u001b[0m\u001b[22m01-17 19:02:29 doltpy.core.write.write INFO     No import mode specified, table exists, using \"update\"\u001b[0m\n",
      "\u001b[35m2021-01-17 19:02:29.834 \u001b[0m\u001b[32m[1610938948223837/start/1 (pid 31582)] \u001b[0m\u001b[22m01-17 19:02:29 doltpy.core.write.write INFO     Importing to table metadata in dolt directory located in /Users/max-hoffman/Documents/sandbox/dolt/metaflow/dolt-demos/1-reproducibility-3-versioning, import mode update\u001b[0m\n",
      "\u001b[35m2021-01-17 19:02:29.835 \u001b[0m\u001b[32m[1610938948223837/start/1 (pid 31582)] \u001b[0m\u001b[22m01-17 19:02:29 doltpy.core.dolt INFO     Rows Processed: 1, Additions: 1, Modifications: 0, Had No Effect: 0\u001b[0m\n",
      "\u001b[35m2021-01-17 19:02:29.879 \u001b[0m\u001b[32m[1610938948223837/start/1 (pid 31582)] \u001b[0m\u001b[22m01-17 19:02:29 doltpy.core.dolt INFO\u001b[0m\n",
      "\u001b[35m2021-01-17 19:02:29.973 \u001b[0m\u001b[32m[1610938948223837/start/1 (pid 31582)] \u001b[0m\u001b[22m01-17 19:02:29 doltpy.core.dolt INFO     commit r7pkipq1ffoafkv49ohkqkfje1eqgbso\u001b[0m\n",
      "\u001b[35m2021-01-17 19:02:29.982 \u001b[0m\u001b[32m[1610938948223837/start/1 (pid 31582)] \u001b[0m\u001b[22mAuthor: Max Hoffman <maximilian.wolfgang1@gmail.com>\u001b[0m\n",
      "\u001b[35m2021-01-17 19:02:29.982 \u001b[0m\u001b[32m[1610938948223837/start/1 (pid 31582)] \u001b[0m\u001b[22mDate:   Sun Jan 17 19:02:29 -0800 2021\u001b[0m\n",
      "\u001b[35m2021-01-17 19:02:29.982 \u001b[0m\u001b[32m[1610938948223837/start/1 (pid 31582)] \u001b[0m\u001b[22m\u001b[0m\n",
      "\u001b[35m2021-01-17 19:02:29.982 \u001b[0m\u001b[32m[1610938948223837/start/1 (pid 31582)] \u001b[0m\u001b[22m\tVersioningDemo/1610938948223837/start/1\u001b[0m\n",
      "\u001b[35m2021-01-17 19:02:29.982 \u001b[0m\u001b[32m[1610938948223837/start/1 (pid 31582)] \u001b[0m\u001b[22m\u001b[0m\n",
      "\u001b[35m2021-01-17 19:02:29.982 \u001b[0m\u001b[32m[1610938948223837/start/1 (pid 31582)] \u001b[0m\u001b[22m\u001b[0m\n",
      "\u001b[35m2021-01-17 19:02:29.982 \u001b[0m\u001b[32m[1610938948223837/start/1 (pid 31582)] \u001b[0m\u001b[22m01-17 19:02:29 doltpy.core.system_helpers INFO     Before exiting cleaning up child processes\u001b[0m\n",
      "\u001b[35m2021-01-17 19:02:29.989 \u001b[0m\u001b[32m[1610938948223837/start/1 (pid 31582)] \u001b[0m\u001b[22m01-17 19:02:29 doltpy.core.system_helpers INFO     No processes to clean up, exiting\u001b[0m\n",
      "\u001b[35m2021-01-17 19:02:30.156 \u001b[0m\u001b[32m[1610938948223837/start/1 (pid 31582)] \u001b[0m\u001b[1mTask finished successfully.\u001b[0m\n",
      "\u001b[35m2021-01-17 19:02:30.162 \u001b[0m\u001b[32m[1610938948223837/middle/2 (pid 31616)] \u001b[0m\u001b[1mTask is starting.\u001b[0m\n",
      "\u001b[35m2021-01-17 19:02:31.382 \u001b[0m\u001b[32m[1610938948223837/middle/2 (pid 31616)] \u001b[0m\u001b[22m01-17 19:02:31 doltpy.core.dolt INFO     Creating engine for Dolt SQL Server instance running on 127.0.0.1:3306\u001b[0m\n",
      "\u001b[35m2021-01-17 19:02:31.411 \u001b[0m\u001b[32m[1610938948223837/middle/2 (pid 31616)] \u001b[0m\u001b[22m01-17 19:02:31 doltpy.core.dolt INFO     Creating engine for Dolt SQL Server instance running on 127.0.0.1:3306\u001b[0m\n",
      "\u001b[35m2021-01-17 19:02:31.473 \u001b[0m\u001b[32m[1610938948223837/middle/2 (pid 31616)] \u001b[0m\u001b[22m01-17 19:02:31 doltpy.core.dolt INFO     * master                                        \tt15uoa82uaqn2sjq1eq0qtgf04pu275f\u001b[0m\n",
      "\u001b[35m2021-01-17 19:02:31.571 \u001b[0m\u001b[32m[1610938948223837/middle/2 (pid 31616)] \u001b[0m\u001b[22m\u001b[0m\n",
      "\u001b[35m2021-01-17 19:02:31.572 \u001b[0m\u001b[32m[1610938948223837/middle/2 (pid 31616)] \u001b[0m\u001b[22m01-17 19:02:31 doltpy.core.write.write INFO     No import mode specified, table exists, using \"create\"\u001b[0m\n",
      "\u001b[35m2021-01-17 19:02:31.659 \u001b[0m\u001b[32m[1610938948223837/middle/2 (pid 31616)] \u001b[0m\u001b[22m01-17 19:02:31 doltpy.core.write.write INFO     Importing to table baz in dolt directory located in foo, import mode create\u001b[0m\n",
      "\u001b[35m2021-01-17 19:02:31.659 \u001b[0m\u001b[32m[1610938948223837/middle/2 (pid 31616)] \u001b[0m\u001b[22m01-17 19:02:31 doltpy.core.dolt INFO     Rows Processed: 3, Additions: 3, Modifications: 0, Had No Effect: 0\u001b[0m\n",
      "\u001b[35m2021-01-17 19:02:31.745 \u001b[0m\u001b[32m[1610938948223837/middle/2 (pid 31616)] \u001b[0m\u001b[22m01-17 19:02:31 doltpy.core.dolt INFO\u001b[0m\n",
      "\u001b[35m2021-01-17 19:02:31.832 \u001b[0m\u001b[32m[1610938948223837/middle/2 (pid 31616)] \u001b[0m\u001b[22m01-17 19:02:31 doltpy.core.dolt INFO     commit 01pnohoe7p3tevbg6u35k36a4ljobqjb\u001b[0m\n",
      "\u001b[35m2021-01-17 19:02:31.953 \u001b[0m\u001b[32m[1610938948223837/middle/2 (pid 31616)] \u001b[0m\u001b[22mAuthor: Max Hoffman <maximilian.wolfgang1@gmail.com>\u001b[0m\n",
      "\u001b[35m2021-01-17 19:02:31.953 \u001b[0m\u001b[32m[1610938948223837/middle/2 (pid 31616)] \u001b[0m\u001b[22mDate:   Sun Jan 17 19:02:31 -0800 2021\u001b[0m\n",
      "\u001b[35m2021-01-17 19:02:31.953 \u001b[0m\u001b[32m[1610938948223837/middle/2 (pid 31616)] \u001b[0m\u001b[22m\u001b[0m\n",
      "\u001b[35m2021-01-17 19:02:31.953 \u001b[0m\u001b[32m[1610938948223837/middle/2 (pid 31616)] \u001b[0m\u001b[22m\tVersioningDemo/1610938948223837/middle/2\u001b[0m\n",
      "\u001b[35m2021-01-17 19:02:31.953 \u001b[0m\u001b[32m[1610938948223837/middle/2 (pid 31616)] \u001b[0m\u001b[22m\u001b[0m\n",
      "\u001b[35m2021-01-17 19:02:31.954 \u001b[0m\u001b[32m[1610938948223837/middle/2 (pid 31616)] \u001b[0m\u001b[22m\u001b[0m\n",
      "\u001b[35m2021-01-17 19:02:31.954 \u001b[0m\u001b[32m[1610938948223837/middle/2 (pid 31616)] \u001b[0m\u001b[22m01-17 19:02:31 doltpy.core.write.write INFO     No import mode specified, table exists, using \"update\"\u001b[0m\n",
      "\u001b[35m2021-01-17 19:02:32.043 \u001b[0m\u001b[32m[1610938948223837/middle/2 (pid 31616)] \u001b[0m\u001b[22m01-17 19:02:31 doltpy.core.write.write INFO     Importing to table metadata in dolt directory located in /Users/max-hoffman/Documents/sandbox/dolt/metaflow/dolt-demos/1-reproducibility-3-versioning, import mode update\u001b[0m\n",
      "\u001b[35m2021-01-17 19:02:32.043 \u001b[0m\u001b[32m[1610938948223837/middle/2 (pid 31616)] \u001b[0m\u001b[22m01-17 19:02:32 doltpy.core.dolt INFO     Rows Processed: 1, Additions: 1, Modifications: 0, Had No Effect: 0\u001b[0m\n",
      "\u001b[35m2021-01-17 19:02:32.094 \u001b[0m\u001b[32m[1610938948223837/middle/2 (pid 31616)] \u001b[0m\u001b[22m01-17 19:02:32 doltpy.core.dolt INFO\u001b[0m\n",
      "\u001b[35m2021-01-17 19:02:32.209 \u001b[0m\u001b[32m[1610938948223837/middle/2 (pid 31616)] \u001b[0m\u001b[22m01-17 19:02:32 doltpy.core.dolt INFO     commit l474i2sqnoj4q919tuta7bgm5f3re3vs\u001b[0m\n",
      "\u001b[35m2021-01-17 19:02:32.219 \u001b[0m\u001b[32m[1610938948223837/middle/2 (pid 31616)] \u001b[0m\u001b[22mAuthor: Max Hoffman <maximilian.wolfgang1@gmail.com>\u001b[0m\n",
      "\u001b[35m2021-01-17 19:02:32.220 \u001b[0m\u001b[32m[1610938948223837/middle/2 (pid 31616)] \u001b[0m\u001b[22mDate:   Sun Jan 17 19:02:32 -0800 2021\u001b[0m\n",
      "\u001b[35m2021-01-17 19:02:32.220 \u001b[0m\u001b[32m[1610938948223837/middle/2 (pid 31616)] \u001b[0m\u001b[22m\u001b[0m\n",
      "\u001b[35m2021-01-17 19:02:32.220 \u001b[0m\u001b[32m[1610938948223837/middle/2 (pid 31616)] \u001b[0m\u001b[22m\tVersioningDemo/1610938948223837/middle/2\u001b[0m\n",
      "\u001b[35m2021-01-17 19:02:32.220 \u001b[0m\u001b[32m[1610938948223837/middle/2 (pid 31616)] \u001b[0m\u001b[22m\u001b[0m\n",
      "\u001b[35m2021-01-17 19:02:32.220 \u001b[0m\u001b[32m[1610938948223837/middle/2 (pid 31616)] \u001b[0m\u001b[22m\u001b[0m\n",
      "\u001b[35m2021-01-17 19:02:32.220 \u001b[0m\u001b[32m[1610938948223837/middle/2 (pid 31616)] \u001b[0m\u001b[22m01-17 19:02:32 doltpy.core.system_helpers INFO     Before exiting cleaning up child processes\u001b[0m\n"
     ]
    },
    {
     "name": "stdout",
     "output_type": "stream",
     "text": [
      "\u001b[35m2021-01-17 19:02:32.228 \u001b[0m\u001b[32m[1610938948223837/middle/2 (pid 31616)] \u001b[0m\u001b[22m01-17 19:02:32 doltpy.core.system_helpers INFO     No processes to clean up, exiting\u001b[0m\n",
      "\u001b[35m2021-01-17 19:02:32.410 \u001b[0m\u001b[32m[1610938948223837/middle/2 (pid 31616)] \u001b[0m\u001b[1mTask finished successfully.\u001b[0m\n",
      "\u001b[35m2021-01-17 19:02:32.417 \u001b[0m\u001b[32m[1610938948223837/end/3 (pid 31656)] \u001b[0m\u001b[1mTask is starting.\u001b[0m\n",
      "\u001b[35m2021-01-17 19:02:33.596 \u001b[0m\u001b[32m[1610938948223837/end/3 (pid 31656)] \u001b[0m\u001b[22m01-17 19:02:33 doltpy.core.system_helpers INFO     Before exiting cleaning up child processes\u001b[0m\n",
      "\u001b[35m2021-01-17 19:02:33.603 \u001b[0m\u001b[32m[1610938948223837/end/3 (pid 31656)] \u001b[0m\u001b[22m01-17 19:02:33 doltpy.core.system_helpers INFO     No processes to clean up, exiting\u001b[0m\n",
      "\u001b[35m2021-01-17 19:02:33.776 \u001b[0m\u001b[32m[1610938948223837/end/3 (pid 31656)] \u001b[0m\u001b[1mTask finished successfully.\u001b[0m\n",
      "\u001b[35m2021-01-17 19:02:33.776 \u001b[0m\u001b[1mDone!\u001b[0m\n",
      "01-17 19:02:33 doltpy.core.system_helpers INFO     Before exiting cleaning up child processes\n",
      "01-17 19:02:33 doltpy.core.system_helpers INFO     No processes to clean up, exiting\n"
     ]
    }
   ],
   "source": [
    "!poetry run python3 demo.py run --bar-version $v1"
   ]
  },
  {
   "cell_type": "code",
   "execution_count": 27,
   "id": "established-scanning",
   "metadata": {},
   "outputs": [
    {
     "name": "stdout",
     "output_type": "stream",
     "text": [
      "\u001b[33mcommit 01pnohoe7p3tevbg6u35k36a4ljobqjb\u001b[0m\r\n",
      "Author: Max Hoffman <maximilian.wolfgang1@gmail.com>\r\n",
      "Date:   Sun Jan 17 19:02:31 -0800 2021\r\n",
      "\r\n",
      "\tVersioningDemo/1610938948223837/middle/2\r\n",
      "\r\n"
     ]
    }
   ],
   "source": [
    "!cd foo && dolt log -n 1"
   ]
  },
  {
   "cell_type": "code",
   "execution_count": 28,
   "id": "instructional-resort",
   "metadata": {},
   "outputs": [],
   "source": [
    "# save for later\n",
    "run1_id = \"1610938948223837\""
   ]
  },
  {
   "cell_type": "code",
   "execution_count": 29,
   "id": "gentle-forest",
   "metadata": {},
   "outputs": [
    {
     "name": "stdout",
     "output_type": "stream",
     "text": [
      "\u001b[35m\u001b[1mMetaflow 2.2.5.post24+git1f18147\u001b[0m\u001b[35m\u001b[22m executing \u001b[0m\u001b[31m\u001b[1mVersioningDemo\u001b[0m\u001b[35m\u001b[22m\u001b[0m\u001b[35m\u001b[22m for \u001b[0m\u001b[31m\u001b[1muser:max-hoffman\u001b[0m\u001b[35m\u001b[22m\u001b[K\u001b[0m\u001b[35m\u001b[22m\u001b[0m\n",
      "\u001b[35m\u001b[22mValidating your flow...\u001b[K\u001b[0m\u001b[35m\u001b[22m\u001b[0m\n",
      "\u001b[32m\u001b[1m    The graph looks good!\u001b[K\u001b[0m\u001b[32m\u001b[1m\u001b[0m\n",
      "\u001b[35m\u001b[22mRunning pylint...\u001b[K\u001b[0m\u001b[35m\u001b[22m\u001b[0m\n",
      "\u001b[32m\u001b[1m    Pylint is happy!\u001b[K\u001b[0m\u001b[32m\u001b[1m\u001b[0m\n",
      "\u001b[35m2021-01-17 19:02:45.773 \u001b[0m\u001b[1mWorkflow starting (run-id 1610938965767319):\u001b[0m\n",
      "\u001b[35m2021-01-17 19:02:45.781 \u001b[0m\u001b[32m[1610938965767319/start/1 (pid 31675)] \u001b[0m\u001b[1mTask is starting.\u001b[0m\n",
      "\u001b[35m2021-01-17 19:02:46.964 \u001b[0m\u001b[32m[1610938965767319/start/1 (pid 31675)] \u001b[0m\u001b[22m01-17 19:02:46 doltpy.core.dolt INFO     Creating engine for Dolt SQL Server instance running on 127.0.0.1:3306\u001b[0m\n",
      "\u001b[35m2021-01-17 19:02:46.993 \u001b[0m\u001b[32m[1610938965767319/start/1 (pid 31675)] \u001b[0m\u001b[22m01-17 19:02:46 doltpy.core.dolt INFO     Creating engine for Dolt SQL Server instance running on 127.0.0.1:3306\u001b[0m\n",
      "\u001b[35m2021-01-17 19:02:47.054 \u001b[0m\u001b[32m[1610938965767319/start/1 (pid 31675)] \u001b[0m\u001b[22m01-17 19:02:47 doltpy.core.dolt INFO     * master                                        \t01pnohoe7p3tevbg6u35k36a4ljobqjb\u001b[0m\n",
      "\u001b[35m2021-01-17 19:02:47.226 \u001b[0m\u001b[32m[1610938965767319/start/1 (pid 31675)] \u001b[0m\u001b[22m\u001b[0m\n",
      "\u001b[35m2021-01-17 19:02:47.226 \u001b[0m\u001b[32m[1610938965767319/start/1 (pid 31675)] \u001b[0m\u001b[22m01-17 19:02:47 doltpy.core.dolt INFO     index,A,B\u001b[0m\n",
      "\u001b[35m2021-01-17 19:02:47.402 \u001b[0m\u001b[32m[1610938965767319/start/1 (pid 31675)] \u001b[0m\u001b[22m0,1,1\u001b[0m\n",
      "\u001b[35m2021-01-17 19:02:47.402 \u001b[0m\u001b[32m[1610938965767319/start/1 (pid 31675)] \u001b[0m\u001b[22m1,1,1\u001b[0m\n",
      "\u001b[35m2021-01-17 19:02:47.403 \u001b[0m\u001b[32m[1610938965767319/start/1 (pid 31675)] \u001b[0m\u001b[22m2,1,1\u001b[0m\n",
      "\u001b[35m2021-01-17 19:02:47.403 \u001b[0m\u001b[32m[1610938965767319/start/1 (pid 31675)] \u001b[0m\u001b[22m3,2,2\u001b[0m\n",
      "\u001b[35m2021-01-17 19:02:47.403 \u001b[0m\u001b[32m[1610938965767319/start/1 (pid 31675)] \u001b[0m\u001b[22m4,2,2\u001b[0m\n",
      "\u001b[35m2021-01-17 19:02:47.403 \u001b[0m\u001b[32m[1610938965767319/start/1 (pid 31675)] \u001b[0m\u001b[22m5,2,2\u001b[0m\n",
      "\u001b[35m2021-01-17 19:02:47.403 \u001b[0m\u001b[32m[1610938965767319/start/1 (pid 31675)] \u001b[0m\u001b[22m\u001b[0m\n",
      "\u001b[35m2021-01-17 19:02:47.403 \u001b[0m\u001b[32m[1610938965767319/start/1 (pid 31675)] \u001b[0m\u001b[22m01-17 19:02:47 doltpy.core.write.write INFO     No import mode specified, table exists, using \"update\"\u001b[0m\n",
      "\u001b[35m2021-01-17 19:02:47.502 \u001b[0m\u001b[32m[1610938965767319/start/1 (pid 31675)] \u001b[0m\u001b[22m01-17 19:02:47 doltpy.core.write.write INFO     Importing to table metadata in dolt directory located in /Users/max-hoffman/Documents/sandbox/dolt/metaflow/dolt-demos/1-reproducibility-3-versioning, import mode update\u001b[0m\n",
      "\u001b[35m2021-01-17 19:02:47.503 \u001b[0m\u001b[32m[1610938965767319/start/1 (pid 31675)] \u001b[0m\u001b[22m01-17 19:02:47 doltpy.core.dolt INFO     Rows Processed: 1, Additions: 1, Modifications: 0, Had No Effect: 0\u001b[0m\n",
      "\u001b[35m2021-01-17 19:02:47.551 \u001b[0m\u001b[32m[1610938965767319/start/1 (pid 31675)] \u001b[0m\u001b[22m01-17 19:02:47 doltpy.core.dolt INFO\u001b[0m\n",
      "\u001b[35m2021-01-17 19:02:47.650 \u001b[0m\u001b[32m[1610938965767319/start/1 (pid 31675)] \u001b[0m\u001b[22m01-17 19:02:47 doltpy.core.dolt INFO     commit o56gtut7cle53bdgk504sj4u2kbkf95a\u001b[0m\n",
      "\u001b[35m2021-01-17 19:02:47.659 \u001b[0m\u001b[32m[1610938965767319/start/1 (pid 31675)] \u001b[0m\u001b[22mAuthor: Max Hoffman <maximilian.wolfgang1@gmail.com>\u001b[0m\n",
      "\u001b[35m2021-01-17 19:02:47.659 \u001b[0m\u001b[32m[1610938965767319/start/1 (pid 31675)] \u001b[0m\u001b[22mDate:   Sun Jan 17 19:02:47 -0800 2021\u001b[0m\n",
      "\u001b[35m2021-01-17 19:02:47.659 \u001b[0m\u001b[32m[1610938965767319/start/1 (pid 31675)] \u001b[0m\u001b[22m\u001b[0m\n",
      "\u001b[35m2021-01-17 19:02:47.659 \u001b[0m\u001b[32m[1610938965767319/start/1 (pid 31675)] \u001b[0m\u001b[22m\tVersioningDemo/1610938965767319/start/1\u001b[0m\n",
      "\u001b[35m2021-01-17 19:02:47.659 \u001b[0m\u001b[32m[1610938965767319/start/1 (pid 31675)] \u001b[0m\u001b[22m\u001b[0m\n",
      "\u001b[35m2021-01-17 19:02:47.659 \u001b[0m\u001b[32m[1610938965767319/start/1 (pid 31675)] \u001b[0m\u001b[22m\u001b[0m\n",
      "\u001b[35m2021-01-17 19:02:47.659 \u001b[0m\u001b[32m[1610938965767319/start/1 (pid 31675)] \u001b[0m\u001b[22m01-17 19:02:47 doltpy.core.system_helpers INFO     Before exiting cleaning up child processes\u001b[0m\n",
      "\u001b[35m2021-01-17 19:02:47.667 \u001b[0m\u001b[32m[1610938965767319/start/1 (pid 31675)] \u001b[0m\u001b[22m01-17 19:02:47 doltpy.core.system_helpers INFO     No processes to clean up, exiting\u001b[0m\n",
      "\u001b[35m2021-01-17 19:02:47.832 \u001b[0m\u001b[32m[1610938965767319/start/1 (pid 31675)] \u001b[0m\u001b[1mTask finished successfully.\u001b[0m\n",
      "\u001b[35m2021-01-17 19:02:47.840 \u001b[0m\u001b[32m[1610938965767319/middle/2 (pid 31709)] \u001b[0m\u001b[1mTask is starting.\u001b[0m\n",
      "\u001b[35m2021-01-17 19:02:48.993 \u001b[0m\u001b[32m[1610938965767319/middle/2 (pid 31709)] \u001b[0m\u001b[22m01-17 19:02:48 doltpy.core.dolt INFO     Creating engine for Dolt SQL Server instance running on 127.0.0.1:3306\u001b[0m\n",
      "\u001b[35m2021-01-17 19:02:49.022 \u001b[0m\u001b[32m[1610938965767319/middle/2 (pid 31709)] \u001b[0m\u001b[22m01-17 19:02:49 doltpy.core.dolt INFO     Creating engine for Dolt SQL Server instance running on 127.0.0.1:3306\u001b[0m\n",
      "\u001b[35m2021-01-17 19:02:49.082 \u001b[0m\u001b[32m[1610938965767319/middle/2 (pid 31709)] \u001b[0m\u001b[22m01-17 19:02:49 doltpy.core.dolt INFO     * master                                        \t01pnohoe7p3tevbg6u35k36a4ljobqjb\u001b[0m\n",
      "\u001b[35m2021-01-17 19:02:49.186 \u001b[0m\u001b[32m[1610938965767319/middle/2 (pid 31709)] \u001b[0m\u001b[22m\u001b[0m\n",
      "\u001b[35m2021-01-17 19:02:49.187 \u001b[0m\u001b[32m[1610938965767319/middle/2 (pid 31709)] \u001b[0m\u001b[22m01-17 19:02:49 doltpy.core.write.write INFO     No import mode specified, table exists, using \"update\"\u001b[0m\n",
      "\u001b[35m2021-01-17 19:02:49.280 \u001b[0m\u001b[32m[1610938965767319/middle/2 (pid 31709)] \u001b[0m\u001b[22m01-17 19:02:49 doltpy.core.write.write INFO     Importing to table baz in dolt directory located in foo, import mode update\u001b[0m\n",
      "\u001b[35m2021-01-17 19:02:49.280 \u001b[0m\u001b[32m[1610938965767319/middle/2 (pid 31709)] \u001b[0m\u001b[22m01-17 19:02:49 doltpy.core.dolt INFO     Rows Processed: 6, Additions: 3, Modifications: 0, Had No Effect: 3\u001b[0m\n",
      "\u001b[35m2021-01-17 19:02:49.368 \u001b[0m\u001b[32m[1610938965767319/middle/2 (pid 31709)] \u001b[0m\u001b[22m01-17 19:02:49 doltpy.core.dolt INFO\u001b[0m\n",
      "\u001b[35m2021-01-17 19:02:49.466 \u001b[0m\u001b[32m[1610938965767319/middle/2 (pid 31709)] \u001b[0m\u001b[22m01-17 19:02:49 doltpy.core.dolt INFO     commit ttd37vr2p5h9j6ormidbn0u7ojubbetg\u001b[0m\n",
      "\u001b[35m2021-01-17 19:02:49.597 \u001b[0m\u001b[32m[1610938965767319/middle/2 (pid 31709)] \u001b[0m\u001b[22mAuthor: Max Hoffman <maximilian.wolfgang1@gmail.com>\u001b[0m\n",
      "\u001b[35m2021-01-17 19:02:49.597 \u001b[0m\u001b[32m[1610938965767319/middle/2 (pid 31709)] \u001b[0m\u001b[22mDate:   Sun Jan 17 19:02:49 -0800 2021\u001b[0m\n",
      "\u001b[35m2021-01-17 19:02:49.597 \u001b[0m\u001b[32m[1610938965767319/middle/2 (pid 31709)] \u001b[0m\u001b[22m\u001b[0m\n",
      "\u001b[35m2021-01-17 19:02:49.597 \u001b[0m\u001b[32m[1610938965767319/middle/2 (pid 31709)] \u001b[0m\u001b[22m\tVersioningDemo/1610938965767319/middle/2\u001b[0m\n",
      "\u001b[35m2021-01-17 19:02:49.597 \u001b[0m\u001b[32m[1610938965767319/middle/2 (pid 31709)] \u001b[0m\u001b[22m\u001b[0m\n",
      "\u001b[35m2021-01-17 19:02:49.597 \u001b[0m\u001b[32m[1610938965767319/middle/2 (pid 31709)] \u001b[0m\u001b[22m\u001b[0m\n",
      "\u001b[35m2021-01-17 19:02:49.597 \u001b[0m\u001b[32m[1610938965767319/middle/2 (pid 31709)] \u001b[0m\u001b[22m01-17 19:02:49 doltpy.core.write.write INFO     No import mode specified, table exists, using \"update\"\u001b[0m\n",
      "\u001b[35m2021-01-17 19:02:49.693 \u001b[0m\u001b[32m[1610938965767319/middle/2 (pid 31709)] \u001b[0m\u001b[22m01-17 19:02:49 doltpy.core.write.write INFO     Importing to table metadata in dolt directory located in /Users/max-hoffman/Documents/sandbox/dolt/metaflow/dolt-demos/1-reproducibility-3-versioning, import mode update\u001b[0m\n",
      "\u001b[35m2021-01-17 19:02:49.693 \u001b[0m\u001b[32m[1610938965767319/middle/2 (pid 31709)] \u001b[0m\u001b[22m01-17 19:02:49 doltpy.core.dolt INFO     Rows Processed: 1, Additions: 1, Modifications: 0, Had No Effect: 0\u001b[0m\n",
      "\u001b[35m2021-01-17 19:02:49.747 \u001b[0m\u001b[32m[1610938965767319/middle/2 (pid 31709)] \u001b[0m\u001b[22m01-17 19:02:49 doltpy.core.dolt INFO\u001b[0m\n",
      "\u001b[35m2021-01-17 19:02:49.850 \u001b[0m\u001b[32m[1610938965767319/middle/2 (pid 31709)] \u001b[0m\u001b[22m01-17 19:02:49 doltpy.core.dolt INFO     commit sgvgkir94kc0lk9alrag8oo58j4btb4g\u001b[0m\n",
      "\u001b[35m2021-01-17 19:02:49.858 \u001b[0m\u001b[32m[1610938965767319/middle/2 (pid 31709)] \u001b[0m\u001b[22mAuthor: Max Hoffman <maximilian.wolfgang1@gmail.com>\u001b[0m\n",
      "\u001b[35m2021-01-17 19:02:49.858 \u001b[0m\u001b[32m[1610938965767319/middle/2 (pid 31709)] \u001b[0m\u001b[22mDate:   Sun Jan 17 19:02:49 -0800 2021\u001b[0m\n",
      "\u001b[35m2021-01-17 19:02:49.858 \u001b[0m\u001b[32m[1610938965767319/middle/2 (pid 31709)] \u001b[0m\u001b[22m\u001b[0m\n",
      "\u001b[35m2021-01-17 19:02:49.858 \u001b[0m\u001b[32m[1610938965767319/middle/2 (pid 31709)] \u001b[0m\u001b[22m\tVersioningDemo/1610938965767319/middle/2\u001b[0m\n",
      "\u001b[35m2021-01-17 19:02:49.858 \u001b[0m\u001b[32m[1610938965767319/middle/2 (pid 31709)] \u001b[0m\u001b[22m\u001b[0m\n",
      "\u001b[35m2021-01-17 19:02:49.858 \u001b[0m\u001b[32m[1610938965767319/middle/2 (pid 31709)] \u001b[0m\u001b[22m\u001b[0m\n",
      "\u001b[35m2021-01-17 19:02:49.858 \u001b[0m\u001b[32m[1610938965767319/middle/2 (pid 31709)] \u001b[0m\u001b[22m01-17 19:02:49 doltpy.core.system_helpers INFO     Before exiting cleaning up child processes\u001b[0m\n",
      "\u001b[35m2021-01-17 19:02:49.865 \u001b[0m\u001b[32m[1610938965767319/middle/2 (pid 31709)] \u001b[0m\u001b[22m01-17 19:02:49 doltpy.core.system_helpers INFO     No processes to clean up, exiting\u001b[0m\n"
     ]
    },
    {
     "name": "stdout",
     "output_type": "stream",
     "text": [
      "\u001b[35m2021-01-17 19:02:50.034 \u001b[0m\u001b[32m[1610938965767319/middle/2 (pid 31709)] \u001b[0m\u001b[1mTask finished successfully.\u001b[0m\n",
      "\u001b[35m2021-01-17 19:02:50.042 \u001b[0m\u001b[32m[1610938965767319/end/3 (pid 31749)] \u001b[0m\u001b[1mTask is starting.\u001b[0m\n",
      "\u001b[35m2021-01-17 19:02:51.212 \u001b[0m\u001b[32m[1610938965767319/end/3 (pid 31749)] \u001b[0m\u001b[22m01-17 19:02:51 doltpy.core.system_helpers INFO     Before exiting cleaning up child processes\u001b[0m\n",
      "\u001b[35m2021-01-17 19:02:51.219 \u001b[0m\u001b[32m[1610938965767319/end/3 (pid 31749)] \u001b[0m\u001b[22m01-17 19:02:51 doltpy.core.system_helpers INFO     No processes to clean up, exiting\u001b[0m\n",
      "\u001b[35m2021-01-17 19:02:51.378 \u001b[0m\u001b[32m[1610938965767319/end/3 (pid 31749)] \u001b[0m\u001b[1mTask finished successfully.\u001b[0m\n",
      "\u001b[35m2021-01-17 19:02:51.378 \u001b[0m\u001b[1mDone!\u001b[0m\n",
      "01-17 19:02:51 doltpy.core.system_helpers INFO     Before exiting cleaning up child processes\n",
      "01-17 19:02:51 doltpy.core.system_helpers INFO     No processes to clean up, exiting\n"
     ]
    }
   ],
   "source": [
    "!poetry run python3 demo.py run --bar-version $v2"
   ]
  },
  {
   "cell_type": "code",
   "execution_count": 30,
   "id": "modern-baghdad",
   "metadata": {},
   "outputs": [
    {
     "name": "stdout",
     "output_type": "stream",
     "text": [
      "\u001b[33mcommit ttd37vr2p5h9j6ormidbn0u7ojubbetg\u001b[0m\r\n",
      "Author: Max Hoffman <maximilian.wolfgang1@gmail.com>\r\n",
      "Date:   Sun Jan 17 19:02:49 -0800 2021\r\n",
      "\r\n",
      "\tVersioningDemo/1610938965767319/middle/2\r\n",
      "\r\n"
     ]
    }
   ],
   "source": [
    "!cd foo && dolt log -n 1"
   ]
  },
  {
   "cell_type": "code",
   "execution_count": 31,
   "id": "frequent-production",
   "metadata": {},
   "outputs": [],
   "source": [
    "run2_id = \"1610938965767319\""
   ]
  },
  {
   "cell_type": "code",
   "execution_count": 32,
   "id": "growing-nerve",
   "metadata": {},
   "outputs": [
    {
     "name": "stdout",
     "output_type": "stream",
     "text": [
      "foo 01pnohoe7p3tevbg6u35k36a4ljobqjb baz\n",
      "foo ttd37vr2p5h9j6ormidbn0u7ojubbetg baz\n"
     ]
    }
   ],
   "source": [
    "from metaflow.datatools.dolt import DoltDT, DoltRun\n",
    "d1 = DoltRun(flow_name=\"VersioningDemo\", run_id=run1_id)\n",
    "d2 = DoltRun(flow_name=\"VersioningDemo\", run_id=run2_id)\n",
    "\n",
    "res1 = d1.writes[0].data\n",
    "res2 = d2.writes[0].data"
   ]
  },
  {
   "cell_type": "code",
   "execution_count": 33,
   "id": "insured-mother",
   "metadata": {},
   "outputs": [
    {
     "data": {
      "text/html": [
       "<div>\n",
       "<style scoped>\n",
       "    .dataframe tbody tr th:only-of-type {\n",
       "        vertical-align: middle;\n",
       "    }\n",
       "\n",
       "    .dataframe tbody tr th {\n",
       "        vertical-align: top;\n",
       "    }\n",
       "\n",
       "    .dataframe thead th {\n",
       "        text-align: right;\n",
       "    }\n",
       "</style>\n",
       "<table border=\"1\" class=\"dataframe\">\n",
       "  <thead>\n",
       "    <tr style=\"text-align: right;\">\n",
       "      <th></th>\n",
       "      <th>index</th>\n",
       "      <th>A</th>\n",
       "      <th>B</th>\n",
       "    </tr>\n",
       "  </thead>\n",
       "  <tbody>\n",
       "    <tr>\n",
       "      <th>0</th>\n",
       "      <td>0</td>\n",
       "      <td>1</td>\n",
       "      <td>11</td>\n",
       "    </tr>\n",
       "    <tr>\n",
       "      <th>1</th>\n",
       "      <td>1</td>\n",
       "      <td>1</td>\n",
       "      <td>11</td>\n",
       "    </tr>\n",
       "    <tr>\n",
       "      <th>2</th>\n",
       "      <td>2</td>\n",
       "      <td>1</td>\n",
       "      <td>11</td>\n",
       "    </tr>\n",
       "  </tbody>\n",
       "</table>\n",
       "</div>"
      ],
      "text/plain": [
       "  index  A   B\n",
       "0     0  1  11\n",
       "1     1  1  11\n",
       "2     2  1  11"
      ]
     },
     "execution_count": 33,
     "metadata": {},
     "output_type": "execute_result"
    }
   ],
   "source": [
    "res1"
   ]
  },
  {
   "cell_type": "code",
   "execution_count": 34,
   "id": "flush-introduction",
   "metadata": {},
   "outputs": [
    {
     "data": {
      "text/html": [
       "<div>\n",
       "<style scoped>\n",
       "    .dataframe tbody tr th:only-of-type {\n",
       "        vertical-align: middle;\n",
       "    }\n",
       "\n",
       "    .dataframe tbody tr th {\n",
       "        vertical-align: top;\n",
       "    }\n",
       "\n",
       "    .dataframe thead th {\n",
       "        text-align: right;\n",
       "    }\n",
       "</style>\n",
       "<table border=\"1\" class=\"dataframe\">\n",
       "  <thead>\n",
       "    <tr style=\"text-align: right;\">\n",
       "      <th></th>\n",
       "      <th>index</th>\n",
       "      <th>A</th>\n",
       "      <th>B</th>\n",
       "    </tr>\n",
       "  </thead>\n",
       "  <tbody>\n",
       "    <tr>\n",
       "      <th>0</th>\n",
       "      <td>0</td>\n",
       "      <td>1</td>\n",
       "      <td>11</td>\n",
       "    </tr>\n",
       "    <tr>\n",
       "      <th>1</th>\n",
       "      <td>1</td>\n",
       "      <td>1</td>\n",
       "      <td>11</td>\n",
       "    </tr>\n",
       "    <tr>\n",
       "      <th>2</th>\n",
       "      <td>2</td>\n",
       "      <td>1</td>\n",
       "      <td>11</td>\n",
       "    </tr>\n",
       "    <tr>\n",
       "      <th>3</th>\n",
       "      <td>3</td>\n",
       "      <td>2</td>\n",
       "      <td>22</td>\n",
       "    </tr>\n",
       "    <tr>\n",
       "      <th>4</th>\n",
       "      <td>4</td>\n",
       "      <td>2</td>\n",
       "      <td>22</td>\n",
       "    </tr>\n",
       "    <tr>\n",
       "      <th>5</th>\n",
       "      <td>5</td>\n",
       "      <td>2</td>\n",
       "      <td>22</td>\n",
       "    </tr>\n",
       "  </tbody>\n",
       "</table>\n",
       "</div>"
      ],
      "text/plain": [
       "  index  A   B\n",
       "0     0  1  11\n",
       "1     1  1  11\n",
       "2     2  1  11\n",
       "3     3  2  22\n",
       "4     4  2  22\n",
       "5     5  2  22"
      ]
     },
     "execution_count": 34,
     "metadata": {},
     "output_type": "execute_result"
    }
   ],
   "source": [
    "res2"
   ]
  },
  {
   "cell_type": "code",
   "execution_count": null,
   "id": "written-honduras",
   "metadata": {},
   "outputs": [],
   "source": []
  }
 ],
 "metadata": {
  "kernelspec": {
   "display_name": "Python 3",
   "language": "python",
   "name": "python3"
  },
  "language_info": {
   "codemirror_mode": {
    "name": "ipython",
    "version": 3
   },
   "file_extension": ".py",
   "mimetype": "text/x-python",
   "name": "python",
   "nbconvert_exporter": "python",
   "pygments_lexer": "ipython3",
   "version": "3.8.2"
  }
 },
 "nbformat": 4,
 "nbformat_minor": 5
}
