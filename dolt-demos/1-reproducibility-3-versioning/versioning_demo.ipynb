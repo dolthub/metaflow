{
 "cells": [
  {
   "cell_type": "markdown",
   "id": "sweet-speaker",
   "metadata": {},
   "source": [
    "# Reproducibility: versioning\n",
    "\n",
    "1. Create two versions of a dataframe (v1, v2)\n",
    "2. Commit both to dolt as table: `bar` -> get two commit references\n",
    "3. Run Flow with two different versions of `bar` (parameter to specify)\n",
    "4. Read and the results table `baz` for the two runs given the `run_id`'s"
   ]
  },
  {
   "cell_type": "code",
   "execution_count": 26,
   "id": "equipped-valve",
   "metadata": {},
   "outputs": [
    {
     "name": "stderr",
     "output_type": "stream",
     "text": [
      "01-15 11:28:25 doltpy.core.dolt INFO     Creating directory foo\n",
      "01-15 11:28:25 doltpy.core.dolt INFO     Creating a new repo in foo\n"
     ]
    },
    {
     "name": "stdout",
     "output_type": "stream",
     "text": [
      "['dolt', 'init']\n",
      "/Users/max-hoffman/Documents/sandbox/dolt/metaflow/dolt-demos/1-reproducibility-3-versioning\n"
     ]
    },
    {
     "name": "stderr",
     "output_type": "stream",
     "text": [
      "01-15 11:28:26 doltpy.core.dolt INFO     Creating engine for Dolt SQL Server instance running on 127.0.0.1:3306\n",
      "01-15 11:28:26 doltpy.core.write.write INFO     Importing to table bar in dolt directory located in foo, import mode create\n",
      "01-15 11:28:26 doltpy.core.dolt INFO     Rows Processed: 3, Additions: 3, Modifications: 0, Had No Effect: 0\n",
      "01-15 11:28:26 doltpy.core.dolt INFO     \n"
     ]
    },
    {
     "name": "stdout",
     "output_type": "stream",
     "text": [
      "['dolt', 'table', 'import', 'bar', '-c', '--pk=index', '/var/folders/05/c0ll_wxd26j61fntnymm2k8c0000gn/T/tmp7n9hee1m.csv']\n",
      "/Users/max-hoffman/Documents/sandbox/dolt/metaflow/dolt-demos/1-reproducibility-3-versioning\n",
      "['dolt', 'add', 'bar']\n",
      "/Users/max-hoffman/Documents/sandbox/dolt/metaflow/dolt-demos/1-reproducibility-3-versioning\n",
      "['dolt', 'status']\n",
      "/Users/max-hoffman/Documents/sandbox/dolt/metaflow/dolt-demos/1-reproducibility-3-versioning\n",
      "['dolt', 'commit', '-m', 'Initialize bar']\n",
      "/Users/max-hoffman/Documents/sandbox/dolt/metaflow/dolt-demos/1-reproducibility-3-versioning\n"
     ]
    },
    {
     "name": "stderr",
     "output_type": "stream",
     "text": [
      "01-15 11:28:26 doltpy.core.dolt INFO     commit skhib94eki65s6gofrrs4cb7fqt6dldm\n",
      "Author: Max Hoffman <maximilian.wolfgang1@gmail.com>\n",
      "Date:   Fri Jan 15 11:28:26 -0800 2021\n",
      "\n",
      "\tInitialize bar\n",
      "\n",
      "\n"
     ]
    }
   ],
   "source": [
    "import pandas as pd\n",
    "from doltpy.core import Dolt\n",
    "from doltpy.core.write import import_df\n",
    "\n",
    "dolt = Dolt.init(\"foo\")\n",
    "\n",
    "v1 = pd.DataFrame({\"A\": [1,1,1], \"B\": [1,1,1]})\n",
    "v2 = pd.DataFrame({\"A\": [1,1,1,2,2,2], \"B\": [1,1,1,2,2,2]})\n",
    "\n",
    "import_df(dolt, \"bar\", v1.reset_index(), [\"index\"], \"create\")\n",
    "dolt.add(\"bar\")\n",
    "dolt.commit(\"Initialize bar\")"
   ]
  },
  {
   "cell_type": "code",
   "execution_count": 27,
   "id": "documentary-terminology",
   "metadata": {},
   "outputs": [
    {
     "name": "stdout",
     "output_type": "stream",
     "text": [
      "\u001b[33mcommit skhib94eki65s6gofrrs4cb7fqt6dldm\u001b[0m\r\n",
      "Author: Max Hoffman <maximilian.wolfgang1@gmail.com>\r\n",
      "Date:   Fri Jan 15 11:28:26 -0800 2021\r\n",
      "\r\n",
      "\tInitialize bar\r\n",
      "\r\n"
     ]
    }
   ],
   "source": [
    "!cd foo && dolt log -n 1"
   ]
  },
  {
   "cell_type": "code",
   "execution_count": 28,
   "id": "compound-summer",
   "metadata": {},
   "outputs": [],
   "source": [
    "# TODO: set this\n",
    "v1 = \"skhib94eki65s6gofrrs4cb7fqt6dldm\""
   ]
  },
  {
   "cell_type": "code",
   "execution_count": 29,
   "id": "large-undergraduate",
   "metadata": {},
   "outputs": [
    {
     "name": "stderr",
     "output_type": "stream",
     "text": [
      "01-15 11:28:37 doltpy.core.write.write INFO     Importing to table bar in dolt directory located in foo, import mode update\n",
      "01-15 11:28:37 doltpy.core.dolt INFO     Rows Processed: 6, Additions: 3, Modifications: 0, Had No Effect: 3\n",
      "01-15 11:28:37 doltpy.core.dolt INFO     \n"
     ]
    },
    {
     "name": "stdout",
     "output_type": "stream",
     "text": [
      "['dolt', 'table', 'import', 'bar', '-u', '/var/folders/05/c0ll_wxd26j61fntnymm2k8c0000gn/T/tmpzs2o5u7h.csv']\n",
      "/Users/max-hoffman/Documents/sandbox/dolt/metaflow/dolt-demos/1-reproducibility-3-versioning\n",
      "['dolt', 'add', 'bar']\n",
      "/Users/max-hoffman/Documents/sandbox/dolt/metaflow/dolt-demos/1-reproducibility-3-versioning\n",
      "['dolt', 'status']\n",
      "/Users/max-hoffman/Documents/sandbox/dolt/metaflow/dolt-demos/1-reproducibility-3-versioning\n",
      "['dolt', 'commit', '-m', 'Add rows to bar']\n",
      "/Users/max-hoffman/Documents/sandbox/dolt/metaflow/dolt-demos/1-reproducibility-3-versioning\n"
     ]
    },
    {
     "name": "stderr",
     "output_type": "stream",
     "text": [
      "01-15 11:28:37 doltpy.core.dolt INFO     commit tgf2dkad1dgnu9067rodchr7p225q1ce\n",
      "Author: Max Hoffman <maximilian.wolfgang1@gmail.com>\n",
      "Date:   Fri Jan 15 11:28:37 -0800 2021\n",
      "\n",
      "\tAdd rows to bar\n",
      "\n",
      "\n"
     ]
    }
   ],
   "source": [
    "import_df(dolt, \"bar\", v2.reset_index(), [\"index\"], \"update\")\n",
    "dolt.add(\"bar\")\n",
    "dolt.commit(\"Add rows to bar\")"
   ]
  },
  {
   "cell_type": "code",
   "execution_count": 30,
   "id": "laughing-disco",
   "metadata": {},
   "outputs": [
    {
     "name": "stdout",
     "output_type": "stream",
     "text": [
      "\u001b[33mcommit tgf2dkad1dgnu9067rodchr7p225q1ce\u001b[0m\r\n",
      "Author: Max Hoffman <maximilian.wolfgang1@gmail.com>\r\n",
      "Date:   Fri Jan 15 11:28:37 -0800 2021\r\n",
      "\r\n",
      "\tAdd rows to bar\r\n",
      "\r\n"
     ]
    }
   ],
   "source": [
    "!cd foo && dolt log -n 1"
   ]
  },
  {
   "cell_type": "code",
   "execution_count": 31,
   "id": "advanced-reggae",
   "metadata": {},
   "outputs": [],
   "source": [
    "# TODO: set this\n",
    "v2 = \"tgf2dkad1dgnu9067rodchr7p225q1ce\""
   ]
  },
  {
   "cell_type": "code",
   "execution_count": 49,
   "id": "public-terminal",
   "metadata": {},
   "outputs": [
    {
     "name": "stdout",
     "output_type": "stream",
     "text": [
      "import pickle\r\n",
      "\r\n",
      "from metaflow import FlowSpec, step, DoltDT, Parameter\r\n",
      "import pandas as pd\r\n",
      "from sklearn import tree\r\n",
      "\r\n",
      "class VersioningDemo(FlowSpec):\r\n",
      "    bar_version = Parameter('bar-version',  help=\"Specifc the tag for the input version\", required=True)\r\n",
      "    @step\r\n",
      "    def start(self):\r\n",
      "        with DoltDT(run=self, doltdb_path='foo', branch=self.bar_version) as dolt:\r\n",
      "            self.df = dolt.read_table('bar')\r\n",
      "\r\n",
      "        self.next(self.middle)\r\n",
      "\r\n",
      "    @step\r\n",
      "    def middle(self):\r\n",
      "        with DoltDT(run=self, doltdb_path='foo', branch=self.bar_version) as dolt:\r\n",
      "\r\n",
      "            df = self.df\r\n",
      "            df[\"B\"] = df[\"B\"].map(lambda x: x*2)\r\n",
      "\r\n",
      "            dolt.write_table(table_name='baz', df=df, pks=['index'])\r\n",
      "\r\n",
      "        self.next(self.end)\r\n",
      "\r\n",
      "    @step\r\n",
      "    def end(self):\r\n",
      "        pass\r\n",
      "\r\n",
      "\r\n",
      "if __name__ == '__main__':\r\n",
      "    VersioningDemo()\r\n"
     ]
    }
   ],
   "source": [
    "! cat demo.py"
   ]
  },
  {
   "cell_type": "code",
   "execution_count": 40,
   "id": "tested-photography",
   "metadata": {},
   "outputs": [
    {
     "name": "stdout",
     "output_type": "stream",
     "text": [
      "\u001b[35m\u001b[1mMetaflow 2.2.5.post18+gitfd0fb04\u001b[0m\u001b[35m\u001b[22m executing \u001b[0m\u001b[31m\u001b[1mVersioningDemo\u001b[0m\u001b[35m\u001b[22m\u001b[0m\u001b[35m\u001b[22m for \u001b[0m\u001b[31m\u001b[1muser:max-hoffman\u001b[0m\u001b[35m\u001b[22m\u001b[K\u001b[0m\u001b[35m\u001b[22m\u001b[0m\n",
      "\u001b[35m\u001b[22mValidating your flow...\u001b[K\u001b[0m\u001b[35m\u001b[22m\u001b[0m\n",
      "\u001b[32m\u001b[1m    The graph looks good!\u001b[K\u001b[0m\u001b[32m\u001b[1m\u001b[0m\n",
      "\u001b[35m\u001b[22mRunning pylint...\u001b[K\u001b[0m\u001b[35m\u001b[22m\u001b[0m\n",
      "\u001b[32m\u001b[1m    Pylint is happy!\u001b[K\u001b[0m\u001b[32m\u001b[1m\u001b[0m\n",
      "\u001b[35m2021-01-15 11:32:04.780 \u001b[0m\u001b[1mWorkflow starting (run-id 1610739124772933):\u001b[0m\n",
      "\u001b[35m2021-01-15 11:32:04.787 \u001b[0m\u001b[32m[1610739124772933/start/1 (pid 10302)] \u001b[0m\u001b[1mTask is starting.\u001b[0m\n",
      "\u001b[35m2021-01-15 11:32:06.066 \u001b[0m\u001b[32m[1610739124772933/start/1 (pid 10302)] \u001b[0m\u001b[22m01-15 11:32:06 doltpy.core.dolt INFO     Creating engine for Dolt SQL Server instance running on 127.0.0.1:3306\u001b[0m\n",
      "\u001b[35m2021-01-15 11:32:06.159 \u001b[0m\u001b[32m[1610739124772933/start/1 (pid 10302)] \u001b[0m\u001b[22m01-15 11:32:06 doltpy.core.dolt INFO       master                                        \ttgf2dkad1dgnu9067rodchr7p225q1ce\u001b[0m\n",
      "\u001b[35m2021-01-15 11:32:06.296 \u001b[0m\u001b[32m[1610739124772933/start/1 (pid 10302)] \u001b[0m\u001b[22m  tmp_1018977351311987979                       \tbh0o9vs96nh3u0ae6kiqn03cg6j72l1q\u001b[0m\n",
      "\u001b[35m2021-01-15 11:32:06.296 \u001b[0m\u001b[32m[1610739124772933/start/1 (pid 10302)] \u001b[0m\u001b[22m  tmp_12856210901849877287                      \ttgf2dkad1dgnu9067rodchr7p225q1ce\u001b[0m\n",
      "\u001b[35m2021-01-15 11:32:06.297 \u001b[0m\u001b[32m[1610739124772933/start/1 (pid 10302)] \u001b[0m\u001b[22m  tmp_29747918150139222007                      \ttgf2dkad1dgnu9067rodchr7p225q1ce\u001b[0m\n",
      "\u001b[35m2021-01-15 11:32:06.297 \u001b[0m\u001b[32m[1610739124772933/start/1 (pid 10302)] \u001b[0m\u001b[22m  tmp_68432860454557606248                      \tg3vutit9tvje18e0k2rtefudsi3s2m01\u001b[0m\n",
      "\u001b[35m2021-01-15 11:32:06.297 \u001b[0m\u001b[32m[1610739124772933/start/1 (pid 10302)] \u001b[0m\u001b[22m* tmp_7428457039860019215                       \tr055r4ur5qm96gtekdr096ah7pq9t8tq\u001b[0m\n",
      "\u001b[35m2021-01-15 11:32:06.297 \u001b[0m\u001b[32m[1610739124772933/start/1 (pid 10302)] \u001b[0m\u001b[22m  tmp_99775912141817850388                      \tskhib94eki65s6gofrrs4cb7fqt6dldm\u001b[0m\n",
      "\u001b[35m2021-01-15 11:32:06.297 \u001b[0m\u001b[32m[1610739124772933/start/1 (pid 10302)] \u001b[0m\u001b[22m\u001b[0m\n",
      "\u001b[35m2021-01-15 11:32:06.298 \u001b[0m\u001b[32m[1610739124772933/start/1 (pid 10302)] \u001b[0m\u001b[22m01-15 11:32:06 doltpy.core.dolt INFO     Switched to branch 'tmp_74549267022466356033'\u001b[0m\n",
      "\u001b[35m2021-01-15 11:32:06.406 \u001b[0m\u001b[32m[1610739124772933/start/1 (pid 10302)] \u001b[0m\u001b[22m\u001b[0m\n",
      "\u001b[35m2021-01-15 11:32:06.406 \u001b[0m\u001b[32m[1610739124772933/start/1 (pid 10302)] \u001b[0m\u001b[22m01-15 11:32:06 doltpy.core.dolt INFO\u001b[0m\n",
      "\u001b[35m2021-01-15 11:32:06.504 \u001b[0m\u001b[32m[1610739124772933/start/1 (pid 10302)] \u001b[0m\u001b[22m01-15 11:32:06 doltpy.core.system_helpers INFO     Before exiting cleaning up child processes\u001b[0m\n",
      "\u001b[35m2021-01-15 11:32:06.516 \u001b[0m\u001b[32m[1610739124772933/start/1 (pid 10302)] \u001b[0m\u001b[22m01-15 11:32:06 doltpy.core.system_helpers INFO     No processes to clean up, exiting\u001b[0m\n",
      "\u001b[35m2021-01-15 11:32:06.703 \u001b[0m\u001b[32m[1610739124772933/start/1 (pid 10302)] \u001b[0m\u001b[1mTask finished successfully.\u001b[0m\n",
      "\u001b[35m2021-01-15 11:32:06.710 \u001b[0m\u001b[32m[1610739124772933/middle/2 (pid 10325)] \u001b[0m\u001b[1mTask is starting.\u001b[0m\n",
      "\u001b[35m2021-01-15 11:32:08.009 \u001b[0m\u001b[32m[1610739124772933/middle/2 (pid 10325)] \u001b[0m\u001b[22m01-15 11:32:08 doltpy.core.dolt INFO     Creating engine for Dolt SQL Server instance running on 127.0.0.1:3306\u001b[0m\n",
      "\u001b[35m2021-01-15 11:32:08.107 \u001b[0m\u001b[32m[1610739124772933/middle/2 (pid 10325)] \u001b[0m\u001b[22m01-15 11:32:08 doltpy.core.dolt INFO       master                                        \ttgf2dkad1dgnu9067rodchr7p225q1ce\u001b[0m\n",
      "\u001b[35m2021-01-15 11:32:08.247 \u001b[0m\u001b[32m[1610739124772933/middle/2 (pid 10325)] \u001b[0m\u001b[22m  tmp_1018977351311987979                       \tbh0o9vs96nh3u0ae6kiqn03cg6j72l1q\u001b[0m\n",
      "\u001b[35m2021-01-15 11:32:08.247 \u001b[0m\u001b[32m[1610739124772933/middle/2 (pid 10325)] \u001b[0m\u001b[22m  tmp_12856210901849877287                      \ttgf2dkad1dgnu9067rodchr7p225q1ce\u001b[0m\n",
      "\u001b[35m2021-01-15 11:32:08.247 \u001b[0m\u001b[32m[1610739124772933/middle/2 (pid 10325)] \u001b[0m\u001b[22m  tmp_29747918150139222007                      \ttgf2dkad1dgnu9067rodchr7p225q1ce\u001b[0m\n",
      "\u001b[35m2021-01-15 11:32:08.247 \u001b[0m\u001b[32m[1610739124772933/middle/2 (pid 10325)] \u001b[0m\u001b[22m  tmp_68432860454557606248                      \tg3vutit9tvje18e0k2rtefudsi3s2m01\u001b[0m\n",
      "\u001b[35m2021-01-15 11:32:08.247 \u001b[0m\u001b[32m[1610739124772933/middle/2 (pid 10325)] \u001b[0m\u001b[22m  tmp_7428457039860019215                       \tr055r4ur5qm96gtekdr096ah7pq9t8tq\u001b[0m\n",
      "\u001b[35m2021-01-15 11:32:08.248 \u001b[0m\u001b[32m[1610739124772933/middle/2 (pid 10325)] \u001b[0m\u001b[22m* tmp_74549267022466356033                      \tskhib94eki65s6gofrrs4cb7fqt6dldm\u001b[0m\n",
      "\u001b[35m2021-01-15 11:32:08.248 \u001b[0m\u001b[32m[1610739124772933/middle/2 (pid 10325)] \u001b[0m\u001b[22m  tmp_99775912141817850388                      \tskhib94eki65s6gofrrs4cb7fqt6dldm\u001b[0m\n",
      "\u001b[35m2021-01-15 11:32:08.248 \u001b[0m\u001b[32m[1610739124772933/middle/2 (pid 10325)] \u001b[0m\u001b[22m\u001b[0m\n",
      "\u001b[35m2021-01-15 11:32:08.248 \u001b[0m\u001b[32m[1610739124772933/middle/2 (pid 10325)] \u001b[0m\u001b[22m01-15 11:32:08 doltpy.core.dolt INFO     Switched to branch 'tmp_97227446906231499282'\u001b[0m\n",
      "\u001b[35m2021-01-15 11:32:08.364 \u001b[0m\u001b[32m[1610739124772933/middle/2 (pid 10325)] \u001b[0m\u001b[22m\u001b[0m\n",
      "\u001b[35m2021-01-15 11:32:08.364 \u001b[0m\u001b[32m[1610739124772933/middle/2 (pid 10325)] \u001b[0m\u001b[22m01-15 11:32:08 doltpy.core.write.write INFO     No import mode specified, table exists, using \"create\"\u001b[0m\n",
      "\u001b[35m2021-01-15 11:32:08.471 \u001b[0m\u001b[32m[1610739124772933/middle/2 (pid 10325)] \u001b[0m\u001b[22m01-15 11:32:08 doltpy.core.write.write INFO     Importing to table baz in dolt directory located in foo, import mode create\u001b[0m\n",
      "\u001b[35m2021-01-15 11:32:08.472 \u001b[0m\u001b[32m[1610739124772933/middle/2 (pid 10325)] \u001b[0m\u001b[22m01-15 11:32:08 doltpy.core.dolt INFO     Rows Processed: 3, Additions: 3, Modifications: 0, Had No Effect: 0\u001b[0m\n",
      "\u001b[35m2021-01-15 11:32:08.525 \u001b[0m\u001b[32m[1610739124772933/middle/2 (pid 10325)] \u001b[0m\u001b[22m01-15 11:32:08 doltpy.core.dolt INFO\u001b[0m\n",
      "\u001b[35m2021-01-15 11:32:08.623 \u001b[0m\u001b[32m[1610739124772933/middle/2 (pid 10325)] \u001b[0m\u001b[22m01-15 11:32:08 doltpy.core.dolt INFO\u001b[0m\n",
      "\u001b[35m2021-01-15 11:32:08.730 \u001b[0m\u001b[32m[1610739124772933/middle/2 (pid 10325)] \u001b[0m\u001b[22m01-15 11:32:08 doltpy.core.dolt INFO     commit pv4s3bpopnf8b5l9n579298r1vdjknb5\u001b[0m\n",
      "\u001b[35m2021-01-15 11:32:08.866 \u001b[0m\u001b[32m[1610739124772933/middle/2 (pid 10325)] \u001b[0m\u001b[22mAuthor: Max Hoffman <maximilian.wolfgang1@gmail.com>\u001b[0m\n",
      "\u001b[35m2021-01-15 11:32:08.867 \u001b[0m\u001b[32m[1610739124772933/middle/2 (pid 10325)] \u001b[0m\u001b[22mDate:   Fri Jan 15 11:32:08 -0800 2021\u001b[0m\n",
      "\u001b[35m2021-01-15 11:32:08.867 \u001b[0m\u001b[32m[1610739124772933/middle/2 (pid 10325)] \u001b[0m\u001b[22m\u001b[0m\n",
      "\u001b[35m2021-01-15 11:32:08.867 \u001b[0m\u001b[32m[1610739124772933/middle/2 (pid 10325)] \u001b[0m\u001b[22m\tVersioningDemo/1610739124772933/middle/2\u001b[0m\n",
      "\u001b[35m2021-01-15 11:32:08.867 \u001b[0m\u001b[32m[1610739124772933/middle/2 (pid 10325)] \u001b[0m\u001b[22m\u001b[0m\n",
      "\u001b[35m2021-01-15 11:32:08.867 \u001b[0m\u001b[32m[1610739124772933/middle/2 (pid 10325)] \u001b[0m\u001b[22m\u001b[0m\n",
      "\u001b[35m2021-01-15 11:32:08.867 \u001b[0m\u001b[32m[1610739124772933/middle/2 (pid 10325)] \u001b[0m\u001b[22m01-15 11:32:08 doltpy.core.dolt INFO       master                                        \ttgf2dkad1dgnu9067rodchr7p225q1ce\u001b[0m\n",
      "\u001b[35m2021-01-15 11:32:08.947 \u001b[0m\u001b[32m[1610739124772933/middle/2 (pid 10325)] \u001b[0m\u001b[22m  tmp_1018977351311987979                       \tbh0o9vs96nh3u0ae6kiqn03cg6j72l1q\u001b[0m\n",
      "\u001b[35m2021-01-15 11:32:08.947 \u001b[0m\u001b[32m[1610739124772933/middle/2 (pid 10325)] \u001b[0m\u001b[22m  tmp_12856210901849877287                      \ttgf2dkad1dgnu9067rodchr7p225q1ce\u001b[0m\n",
      "\u001b[35m2021-01-15 11:32:08.947 \u001b[0m\u001b[32m[1610739124772933/middle/2 (pid 10325)] \u001b[0m\u001b[22m  tmp_29747918150139222007                      \ttgf2dkad1dgnu9067rodchr7p225q1ce\u001b[0m\n",
      "\u001b[35m2021-01-15 11:32:08.947 \u001b[0m\u001b[32m[1610739124772933/middle/2 (pid 10325)] \u001b[0m\u001b[22m  tmp_68432860454557606248                      \tg3vutit9tvje18e0k2rtefudsi3s2m01\u001b[0m\n",
      "\u001b[35m2021-01-15 11:32:08.947 \u001b[0m\u001b[32m[1610739124772933/middle/2 (pid 10325)] \u001b[0m\u001b[22m  tmp_7428457039860019215                       \tr055r4ur5qm96gtekdr096ah7pq9t8tq\u001b[0m\n",
      "\u001b[35m2021-01-15 11:32:08.948 \u001b[0m\u001b[32m[1610739124772933/middle/2 (pid 10325)] \u001b[0m\u001b[22m  tmp_74549267022466356033                      \tskhib94eki65s6gofrrs4cb7fqt6dldm\u001b[0m\n",
      "\u001b[35m2021-01-15 11:32:08.948 \u001b[0m\u001b[32m[1610739124772933/middle/2 (pid 10325)] \u001b[0m\u001b[22m* tmp_97227446906231499282                      \tpv4s3bpopnf8b5l9n579298r1vdjknb5\u001b[0m\n",
      "\u001b[35m2021-01-15 11:32:08.948 \u001b[0m\u001b[32m[1610739124772933/middle/2 (pid 10325)] \u001b[0m\u001b[22m  tmp_99775912141817850388                      \tskhib94eki65s6gofrrs4cb7fqt6dldm\u001b[0m\n",
      "\u001b[35m2021-01-15 11:32:08.948 \u001b[0m\u001b[32m[1610739124772933/middle/2 (pid 10325)] \u001b[0m\u001b[22m\u001b[0m\n",
      "\u001b[35m2021-01-15 11:32:08.948 \u001b[0m\u001b[32m[1610739124772933/middle/2 (pid 10325)] \u001b[0m\u001b[22m01-15 11:32:08 doltpy.core.system_helpers INFO     Before exiting cleaning up child processes\u001b[0m\n",
      "\u001b[35m2021-01-15 11:32:08.957 \u001b[0m\u001b[32m[1610739124772933/middle/2 (pid 10325)] \u001b[0m\u001b[22m01-15 11:32:08 doltpy.core.system_helpers INFO     No processes to clean up, exiting\u001b[0m\n"
     ]
    },
    {
     "name": "stdout",
     "output_type": "stream",
     "text": [
      "\u001b[35m2021-01-15 11:32:09.150 \u001b[0m\u001b[32m[1610739124772933/middle/2 (pid 10325)] \u001b[0m\u001b[1mTask finished successfully.\u001b[0m\n",
      "\u001b[35m2021-01-15 11:32:09.157 \u001b[0m\u001b[32m[1610739124772933/end/3 (pid 10367)] \u001b[0m\u001b[1mTask is starting.\u001b[0m\n",
      "\u001b[35m2021-01-15 11:32:10.488 \u001b[0m\u001b[32m[1610739124772933/end/3 (pid 10367)] \u001b[0m\u001b[22m01-15 11:32:10 doltpy.core.system_helpers INFO     Before exiting cleaning up child processes\u001b[0m\n",
      "\u001b[35m2021-01-15 11:32:10.496 \u001b[0m\u001b[32m[1610739124772933/end/3 (pid 10367)] \u001b[0m\u001b[22m01-15 11:32:10 doltpy.core.system_helpers INFO     No processes to clean up, exiting\u001b[0m\n",
      "\u001b[35m2021-01-15 11:32:10.680 \u001b[0m\u001b[32m[1610739124772933/end/3 (pid 10367)] \u001b[0m\u001b[1mTask finished successfully.\u001b[0m\n",
      "\u001b[35m2021-01-15 11:32:10.680 \u001b[0m\u001b[1mDone!\u001b[0m\n",
      "01-15 11:32:10 doltpy.core.system_helpers INFO     Before exiting cleaning up child processes\n",
      "01-15 11:32:10 doltpy.core.system_helpers INFO     No processes to clean up, exiting\n"
     ]
    }
   ],
   "source": [
    "!poetry run python3 demo.py run --bar-version skhib94eki65s6gofrrs4cb7fqt6dldm"
   ]
  },
  {
   "cell_type": "code",
   "execution_count": 41,
   "id": "established-scanning",
   "metadata": {},
   "outputs": [
    {
     "name": "stdout",
     "output_type": "stream",
     "text": [
      "\u001b[33mcommit pv4s3bpopnf8b5l9n579298r1vdjknb5\u001b[0m\r\n",
      "Author: Max Hoffman <maximilian.wolfgang1@gmail.com>\r\n",
      "Date:   Fri Jan 15 11:32:08 -0800 2021\r\n",
      "\r\n",
      "\tVersioningDemo/1610739124772933/middle/2\r\n",
      "\r\n"
     ]
    }
   ],
   "source": [
    "!cd foo && dolt log -n 1"
   ]
  },
  {
   "cell_type": "code",
   "execution_count": 42,
   "id": "instructional-resort",
   "metadata": {},
   "outputs": [],
   "source": [
    "# save for later\n",
    "run1 = \"VersioningDemo/1610739124772933\""
   ]
  },
  {
   "cell_type": "code",
   "execution_count": 43,
   "id": "gentle-forest",
   "metadata": {},
   "outputs": [
    {
     "name": "stdout",
     "output_type": "stream",
     "text": [
      "\u001b[35m\u001b[1mMetaflow 2.2.5.post18+gitfd0fb04\u001b[0m\u001b[35m\u001b[22m executing \u001b[0m\u001b[31m\u001b[1mVersioningDemo\u001b[0m\u001b[35m\u001b[22m\u001b[0m\u001b[35m\u001b[22m for \u001b[0m\u001b[31m\u001b[1muser:max-hoffman\u001b[0m\u001b[35m\u001b[22m\u001b[K\u001b[0m\u001b[35m\u001b[22m\u001b[0m\n",
      "\u001b[35m\u001b[22mValidating your flow...\u001b[K\u001b[0m\u001b[35m\u001b[22m\u001b[0m\n",
      "\u001b[32m\u001b[1m    The graph looks good!\u001b[K\u001b[0m\u001b[32m\u001b[1m\u001b[0m\n",
      "\u001b[35m\u001b[22mRunning pylint...\u001b[K\u001b[0m\u001b[35m\u001b[22m\u001b[0m\n",
      "\u001b[32m\u001b[1m    Pylint is happy!\u001b[K\u001b[0m\u001b[32m\u001b[1m\u001b[0m\n",
      "\u001b[35m2021-01-15 11:32:30.116 \u001b[0m\u001b[1mWorkflow starting (run-id 1610739150109964):\u001b[0m\n",
      "\u001b[35m2021-01-15 11:32:30.124 \u001b[0m\u001b[32m[1610739150109964/start/1 (pid 10386)] \u001b[0m\u001b[1mTask is starting.\u001b[0m\n",
      "\u001b[35m2021-01-15 11:32:31.334 \u001b[0m\u001b[32m[1610739150109964/start/1 (pid 10386)] \u001b[0m\u001b[22m01-15 11:32:31 doltpy.core.dolt INFO     Creating engine for Dolt SQL Server instance running on 127.0.0.1:3306\u001b[0m\n",
      "\u001b[35m2021-01-15 11:32:31.428 \u001b[0m\u001b[32m[1610739150109964/start/1 (pid 10386)] \u001b[0m\u001b[22m01-15 11:32:31 doltpy.core.dolt INFO       master                                        \ttgf2dkad1dgnu9067rodchr7p225q1ce\u001b[0m\n",
      "\u001b[35m2021-01-15 11:32:31.565 \u001b[0m\u001b[32m[1610739150109964/start/1 (pid 10386)] \u001b[0m\u001b[22m  tmp_1018977351311987979                       \tbh0o9vs96nh3u0ae6kiqn03cg6j72l1q\u001b[0m\n",
      "\u001b[35m2021-01-15 11:32:31.565 \u001b[0m\u001b[32m[1610739150109964/start/1 (pid 10386)] \u001b[0m\u001b[22m  tmp_12856210901849877287                      \ttgf2dkad1dgnu9067rodchr7p225q1ce\u001b[0m\n",
      "\u001b[35m2021-01-15 11:32:31.565 \u001b[0m\u001b[32m[1610739150109964/start/1 (pid 10386)] \u001b[0m\u001b[22m  tmp_29747918150139222007                      \ttgf2dkad1dgnu9067rodchr7p225q1ce\u001b[0m\n",
      "\u001b[35m2021-01-15 11:32:31.565 \u001b[0m\u001b[32m[1610739150109964/start/1 (pid 10386)] \u001b[0m\u001b[22m  tmp_68432860454557606248                      \tg3vutit9tvje18e0k2rtefudsi3s2m01\u001b[0m\n",
      "\u001b[35m2021-01-15 11:32:31.565 \u001b[0m\u001b[32m[1610739150109964/start/1 (pid 10386)] \u001b[0m\u001b[22m  tmp_7428457039860019215                       \tr055r4ur5qm96gtekdr096ah7pq9t8tq\u001b[0m\n",
      "\u001b[35m2021-01-15 11:32:31.565 \u001b[0m\u001b[32m[1610739150109964/start/1 (pid 10386)] \u001b[0m\u001b[22m  tmp_74549267022466356033                      \tskhib94eki65s6gofrrs4cb7fqt6dldm\u001b[0m\n",
      "\u001b[35m2021-01-15 11:32:31.565 \u001b[0m\u001b[32m[1610739150109964/start/1 (pid 10386)] \u001b[0m\u001b[22m* tmp_97227446906231499282                      \tpv4s3bpopnf8b5l9n579298r1vdjknb5\u001b[0m\n",
      "\u001b[35m2021-01-15 11:32:31.566 \u001b[0m\u001b[32m[1610739150109964/start/1 (pid 10386)] \u001b[0m\u001b[22m  tmp_99775912141817850388                      \tskhib94eki65s6gofrrs4cb7fqt6dldm\u001b[0m\n",
      "\u001b[35m2021-01-15 11:32:31.566 \u001b[0m\u001b[32m[1610739150109964/start/1 (pid 10386)] \u001b[0m\u001b[22m\u001b[0m\n",
      "\u001b[35m2021-01-15 11:32:31.566 \u001b[0m\u001b[32m[1610739150109964/start/1 (pid 10386)] \u001b[0m\u001b[22m01-15 11:32:31 doltpy.core.dolt INFO     Switched to branch 'tmp_71487223116425680420'\u001b[0m\n",
      "\u001b[35m2021-01-15 11:32:31.671 \u001b[0m\u001b[32m[1610739150109964/start/1 (pid 10386)] \u001b[0m\u001b[22m\u001b[0m\n",
      "\u001b[35m2021-01-15 11:32:31.671 \u001b[0m\u001b[32m[1610739150109964/start/1 (pid 10386)] \u001b[0m\u001b[22m01-15 11:32:31 doltpy.core.dolt INFO\u001b[0m\n",
      "\u001b[35m2021-01-15 11:32:31.764 \u001b[0m\u001b[32m[1610739150109964/start/1 (pid 10386)] \u001b[0m\u001b[22m01-15 11:32:31 doltpy.core.system_helpers INFO     Before exiting cleaning up child processes\u001b[0m\n",
      "\u001b[35m2021-01-15 11:32:31.774 \u001b[0m\u001b[32m[1610739150109964/start/1 (pid 10386)] \u001b[0m\u001b[22m01-15 11:32:31 doltpy.core.system_helpers INFO     No processes to clean up, exiting\u001b[0m\n",
      "\u001b[35m2021-01-15 11:32:31.948 \u001b[0m\u001b[32m[1610739150109964/start/1 (pid 10386)] \u001b[0m\u001b[1mTask finished successfully.\u001b[0m\n",
      "\u001b[35m2021-01-15 11:32:31.955 \u001b[0m\u001b[32m[1610739150109964/middle/2 (pid 10409)] \u001b[0m\u001b[1mTask is starting.\u001b[0m\n",
      "\u001b[35m2021-01-15 11:32:33.238 \u001b[0m\u001b[32m[1610739150109964/middle/2 (pid 10409)] \u001b[0m\u001b[22m01-15 11:32:33 doltpy.core.dolt INFO     Creating engine for Dolt SQL Server instance running on 127.0.0.1:3306\u001b[0m\n",
      "\u001b[35m2021-01-15 11:32:33.341 \u001b[0m\u001b[32m[1610739150109964/middle/2 (pid 10409)] \u001b[0m\u001b[22m01-15 11:32:33 doltpy.core.dolt INFO       master                                        \ttgf2dkad1dgnu9067rodchr7p225q1ce\u001b[0m\n",
      "\u001b[35m2021-01-15 11:32:33.487 \u001b[0m\u001b[32m[1610739150109964/middle/2 (pid 10409)] \u001b[0m\u001b[22m  tmp_1018977351311987979                       \tbh0o9vs96nh3u0ae6kiqn03cg6j72l1q\u001b[0m\n",
      "\u001b[35m2021-01-15 11:32:33.487 \u001b[0m\u001b[32m[1610739150109964/middle/2 (pid 10409)] \u001b[0m\u001b[22m  tmp_12856210901849877287                      \ttgf2dkad1dgnu9067rodchr7p225q1ce\u001b[0m\n",
      "\u001b[35m2021-01-15 11:32:33.487 \u001b[0m\u001b[32m[1610739150109964/middle/2 (pid 10409)] \u001b[0m\u001b[22m  tmp_29747918150139222007                      \ttgf2dkad1dgnu9067rodchr7p225q1ce\u001b[0m\n",
      "\u001b[35m2021-01-15 11:32:33.487 \u001b[0m\u001b[32m[1610739150109964/middle/2 (pid 10409)] \u001b[0m\u001b[22m  tmp_68432860454557606248                      \tg3vutit9tvje18e0k2rtefudsi3s2m01\u001b[0m\n",
      "\u001b[35m2021-01-15 11:32:33.487 \u001b[0m\u001b[32m[1610739150109964/middle/2 (pid 10409)] \u001b[0m\u001b[22m* tmp_71487223116425680420                      \ttgf2dkad1dgnu9067rodchr7p225q1ce\u001b[0m\n",
      "\u001b[35m2021-01-15 11:32:33.487 \u001b[0m\u001b[32m[1610739150109964/middle/2 (pid 10409)] \u001b[0m\u001b[22m  tmp_7428457039860019215                       \tr055r4ur5qm96gtekdr096ah7pq9t8tq\u001b[0m\n",
      "\u001b[35m2021-01-15 11:32:33.487 \u001b[0m\u001b[32m[1610739150109964/middle/2 (pid 10409)] \u001b[0m\u001b[22m  tmp_74549267022466356033                      \tskhib94eki65s6gofrrs4cb7fqt6dldm\u001b[0m\n",
      "\u001b[35m2021-01-15 11:32:33.487 \u001b[0m\u001b[32m[1610739150109964/middle/2 (pid 10409)] \u001b[0m\u001b[22m  tmp_97227446906231499282                      \tpv4s3bpopnf8b5l9n579298r1vdjknb5\u001b[0m\n",
      "\u001b[35m2021-01-15 11:32:33.488 \u001b[0m\u001b[32m[1610739150109964/middle/2 (pid 10409)] \u001b[0m\u001b[22m  tmp_99775912141817850388                      \tskhib94eki65s6gofrrs4cb7fqt6dldm\u001b[0m\n",
      "\u001b[35m2021-01-15 11:32:33.488 \u001b[0m\u001b[32m[1610739150109964/middle/2 (pid 10409)] \u001b[0m\u001b[22m\u001b[0m\n",
      "\u001b[35m2021-01-15 11:32:33.488 \u001b[0m\u001b[32m[1610739150109964/middle/2 (pid 10409)] \u001b[0m\u001b[22m01-15 11:32:33 doltpy.core.dolt INFO     Switched to branch 'tmp_99810567825936726133'\u001b[0m\n",
      "\u001b[35m2021-01-15 11:32:33.603 \u001b[0m\u001b[32m[1610739150109964/middle/2 (pid 10409)] \u001b[0m\u001b[22m\u001b[0m\n",
      "\u001b[35m2021-01-15 11:32:33.603 \u001b[0m\u001b[32m[1610739150109964/middle/2 (pid 10409)] \u001b[0m\u001b[22m01-15 11:32:33 doltpy.core.write.write INFO     No import mode specified, table exists, using \"create\"\u001b[0m\n",
      "\u001b[35m2021-01-15 11:32:33.711 \u001b[0m\u001b[32m[1610739150109964/middle/2 (pid 10409)] \u001b[0m\u001b[22m01-15 11:32:33 doltpy.core.write.write INFO     Importing to table baz in dolt directory located in foo, import mode create\u001b[0m\n",
      "\u001b[35m2021-01-15 11:32:33.712 \u001b[0m\u001b[32m[1610739150109964/middle/2 (pid 10409)] \u001b[0m\u001b[22m01-15 11:32:33 doltpy.core.dolt INFO     Rows Processed: 6, Additions: 6, Modifications: 0, Had No Effect: 0\u001b[0m\n",
      "\u001b[35m2021-01-15 11:32:33.767 \u001b[0m\u001b[32m[1610739150109964/middle/2 (pid 10409)] \u001b[0m\u001b[22m01-15 11:32:33 doltpy.core.dolt INFO\u001b[0m\n",
      "\u001b[35m2021-01-15 11:32:33.861 \u001b[0m\u001b[32m[1610739150109964/middle/2 (pid 10409)] \u001b[0m\u001b[22m01-15 11:32:33 doltpy.core.dolt INFO\u001b[0m\n",
      "\u001b[35m2021-01-15 11:32:33.964 \u001b[0m\u001b[32m[1610739150109964/middle/2 (pid 10409)] \u001b[0m\u001b[22m01-15 11:32:33 doltpy.core.dolt INFO     commit u3q1ov313bk5pb9ihgbfqtm505jt11q0\u001b[0m\n",
      "\u001b[35m2021-01-15 11:32:34.102 \u001b[0m\u001b[32m[1610739150109964/middle/2 (pid 10409)] \u001b[0m\u001b[22mAuthor: Max Hoffman <maximilian.wolfgang1@gmail.com>\u001b[0m\n",
      "\u001b[35m2021-01-15 11:32:34.102 \u001b[0m\u001b[32m[1610739150109964/middle/2 (pid 10409)] \u001b[0m\u001b[22mDate:   Fri Jan 15 11:32:33 -0800 2021\u001b[0m\n",
      "\u001b[35m2021-01-15 11:32:34.102 \u001b[0m\u001b[32m[1610739150109964/middle/2 (pid 10409)] \u001b[0m\u001b[22m\u001b[0m\n",
      "\u001b[35m2021-01-15 11:32:34.102 \u001b[0m\u001b[32m[1610739150109964/middle/2 (pid 10409)] \u001b[0m\u001b[22m\tVersioningDemo/1610739150109964/middle/2\u001b[0m\n",
      "\u001b[35m2021-01-15 11:32:34.102 \u001b[0m\u001b[32m[1610739150109964/middle/2 (pid 10409)] \u001b[0m\u001b[22m\u001b[0m\n",
      "\u001b[35m2021-01-15 11:32:34.102 \u001b[0m\u001b[32m[1610739150109964/middle/2 (pid 10409)] \u001b[0m\u001b[22m\u001b[0m\n",
      "\u001b[35m2021-01-15 11:32:34.102 \u001b[0m\u001b[32m[1610739150109964/middle/2 (pid 10409)] \u001b[0m\u001b[22m01-15 11:32:34 doltpy.core.dolt INFO       master                                        \ttgf2dkad1dgnu9067rodchr7p225q1ce\u001b[0m\n",
      "\u001b[35m2021-01-15 11:32:34.185 \u001b[0m\u001b[32m[1610739150109964/middle/2 (pid 10409)] \u001b[0m\u001b[22m  tmp_1018977351311987979                       \tbh0o9vs96nh3u0ae6kiqn03cg6j72l1q\u001b[0m\n",
      "\u001b[35m2021-01-15 11:32:34.185 \u001b[0m\u001b[32m[1610739150109964/middle/2 (pid 10409)] \u001b[0m\u001b[22m  tmp_12856210901849877287                      \ttgf2dkad1dgnu9067rodchr7p225q1ce\u001b[0m\n",
      "\u001b[35m2021-01-15 11:32:34.185 \u001b[0m\u001b[32m[1610739150109964/middle/2 (pid 10409)] \u001b[0m\u001b[22m  tmp_29747918150139222007                      \ttgf2dkad1dgnu9067rodchr7p225q1ce\u001b[0m\n",
      "\u001b[35m2021-01-15 11:32:34.185 \u001b[0m\u001b[32m[1610739150109964/middle/2 (pid 10409)] \u001b[0m\u001b[22m  tmp_68432860454557606248                      \tg3vutit9tvje18e0k2rtefudsi3s2m01\u001b[0m\n",
      "\u001b[35m2021-01-15 11:32:34.185 \u001b[0m\u001b[32m[1610739150109964/middle/2 (pid 10409)] \u001b[0m\u001b[22m  tmp_71487223116425680420                      \ttgf2dkad1dgnu9067rodchr7p225q1ce\u001b[0m\n",
      "\u001b[35m2021-01-15 11:32:34.186 \u001b[0m\u001b[32m[1610739150109964/middle/2 (pid 10409)] \u001b[0m\u001b[22m  tmp_7428457039860019215                       \tr055r4ur5qm96gtekdr096ah7pq9t8tq\u001b[0m\n",
      "\u001b[35m2021-01-15 11:32:34.186 \u001b[0m\u001b[32m[1610739150109964/middle/2 (pid 10409)] \u001b[0m\u001b[22m  tmp_74549267022466356033                      \tskhib94eki65s6gofrrs4cb7fqt6dldm\u001b[0m\n",
      "\u001b[35m2021-01-15 11:32:34.186 \u001b[0m\u001b[32m[1610739150109964/middle/2 (pid 10409)] \u001b[0m\u001b[22m  tmp_97227446906231499282                      \tpv4s3bpopnf8b5l9n579298r1vdjknb5\u001b[0m\n",
      "\u001b[35m2021-01-15 11:32:34.186 \u001b[0m\u001b[32m[1610739150109964/middle/2 (pid 10409)] \u001b[0m\u001b[22m  tmp_99775912141817850388                      \tskhib94eki65s6gofrrs4cb7fqt6dldm\u001b[0m\n",
      "\u001b[35m2021-01-15 11:32:34.186 \u001b[0m\u001b[32m[1610739150109964/middle/2 (pid 10409)] \u001b[0m\u001b[22m* tmp_99810567825936726133                      \tu3q1ov313bk5pb9ihgbfqtm505jt11q0\u001b[0m\n",
      "\u001b[35m2021-01-15 11:32:34.186 \u001b[0m\u001b[32m[1610739150109964/middle/2 (pid 10409)] \u001b[0m\u001b[22m\u001b[0m\n",
      "\u001b[35m2021-01-15 11:32:34.186 \u001b[0m\u001b[32m[1610739150109964/middle/2 (pid 10409)] \u001b[0m\u001b[22m01-15 11:32:34 doltpy.core.system_helpers INFO     Before exiting cleaning up child processes\u001b[0m\n",
      "\u001b[35m2021-01-15 11:32:34.195 \u001b[0m\u001b[32m[1610739150109964/middle/2 (pid 10409)] \u001b[0m\u001b[22m01-15 11:32:34 doltpy.core.system_helpers INFO     No processes to clean up, exiting\u001b[0m\n"
     ]
    },
    {
     "name": "stdout",
     "output_type": "stream",
     "text": [
      "\u001b[35m2021-01-15 11:32:34.402 \u001b[0m\u001b[32m[1610739150109964/middle/2 (pid 10409)] \u001b[0m\u001b[1mTask finished successfully.\u001b[0m\n",
      "\u001b[35m2021-01-15 11:32:34.409 \u001b[0m\u001b[32m[1610739150109964/end/3 (pid 10451)] \u001b[0m\u001b[1mTask is starting.\u001b[0m\n",
      "\u001b[35m2021-01-15 11:32:35.755 \u001b[0m\u001b[32m[1610739150109964/end/3 (pid 10451)] \u001b[0m\u001b[22m01-15 11:32:35 doltpy.core.system_helpers INFO     Before exiting cleaning up child processes\u001b[0m\n",
      "\u001b[35m2021-01-15 11:32:35.761 \u001b[0m\u001b[32m[1610739150109964/end/3 (pid 10451)] \u001b[0m\u001b[22m01-15 11:32:35 doltpy.core.system_helpers INFO     No processes to clean up, exiting\u001b[0m\n",
      "\u001b[35m2021-01-15 11:32:35.938 \u001b[0m\u001b[32m[1610739150109964/end/3 (pid 10451)] \u001b[0m\u001b[1mTask finished successfully.\u001b[0m\n",
      "\u001b[35m2021-01-15 11:32:35.939 \u001b[0m\u001b[1mDone!\u001b[0m\n",
      "01-15 11:32:35 doltpy.core.system_helpers INFO     Before exiting cleaning up child processes\n",
      "01-15 11:32:35 doltpy.core.system_helpers INFO     No processes to clean up, exiting\n"
     ]
    }
   ],
   "source": [
    "!poetry run python3 demo.py run --bar-version tgf2dkad1dgnu9067rodchr7p225q1ce"
   ]
  },
  {
   "cell_type": "code",
   "execution_count": 44,
   "id": "modern-baghdad",
   "metadata": {},
   "outputs": [
    {
     "name": "stdout",
     "output_type": "stream",
     "text": [
      "\u001b[33mcommit u3q1ov313bk5pb9ihgbfqtm505jt11q0\u001b[0m\r\n",
      "Author: Max Hoffman <maximilian.wolfgang1@gmail.com>\r\n",
      "Date:   Fri Jan 15 11:32:33 -0800 2021\r\n",
      "\r\n",
      "\tVersioningDemo/1610739150109964/middle/2\r\n",
      "\r\n"
     ]
    }
   ],
   "source": [
    "!cd foo && dolt log -n 1"
   ]
  },
  {
   "cell_type": "code",
   "execution_count": 45,
   "id": "frequent-production",
   "metadata": {},
   "outputs": [],
   "source": [
    "run2 = \"VersioningDemo/1610739150109964\""
   ]
  },
  {
   "cell_type": "code",
   "execution_count": 46,
   "id": "growing-nerve",
   "metadata": {},
   "outputs": [
    {
     "name": "stderr",
     "output_type": "stream",
     "text": [
      "01-15 11:32:46 doltpy.core.dolt INFO     Creating engine for Dolt SQL Server instance running on 127.0.0.1:3306\n",
      "01-15 11:32:46 doltpy.core.dolt INFO       master                                        \ttgf2dkad1dgnu9067rodchr7p225q1ce\n",
      "  tmp_1018977351311987979                       \tbh0o9vs96nh3u0ae6kiqn03cg6j72l1q\n",
      "  tmp_12856210901849877287                      \ttgf2dkad1dgnu9067rodchr7p225q1ce\n",
      "  tmp_29747918150139222007                      \ttgf2dkad1dgnu9067rodchr7p225q1ce\n",
      "  tmp_68432860454557606248                      \tg3vutit9tvje18e0k2rtefudsi3s2m01\n",
      "  tmp_71487223116425680420                      \ttgf2dkad1dgnu9067rodchr7p225q1ce\n",
      "  tmp_7428457039860019215                       \tr055r4ur5qm96gtekdr096ah7pq9t8tq\n",
      "  tmp_74549267022466356033                      \tskhib94eki65s6gofrrs4cb7fqt6dldm\n",
      "  tmp_97227446906231499282                      \tpv4s3bpopnf8b5l9n579298r1vdjknb5\n",
      "  tmp_99775912141817850388                      \tskhib94eki65s6gofrrs4cb7fqt6dldm\n",
      "* tmp_99810567825936726133                      \tu3q1ov313bk5pb9ihgbfqtm505jt11q0\n",
      "\n"
     ]
    },
    {
     "name": "stdout",
     "output_type": "stream",
     "text": [
      "['dolt', 'branch', '--list', '--verbose']\n",
      "/Users/max-hoffman/Documents/sandbox/dolt/metaflow/dolt-demos/1-reproducibility-3-versioning\n",
      "['dolt', 'checkout', 'pv4s3bpopnf8b5l9n579298r1vdjknb5']\n",
      "/Users/max-hoffman/Documents/sandbox/dolt/metaflow/dolt-demos/1-reproducibility-3-versioning\n",
      "['dolt', 'checkout', '-b', 'tmp_69385612680234777248', 'pv4s3bpopnf8b5l9n579298r1vdjknb5']\n",
      "/Users/max-hoffman/Documents/sandbox/dolt/metaflow/dolt-demos/1-reproducibility-3-versioning\n"
     ]
    },
    {
     "name": "stderr",
     "output_type": "stream",
     "text": [
      "01-15 11:32:46 doltpy.core.dolt INFO     Switched to branch 'tmp_69385612680234777248'\n",
      "\n",
      "01-15 11:32:46 doltpy.core.dolt INFO     index,A,B\n",
      "0,1,2\n",
      "1,1,2\n",
      "2,1,2\n",
      "\n",
      "01-15 11:32:46 doltpy.core.dolt INFO     Creating engine for Dolt SQL Server instance running on 127.0.0.1:3306\n",
      "01-15 11:32:46 doltpy.core.dolt INFO       master                                        \ttgf2dkad1dgnu9067rodchr7p225q1ce\n",
      "  tmp_1018977351311987979                       \tbh0o9vs96nh3u0ae6kiqn03cg6j72l1q\n",
      "  tmp_12856210901849877287                      \ttgf2dkad1dgnu9067rodchr7p225q1ce\n",
      "  tmp_29747918150139222007                      \ttgf2dkad1dgnu9067rodchr7p225q1ce\n",
      "  tmp_68432860454557606248                      \tg3vutit9tvje18e0k2rtefudsi3s2m01\n",
      "* tmp_69385612680234777248                      \tpv4s3bpopnf8b5l9n579298r1vdjknb5\n",
      "  tmp_71487223116425680420                      \ttgf2dkad1dgnu9067rodchr7p225q1ce\n",
      "  tmp_7428457039860019215                       \tr055r4ur5qm96gtekdr096ah7pq9t8tq\n",
      "  tmp_74549267022466356033                      \tskhib94eki65s6gofrrs4cb7fqt6dldm\n",
      "  tmp_97227446906231499282                      \tpv4s3bpopnf8b5l9n579298r1vdjknb5\n",
      "  tmp_99775912141817850388                      \tskhib94eki65s6gofrrs4cb7fqt6dldm\n",
      "  tmp_99810567825936726133                      \tu3q1ov313bk5pb9ihgbfqtm505jt11q0\n",
      "\n"
     ]
    },
    {
     "name": "stdout",
     "output_type": "stream",
     "text": [
      "['dolt', 'sql', '--query', 'SELECT * FROM `baz` AS OF \"pv4s3bpopnf8b5l9n579298r1vdjknb5\"', '--result-format', 'csv']\n",
      "/Users/max-hoffman/Documents/sandbox/dolt/metaflow/dolt-demos/1-reproducibility-3-versioning\n",
      "['dolt', 'branch', '--list', '--verbose']\n",
      "/Users/max-hoffman/Documents/sandbox/dolt/metaflow/dolt-demos/1-reproducibility-3-versioning\n",
      "['dolt', 'checkout', 'u3q1ov313bk5pb9ihgbfqtm505jt11q0']\n",
      "/Users/max-hoffman/Documents/sandbox/dolt/metaflow/dolt-demos/1-reproducibility-3-versioning\n"
     ]
    },
    {
     "name": "stderr",
     "output_type": "stream",
     "text": [
      "01-15 11:32:46 doltpy.core.dolt INFO     Switched to branch 'tmp_62882806928449093731'\n",
      "\n",
      "01-15 11:32:46 doltpy.core.dolt INFO     index,A,B\n",
      "0,1,2\n",
      "1,1,2\n",
      "2,1,2\n",
      "3,2,4\n",
      "4,2,4\n",
      "5,2,4\n",
      "\n"
     ]
    },
    {
     "name": "stdout",
     "output_type": "stream",
     "text": [
      "['dolt', 'checkout', '-b', 'tmp_62882806928449093731', 'u3q1ov313bk5pb9ihgbfqtm505jt11q0']\n",
      "/Users/max-hoffman/Documents/sandbox/dolt/metaflow/dolt-demos/1-reproducibility-3-versioning\n",
      "['dolt', 'sql', '--query', 'SELECT * FROM `baz` AS OF \"u3q1ov313bk5pb9ihgbfqtm505jt11q0\"', '--result-format', 'csv']\n",
      "/Users/max-hoffman/Documents/sandbox/dolt/metaflow/dolt-demos/1-reproducibility-3-versioning\n"
     ]
    }
   ],
   "source": [
    "from metaflow.datatools.dolt import DoltDT, DoltClient\n",
    "d = DoltClient(run1)\n",
    "d.steps # [\"middle\"]\n",
    "run1_res = d.step_artifacts(d.steps[0])[\"baz\"]\n",
    "\n",
    "d = DoltClient(run2)\n",
    "d.steps # [\"middle\"]\n",
    "run2_res = d.step_artifacts(d.steps[0])[\"baz\"]"
   ]
  },
  {
   "cell_type": "code",
   "execution_count": 47,
   "id": "insured-mother",
   "metadata": {},
   "outputs": [
    {
     "data": {
      "text/html": [
       "<div>\n",
       "<style scoped>\n",
       "    .dataframe tbody tr th:only-of-type {\n",
       "        vertical-align: middle;\n",
       "    }\n",
       "\n",
       "    .dataframe tbody tr th {\n",
       "        vertical-align: top;\n",
       "    }\n",
       "\n",
       "    .dataframe thead th {\n",
       "        text-align: right;\n",
       "    }\n",
       "</style>\n",
       "<table border=\"1\" class=\"dataframe\">\n",
       "  <thead>\n",
       "    <tr style=\"text-align: right;\">\n",
       "      <th></th>\n",
       "      <th>index</th>\n",
       "      <th>A</th>\n",
       "      <th>B</th>\n",
       "    </tr>\n",
       "  </thead>\n",
       "  <tbody>\n",
       "    <tr>\n",
       "      <th>0</th>\n",
       "      <td>0</td>\n",
       "      <td>1</td>\n",
       "      <td>2</td>\n",
       "    </tr>\n",
       "    <tr>\n",
       "      <th>1</th>\n",
       "      <td>1</td>\n",
       "      <td>1</td>\n",
       "      <td>2</td>\n",
       "    </tr>\n",
       "    <tr>\n",
       "      <th>2</th>\n",
       "      <td>2</td>\n",
       "      <td>1</td>\n",
       "      <td>2</td>\n",
       "    </tr>\n",
       "  </tbody>\n",
       "</table>\n",
       "</div>"
      ],
      "text/plain": [
       "  index  A  B\n",
       "0     0  1  2\n",
       "1     1  1  2\n",
       "2     2  1  2"
      ]
     },
     "execution_count": 47,
     "metadata": {},
     "output_type": "execute_result"
    }
   ],
   "source": [
    "run1_res"
   ]
  },
  {
   "cell_type": "code",
   "execution_count": 48,
   "id": "flush-introduction",
   "metadata": {},
   "outputs": [
    {
     "data": {
      "text/html": [
       "<div>\n",
       "<style scoped>\n",
       "    .dataframe tbody tr th:only-of-type {\n",
       "        vertical-align: middle;\n",
       "    }\n",
       "\n",
       "    .dataframe tbody tr th {\n",
       "        vertical-align: top;\n",
       "    }\n",
       "\n",
       "    .dataframe thead th {\n",
       "        text-align: right;\n",
       "    }\n",
       "</style>\n",
       "<table border=\"1\" class=\"dataframe\">\n",
       "  <thead>\n",
       "    <tr style=\"text-align: right;\">\n",
       "      <th></th>\n",
       "      <th>index</th>\n",
       "      <th>A</th>\n",
       "      <th>B</th>\n",
       "    </tr>\n",
       "  </thead>\n",
       "  <tbody>\n",
       "    <tr>\n",
       "      <th>0</th>\n",
       "      <td>0</td>\n",
       "      <td>1</td>\n",
       "      <td>2</td>\n",
       "    </tr>\n",
       "    <tr>\n",
       "      <th>1</th>\n",
       "      <td>1</td>\n",
       "      <td>1</td>\n",
       "      <td>2</td>\n",
       "    </tr>\n",
       "    <tr>\n",
       "      <th>2</th>\n",
       "      <td>2</td>\n",
       "      <td>1</td>\n",
       "      <td>2</td>\n",
       "    </tr>\n",
       "    <tr>\n",
       "      <th>3</th>\n",
       "      <td>3</td>\n",
       "      <td>2</td>\n",
       "      <td>4</td>\n",
       "    </tr>\n",
       "    <tr>\n",
       "      <th>4</th>\n",
       "      <td>4</td>\n",
       "      <td>2</td>\n",
       "      <td>4</td>\n",
       "    </tr>\n",
       "    <tr>\n",
       "      <th>5</th>\n",
       "      <td>5</td>\n",
       "      <td>2</td>\n",
       "      <td>4</td>\n",
       "    </tr>\n",
       "  </tbody>\n",
       "</table>\n",
       "</div>"
      ],
      "text/plain": [
       "  index  A  B\n",
       "0     0  1  2\n",
       "1     1  1  2\n",
       "2     2  1  2\n",
       "3     3  2  4\n",
       "4     4  2  4\n",
       "5     5  2  4"
      ]
     },
     "execution_count": 48,
     "metadata": {},
     "output_type": "execute_result"
    }
   ],
   "source": [
    "run2_res"
   ]
  },
  {
   "cell_type": "code",
   "execution_count": null,
   "id": "written-honduras",
   "metadata": {},
   "outputs": [],
   "source": []
  }
 ],
 "metadata": {
  "kernelspec": {
   "display_name": "Python 3",
   "language": "python",
   "name": "python3"
  },
  "language_info": {
   "codemirror_mode": {
    "name": "ipython",
    "version": 3
   },
   "file_extension": ".py",
   "mimetype": "text/x-python",
   "name": "python",
   "nbconvert_exporter": "python",
   "pygments_lexer": "ipython3",
   "version": "3.8.2"
  }
 },
 "nbformat": 4,
 "nbformat_minor": 5
}
