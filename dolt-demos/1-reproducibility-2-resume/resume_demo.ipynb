{
 "cells": [
  {
   "cell_type": "markdown",
   "id": "desirable-width",
   "metadata": {},
   "source": [
    "# Reproducibility - resume\n",
    "\n",
    "1. Create and commit two versions of dataframe -> v1, v2\n",
    "2. Run flow 1 with v1 data -> crashes b/c flow 2 hasn't run\n",
    "3. Run flow 2 with v2 data\n",
    "4. Resume flow 1 successfully"
   ]
  },
  {
   "cell_type": "code",
   "execution_count": 19,
   "id": "combined-insurance",
   "metadata": {},
   "outputs": [
    {
     "name": "stderr",
     "output_type": "stream",
     "text": [
      "01-15 15:28:22 doltpy.core.dolt INFO     Creating directory foo\n",
      "01-15 15:28:22 doltpy.core.dolt INFO     Creating a new repo in foo\n",
      "01-15 15:28:22 doltpy.core.dolt INFO     Creating engine for Dolt SQL Server instance running on 127.0.0.1:3306\n",
      "01-15 15:28:22 doltpy.core.write.write INFO     Importing to table bar in dolt directory located in foo, import mode create\n",
      "01-15 15:28:22 doltpy.core.dolt INFO     Rows Processed: 3, Additions: 3, Modifications: 0, Had No Effect: 0\n",
      "01-15 15:28:22 doltpy.core.dolt INFO     \n",
      "01-15 15:28:23 doltpy.core.dolt INFO     commit vcvdem6noni0sgl6erk06s4r2gtj2i2q\n",
      "Author: Max Hoffman <maximilian.wolfgang1@gmail.com>\n",
      "Date:   Fri Jan 15 15:28:23 -0800 2021\n",
      "\n",
      "\tInitialize bar\n",
      "\n",
      "\n",
      "01-15 15:28:23 doltpy.core.write.write INFO     Importing to table bar in dolt directory located in foo, import mode update\n",
      "01-15 15:28:23 doltpy.core.dolt INFO     Rows Processed: 6, Additions: 3, Modifications: 0, Had No Effect: 3\n",
      "01-15 15:28:23 doltpy.core.dolt INFO     \n",
      "01-15 15:28:23 doltpy.core.dolt INFO     commit r44hf3g77op6cfhmhj10fpa59qu94p00\n",
      "Author: Max Hoffman <maximilian.wolfgang1@gmail.com>\n",
      "Date:   Fri Jan 15 15:28:23 -0800 2021\n",
      "\n",
      "\tAdd rows to bar; initalize baz\n",
      "\n",
      "\n"
     ]
    }
   ],
   "source": [
    "import pandas as pd\n",
    "from doltpy.core import Dolt\n",
    "from doltpy.core.write import import_df\n",
    "\n",
    "dolt = Dolt.init(\"foo\")\n",
    "\n",
    "df_v1 = pd.DataFrame({\"A\": [1,1,1], \"B\": [1,1,1]})\n",
    "df_v2 = pd.DataFrame({\"A\": [1,1,1,2,2,2], \"B\": [1,1,1,2,2,2]})\n",
    "\n",
    "import_df(dolt, \"bar\", df_v1.reset_index(), [\"index\"], \"create\")\n",
    "dolt.add(\"bar\")\n",
    "dolt.commit(\"Initialize bar\")\n",
    "\n",
    "v1 = list(dolt.log(number=\"1\").keys())[0]\n",
    "\n",
    "import_df(dolt, \"bar\", df_v2.reset_index(), [\"index\"], \"update\")\n",
    "dolt.add(\"bar\")\n",
    "dolt.commit(\"Add rows to bar; initalize baz\")\n",
    "\n",
    "v2 = list(dolt.log(number=\"1\").keys())[0]"
   ]
  },
  {
   "cell_type": "code",
   "execution_count": 35,
   "id": "compact-trance",
   "metadata": {},
   "outputs": [
    {
     "name": "stdout",
     "output_type": "stream",
     "text": [
      "import pickle\r\n",
      "\r\n",
      "from metaflow import FlowSpec, step, DoltDT, Parameter, Flow\r\n",
      "import pandas as pd\r\n",
      "from sklearn import tree\r\n",
      "\r\n",
      "class SucceedsSecondDemo(FlowSpec):\r\n",
      "\r\n",
      "    bar_version = Parameter('bar-version',  help=\"Specifc the tag for the input version\", required=True)\r\n",
      "\r\n",
      "    @step\r\n",
      "    def start(self):\r\n",
      "        with DoltDT(run=self, doltdb_path='foo', branch=self.bar_version) as dolt:\r\n",
      "            self.df = dolt.read_table('bar')\r\n",
      "        first = Flow(\"SucceedsFirstDemo\").latest_successful_run\r\n",
      "\r\n",
      "        self.next(self.middle)\r\n",
      "\r\n",
      "    @step\r\n",
      "    def middle(self):\r\n",
      "        with DoltDT(run=self, doltdb_path='foo', branch=self.bar_version) as dolt:\r\n",
      "            df = self.df\r\n",
      "            df[\"B\"] = df[\"B\"].map(lambda x: x*2)\r\n",
      "\r\n",
      "            dolt.write_table(table_name='baz', df=df, pks=['index'])\r\n",
      "\r\n",
      "        self.next(self.end)\r\n",
      "\r\n",
      "    @step\r\n",
      "    def end(self):\r\n",
      "        pass\r\n",
      "\r\n",
      "\r\n",
      "if __name__ == '__main__':\r\n",
      "    SucceedsSecondDemo()\r\n"
     ]
    }
   ],
   "source": [
    "!cat succeeds_second.py"
   ]
  },
  {
   "cell_type": "code",
   "execution_count": 36,
   "id": "military-mexican",
   "metadata": {},
   "outputs": [
    {
     "name": "stdout",
     "output_type": "stream",
     "text": [
      "import pickle\r\n",
      "\r\n",
      "from metaflow import FlowSpec, step, DoltDT, Parameter\r\n",
      "import pandas as pd\r\n",
      "from sklearn import tree\r\n",
      "\r\n",
      "class SucceedsFirstDemo(FlowSpec):\r\n",
      "\r\n",
      "    bar_version = Parameter('bar-version',  help=\"Specifc the tag for the input version\", required=True)\r\n",
      "\r\n",
      "    @step\r\n",
      "    def start(self):\r\n",
      "        with DoltDT(run=self, doltdb_path='foo', branch=self.bar_version) as dolt:\r\n",
      "            self.df = dolt.read_table('bar')\r\n",
      "\r\n",
      "        self.next(self.middle)\r\n",
      "\r\n",
      "    @step\r\n",
      "    def middle(self):\r\n",
      "        with DoltDT(run=self, doltdb_path='foo', branch=self.bar_version) as dolt:\r\n",
      "\r\n",
      "            df = self.df\r\n",
      "            df[\"B\"] = df[\"B\"].map(lambda x: x*2)\r\n",
      "\r\n",
      "            dolt.write_table(table_name='baz', df=df, pks=['index'])\r\n",
      "\r\n",
      "        self.next(self.end)\r\n",
      "\r\n",
      "    @step\r\n",
      "    def end(self):\r\n",
      "        pass\r\n",
      "\r\n",
      "\r\n",
      "if __name__ == '__main__':\r\n",
      "    SucceedsFirstDemo()\r\n"
     ]
    }
   ],
   "source": [
    "!cat succeeds_first.py"
   ]
  },
  {
   "cell_type": "code",
   "execution_count": 30,
   "id": "stainless-declaration",
   "metadata": {},
   "outputs": [
    {
     "name": "stdout",
     "output_type": "stream",
     "text": [
      "\u001b[35m\u001b[1mMetaflow 2.2.5.post19+gitd26b8cd\u001b[0m\u001b[35m\u001b[22m executing \u001b[0m\u001b[31m\u001b[1mSucceedsSecondDemo\u001b[0m\u001b[35m\u001b[22m\u001b[0m\u001b[35m\u001b[22m for \u001b[0m\u001b[31m\u001b[1muser:max-hoffman\u001b[0m\u001b[35m\u001b[22m\u001b[K\u001b[0m\u001b[35m\u001b[22m\u001b[0m\n",
      "\u001b[35m\u001b[22mValidating your flow...\u001b[K\u001b[0m\u001b[35m\u001b[22m\u001b[0m\n",
      "\u001b[32m\u001b[1m    The graph looks good!\u001b[K\u001b[0m\u001b[32m\u001b[1m\u001b[0m\n",
      "\u001b[35m\u001b[22mRunning pylint...\u001b[K\u001b[0m\u001b[35m\u001b[22m\u001b[0m\n",
      "\u001b[32m\u001b[1m    Pylint is happy!\u001b[K\u001b[0m\u001b[32m\u001b[1m\u001b[0m\n",
      "\u001b[35m2021-01-15 15:36:49.777 \u001b[0m\u001b[1mWorkflow starting (run-id 1610753809771762):\u001b[0m\n",
      "\u001b[35m2021-01-15 15:36:49.784 \u001b[0m\u001b[32m[1610753809771762/start/1 (pid 11986)] \u001b[0m\u001b[1mTask is starting.\u001b[0m\n",
      "\u001b[35m2021-01-15 15:36:50.869 \u001b[0m\u001b[32m[1610753809771762/start/1 (pid 11986)] \u001b[0m\u001b[22m01-15 15:36:50 doltpy.core.dolt INFO     Creating engine for Dolt SQL Server instance running on 127.0.0.1:3306\u001b[0m\n",
      "\u001b[35m2021-01-15 15:36:50.958 \u001b[0m\u001b[32m[1610753809771762/start/1 (pid 11986)] \u001b[0m\u001b[22m01-15 15:36:50 doltpy.core.dolt INFO     * master                                        \tr44hf3g77op6cfhmhj10fpa59qu94p00\u001b[0m\n",
      "\u001b[35m2021-01-15 15:36:51.080 \u001b[0m\u001b[32m[1610753809771762/start/1 (pid 11986)] \u001b[0m\u001b[22m  tmp_7496997185783575499                       \tvcvdem6noni0sgl6erk06s4r2gtj2i2q\u001b[0m\n",
      "\u001b[35m2021-01-15 15:36:51.080 \u001b[0m\u001b[32m[1610753809771762/start/1 (pid 11986)] \u001b[0m\u001b[22m\u001b[0m\n",
      "\u001b[35m2021-01-15 15:36:51.080 \u001b[0m\u001b[32m[1610753809771762/start/1 (pid 11986)] \u001b[0m\u001b[22m01-15 15:36:51 doltpy.core.dolt INFO     Switched to branch 'tmp_65359573685889210212'\u001b[0m\n",
      "\u001b[35m2021-01-15 15:36:51.178 \u001b[0m\u001b[32m[1610753809771762/start/1 (pid 11986)] \u001b[0m\u001b[22m\u001b[0m\n",
      "\u001b[35m2021-01-15 15:36:51.178 \u001b[0m\u001b[32m[1610753809771762/start/1 (pid 11986)] \u001b[0m\u001b[22m01-15 15:36:51 doltpy.core.dolt INFO\u001b[0m\n",
      "\u001b[35m2021-01-15 15:36:51.270 \u001b[0m\u001b[32m[1610753809771762/start/1 (pid 11986)] \u001b[0m\u001b[22m<flow SucceedsSecondDemo step start> failed:\u001b[0m\n",
      "\u001b[35m2021-01-15 15:36:51.270 \u001b[0m\u001b[32m[1610753809771762/start/1 (pid 11986)] \u001b[0m\u001b[22m    Object not found:\u001b[0m\n",
      "\u001b[35m2021-01-15 15:36:51.270 \u001b[0m\u001b[32m[1610753809771762/start/1 (pid 11986)] \u001b[0m\u001b[22m    Flow('SucceedsFirstDemo') does not exist\u001b[0m\n",
      "\u001b[35m2021-01-15 15:36:51.270 \u001b[0m\u001b[32m[1610753809771762/start/1 (pid 11986)] \u001b[0m\u001b[22m\u001b[0m\n",
      "\u001b[35m2021-01-15 15:36:51.271 \u001b[0m\u001b[32m[1610753809771762/start/1 (pid 11986)] \u001b[0m\u001b[22m01-15 15:36:51 doltpy.core.system_helpers INFO     Before exiting cleaning up child processes\u001b[0m\n",
      "\u001b[35m2021-01-15 15:36:51.278 \u001b[0m\u001b[32m[1610753809771762/start/1 (pid 11986)] \u001b[0m\u001b[22m01-15 15:36:51 doltpy.core.system_helpers INFO     No processes to clean up, exiting\u001b[0m\n",
      "\u001b[35m2021-01-15 15:36:51.438 \u001b[0m\u001b[32m[1610753809771762/start/1 (pid 11986)] \u001b[0m\u001b[1mTask failed.\u001b[0m\n",
      "\u001b[35m2021-01-15 15:36:51.438 \u001b[0m\u001b[31m\u001b[1mWorkflow failed.\u001b[0m\n",
      "\u001b[35m2021-01-15 15:36:51.438 \u001b[0m\u001b[31m\u001b[1mTerminating 0 active tasks...\u001b[0m\n",
      "\u001b[35m2021-01-15 15:36:51.439 \u001b[0m\u001b[31m\u001b[1mFlushing logs...\u001b[0m\n",
      "\u001b[1m    Step failure\u001b[0m\u001b[22m:\u001b[K\u001b[0m\u001b[22m\u001b[0m\n",
      "\u001b[22m    Step \u001b[0m\u001b[31m\u001b[1mstart\u001b[0m\u001b[22m (task-id 1) failed.\u001b[K\u001b[0m\u001b[22m\u001b[0m\n",
      "\u001b[22m\u001b[K\u001b[0m\n",
      "01-15 15:36:51 doltpy.core.system_helpers INFO     Before exiting cleaning up child processes\n",
      "01-15 15:36:51 doltpy.core.system_helpers INFO     No processes to clean up, exiting\n"
     ]
    }
   ],
   "source": [
    "!poetry run python3 succeeds_second.py run --bar-version $v1"
   ]
  },
  {
   "cell_type": "code",
   "execution_count": 31,
   "id": "raised-wagon",
   "metadata": {},
   "outputs": [
    {
     "name": "stdout",
     "output_type": "stream",
     "text": [
      "\u001b[35m\u001b[1mMetaflow 2.2.5.post19+gitd26b8cd\u001b[0m\u001b[35m\u001b[22m executing \u001b[0m\u001b[31m\u001b[1mSucceedsFirstDemo\u001b[0m\u001b[35m\u001b[22m\u001b[0m\u001b[35m\u001b[22m for \u001b[0m\u001b[31m\u001b[1muser:max-hoffman\u001b[0m\u001b[35m\u001b[22m\u001b[K\u001b[0m\u001b[35m\u001b[22m\u001b[0m\n",
      "\u001b[35m\u001b[22mValidating your flow...\u001b[K\u001b[0m\u001b[35m\u001b[22m\u001b[0m\n",
      "\u001b[32m\u001b[1m    The graph looks good!\u001b[K\u001b[0m\u001b[32m\u001b[1m\u001b[0m\n",
      "\u001b[35m\u001b[22mRunning pylint...\u001b[K\u001b[0m\u001b[35m\u001b[22m\u001b[0m\n",
      "\u001b[32m\u001b[1m    Pylint is happy!\u001b[K\u001b[0m\u001b[32m\u001b[1m\u001b[0m\n",
      "\u001b[35m2021-01-15 15:37:48.172 \u001b[0m\u001b[1mWorkflow starting (run-id 1610753868160529):\u001b[0m\n",
      "\u001b[35m2021-01-15 15:37:48.179 \u001b[0m\u001b[32m[1610753868160529/start/1 (pid 12023)] \u001b[0m\u001b[1mTask is starting.\u001b[0m\n",
      "\u001b[35m2021-01-15 15:37:49.409 \u001b[0m\u001b[32m[1610753868160529/start/1 (pid 12023)] \u001b[0m\u001b[22m01-15 15:37:49 doltpy.core.dolt INFO     Creating engine for Dolt SQL Server instance running on 127.0.0.1:3306\u001b[0m\n",
      "\u001b[35m2021-01-15 15:37:49.508 \u001b[0m\u001b[32m[1610753868160529/start/1 (pid 12023)] \u001b[0m\u001b[22m01-15 15:37:49 doltpy.core.dolt INFO       master                                        \tr44hf3g77op6cfhmhj10fpa59qu94p00\u001b[0m\n",
      "\u001b[35m2021-01-15 15:37:49.651 \u001b[0m\u001b[32m[1610753868160529/start/1 (pid 12023)] \u001b[0m\u001b[22m* tmp_65359573685889210212                      \tvcvdem6noni0sgl6erk06s4r2gtj2i2q\u001b[0m\n",
      "\u001b[35m2021-01-15 15:37:49.651 \u001b[0m\u001b[32m[1610753868160529/start/1 (pid 12023)] \u001b[0m\u001b[22m  tmp_7496997185783575499                       \tvcvdem6noni0sgl6erk06s4r2gtj2i2q\u001b[0m\n",
      "\u001b[35m2021-01-15 15:37:49.651 \u001b[0m\u001b[32m[1610753868160529/start/1 (pid 12023)] \u001b[0m\u001b[22m\u001b[0m\n",
      "\u001b[35m2021-01-15 15:37:49.652 \u001b[0m\u001b[32m[1610753868160529/start/1 (pid 12023)] \u001b[0m\u001b[22m01-15 15:37:49 doltpy.core.dolt INFO     Switched to branch 'tmp_56117570602776442003'\u001b[0m\n",
      "\u001b[35m2021-01-15 15:37:49.771 \u001b[0m\u001b[32m[1610753868160529/start/1 (pid 12023)] \u001b[0m\u001b[22m\u001b[0m\n",
      "\u001b[35m2021-01-15 15:37:49.772 \u001b[0m\u001b[32m[1610753868160529/start/1 (pid 12023)] \u001b[0m\u001b[22m01-15 15:37:49 doltpy.core.dolt INFO\u001b[0m\n",
      "\u001b[35m2021-01-15 15:37:49.882 \u001b[0m\u001b[32m[1610753868160529/start/1 (pid 12023)] \u001b[0m\u001b[22m01-15 15:37:49 doltpy.core.system_helpers INFO     Before exiting cleaning up child processes\u001b[0m\n",
      "\u001b[35m2021-01-15 15:37:49.892 \u001b[0m\u001b[32m[1610753868160529/start/1 (pid 12023)] \u001b[0m\u001b[22m01-15 15:37:49 doltpy.core.system_helpers INFO     No processes to clean up, exiting\u001b[0m\n",
      "\u001b[35m2021-01-15 15:37:50.079 \u001b[0m\u001b[32m[1610753868160529/start/1 (pid 12023)] \u001b[0m\u001b[1mTask finished successfully.\u001b[0m\n",
      "\u001b[35m2021-01-15 15:37:50.086 \u001b[0m\u001b[32m[1610753868160529/middle/2 (pid 12046)] \u001b[0m\u001b[1mTask is starting.\u001b[0m\n",
      "\u001b[35m2021-01-15 15:37:51.229 \u001b[0m\u001b[32m[1610753868160529/middle/2 (pid 12046)] \u001b[0m\u001b[22m01-15 15:37:51 doltpy.core.dolt INFO     Creating engine for Dolt SQL Server instance running on 127.0.0.1:3306\u001b[0m\n",
      "\u001b[35m2021-01-15 15:37:51.314 \u001b[0m\u001b[32m[1610753868160529/middle/2 (pid 12046)] \u001b[0m\u001b[22m01-15 15:37:51 doltpy.core.dolt INFO       master                                        \tr44hf3g77op6cfhmhj10fpa59qu94p00\u001b[0m\n",
      "\u001b[35m2021-01-15 15:37:51.436 \u001b[0m\u001b[32m[1610753868160529/middle/2 (pid 12046)] \u001b[0m\u001b[22m* tmp_56117570602776442003                      \tr44hf3g77op6cfhmhj10fpa59qu94p00\u001b[0m\n",
      "\u001b[35m2021-01-15 15:37:51.437 \u001b[0m\u001b[32m[1610753868160529/middle/2 (pid 12046)] \u001b[0m\u001b[22m  tmp_65359573685889210212                      \tvcvdem6noni0sgl6erk06s4r2gtj2i2q\u001b[0m\n",
      "\u001b[35m2021-01-15 15:37:51.437 \u001b[0m\u001b[32m[1610753868160529/middle/2 (pid 12046)] \u001b[0m\u001b[22m  tmp_7496997185783575499                       \tvcvdem6noni0sgl6erk06s4r2gtj2i2q\u001b[0m\n",
      "\u001b[35m2021-01-15 15:37:51.437 \u001b[0m\u001b[32m[1610753868160529/middle/2 (pid 12046)] \u001b[0m\u001b[22m\u001b[0m\n",
      "\u001b[35m2021-01-15 15:37:51.437 \u001b[0m\u001b[32m[1610753868160529/middle/2 (pid 12046)] \u001b[0m\u001b[22m01-15 15:37:51 doltpy.core.dolt INFO     Switched to branch 'tmp_4823254690243868365'\u001b[0m\n",
      "\u001b[35m2021-01-15 15:37:51.535 \u001b[0m\u001b[32m[1610753868160529/middle/2 (pid 12046)] \u001b[0m\u001b[22m\u001b[0m\n",
      "\u001b[35m2021-01-15 15:37:51.536 \u001b[0m\u001b[32m[1610753868160529/middle/2 (pid 12046)] \u001b[0m\u001b[22m01-15 15:37:51 doltpy.core.write.write INFO     No import mode specified, table exists, using \"create\"\u001b[0m\n",
      "\u001b[35m2021-01-15 15:37:51.638 \u001b[0m\u001b[32m[1610753868160529/middle/2 (pid 12046)] \u001b[0m\u001b[22m01-15 15:37:51 doltpy.core.write.write INFO     Importing to table baz in dolt directory located in foo, import mode create\u001b[0m\n",
      "\u001b[35m2021-01-15 15:37:51.638 \u001b[0m\u001b[32m[1610753868160529/middle/2 (pid 12046)] \u001b[0m\u001b[22m01-15 15:37:51 doltpy.core.dolt INFO     Rows Processed: 6, Additions: 6, Modifications: 0, Had No Effect: 0\u001b[0m\n",
      "\u001b[35m2021-01-15 15:37:51.683 \u001b[0m\u001b[32m[1610753868160529/middle/2 (pid 12046)] \u001b[0m\u001b[22m01-15 15:37:51 doltpy.core.dolt INFO\u001b[0m\n",
      "\u001b[35m2021-01-15 15:37:51.769 \u001b[0m\u001b[32m[1610753868160529/middle/2 (pid 12046)] \u001b[0m\u001b[22m01-15 15:37:51 doltpy.core.dolt INFO\u001b[0m\n",
      "\u001b[35m2021-01-15 15:37:51.861 \u001b[0m\u001b[32m[1610753868160529/middle/2 (pid 12046)] \u001b[0m\u001b[22m01-15 15:37:51 doltpy.core.dolt INFO     commit 0cbd00l60kvopvd3qmcohm8ej44pdp2b\u001b[0m\n",
      "\u001b[35m2021-01-15 15:37:51.985 \u001b[0m\u001b[32m[1610753868160529/middle/2 (pid 12046)] \u001b[0m\u001b[22mAuthor: Max Hoffman <maximilian.wolfgang1@gmail.com>\u001b[0m\n",
      "\u001b[35m2021-01-15 15:37:51.985 \u001b[0m\u001b[32m[1610753868160529/middle/2 (pid 12046)] \u001b[0m\u001b[22mDate:   Fri Jan 15 15:37:51 -0800 2021\u001b[0m\n",
      "\u001b[35m2021-01-15 15:37:51.985 \u001b[0m\u001b[32m[1610753868160529/middle/2 (pid 12046)] \u001b[0m\u001b[22m\u001b[0m\n",
      "\u001b[35m2021-01-15 15:37:51.985 \u001b[0m\u001b[32m[1610753868160529/middle/2 (pid 12046)] \u001b[0m\u001b[22m\tSucceedsFirstDemo/1610753868160529/middle/2\u001b[0m\n",
      "\u001b[35m2021-01-15 15:37:51.985 \u001b[0m\u001b[32m[1610753868160529/middle/2 (pid 12046)] \u001b[0m\u001b[22m\u001b[0m\n",
      "\u001b[35m2021-01-15 15:37:51.985 \u001b[0m\u001b[32m[1610753868160529/middle/2 (pid 12046)] \u001b[0m\u001b[22m\u001b[0m\n",
      "\u001b[35m2021-01-15 15:37:51.985 \u001b[0m\u001b[32m[1610753868160529/middle/2 (pid 12046)] \u001b[0m\u001b[22m01-15 15:37:51 doltpy.core.dolt INFO       master                                        \tr44hf3g77op6cfhmhj10fpa59qu94p00\u001b[0m\n",
      "\u001b[35m2021-01-15 15:37:52.061 \u001b[0m\u001b[32m[1610753868160529/middle/2 (pid 12046)] \u001b[0m\u001b[22m* tmp_4823254690243868365                       \t0cbd00l60kvopvd3qmcohm8ej44pdp2b\u001b[0m\n",
      "\u001b[35m2021-01-15 15:37:52.061 \u001b[0m\u001b[32m[1610753868160529/middle/2 (pid 12046)] \u001b[0m\u001b[22m  tmp_56117570602776442003                      \tr44hf3g77op6cfhmhj10fpa59qu94p00\u001b[0m\n",
      "\u001b[35m2021-01-15 15:37:52.061 \u001b[0m\u001b[32m[1610753868160529/middle/2 (pid 12046)] \u001b[0m\u001b[22m  tmp_65359573685889210212                      \tvcvdem6noni0sgl6erk06s4r2gtj2i2q\u001b[0m\n",
      "\u001b[35m2021-01-15 15:37:52.061 \u001b[0m\u001b[32m[1610753868160529/middle/2 (pid 12046)] \u001b[0m\u001b[22m  tmp_7496997185783575499                       \tvcvdem6noni0sgl6erk06s4r2gtj2i2q\u001b[0m\n",
      "\u001b[35m2021-01-15 15:37:52.061 \u001b[0m\u001b[32m[1610753868160529/middle/2 (pid 12046)] \u001b[0m\u001b[22m\u001b[0m\n",
      "\u001b[35m2021-01-15 15:37:52.061 \u001b[0m\u001b[32m[1610753868160529/middle/2 (pid 12046)] \u001b[0m\u001b[22m01-15 15:37:52 doltpy.core.system_helpers INFO     Before exiting cleaning up child processes\u001b[0m\n",
      "\u001b[35m2021-01-15 15:37:52.069 \u001b[0m\u001b[32m[1610753868160529/middle/2 (pid 12046)] \u001b[0m\u001b[22m01-15 15:37:52 doltpy.core.system_helpers INFO     No processes to clean up, exiting\u001b[0m\n",
      "\u001b[35m2021-01-15 15:37:52.242 \u001b[0m\u001b[32m[1610753868160529/middle/2 (pid 12046)] \u001b[0m\u001b[1mTask finished successfully.\u001b[0m\n",
      "\u001b[35m2021-01-15 15:37:52.248 \u001b[0m\u001b[32m[1610753868160529/end/3 (pid 12089)] \u001b[0m\u001b[1mTask is starting.\u001b[0m\n",
      "\u001b[35m2021-01-15 15:37:53.455 \u001b[0m\u001b[32m[1610753868160529/end/3 (pid 12089)] \u001b[0m\u001b[22m01-15 15:37:53 doltpy.core.system_helpers INFO     Before exiting cleaning up child processes\u001b[0m\n",
      "\u001b[35m2021-01-15 15:37:53.462 \u001b[0m\u001b[32m[1610753868160529/end/3 (pid 12089)] \u001b[0m\u001b[22m01-15 15:37:53 doltpy.core.system_helpers INFO     No processes to clean up, exiting\u001b[0m\n",
      "\u001b[35m2021-01-15 15:37:53.624 \u001b[0m\u001b[32m[1610753868160529/end/3 (pid 12089)] \u001b[0m\u001b[1mTask finished successfully.\u001b[0m\n",
      "\u001b[35m2021-01-15 15:37:53.624 \u001b[0m\u001b[1mDone!\u001b[0m\n",
      "01-15 15:37:53 doltpy.core.system_helpers INFO     Before exiting cleaning up child processes\n",
      "01-15 15:37:53 doltpy.core.system_helpers INFO     No processes to clean up, exiting\n"
     ]
    }
   ],
   "source": [
    "!poetry run python3 succeeds_first.py run --bar-version $v2"
   ]
  },
  {
   "cell_type": "code",
   "execution_count": 34,
   "id": "satellite-canal",
   "metadata": {},
   "outputs": [
    {
     "name": "stdout",
     "output_type": "stream",
     "text": [
      "\u001b[35m\u001b[1mMetaflow 2.2.5.post19+gitd26b8cd\u001b[0m\u001b[35m\u001b[22m executing \u001b[0m\u001b[31m\u001b[1mSucceedsSecondDemo\u001b[0m\u001b[35m\u001b[22m\u001b[0m\u001b[35m\u001b[22m for \u001b[0m\u001b[31m\u001b[1muser:max-hoffman\u001b[0m\u001b[35m\u001b[22m\u001b[K\u001b[0m\u001b[35m\u001b[22m\u001b[0m\n",
      "\u001b[35m\u001b[22mValidating your flow...\u001b[K\u001b[0m\u001b[35m\u001b[22m\u001b[0m\n",
      "\u001b[32m\u001b[1m    The graph looks good!\u001b[K\u001b[0m\u001b[32m\u001b[1m\u001b[0m\n",
      "\u001b[35m\u001b[22mRunning pylint...\u001b[K\u001b[0m\u001b[35m\u001b[22m\u001b[0m\n",
      "\u001b[32m\u001b[1m    Pylint is happy!\u001b[K\u001b[0m\u001b[32m\u001b[1m\u001b[0m\n",
      "\u001b[35m2021-01-15 15:38:34.003 \u001b[0m\u001b[22mGathering required information to resume run (this may take a bit of time)...\u001b[0m\n",
      "\u001b[35m2021-01-15 15:38:34.011 \u001b[0m\u001b[1mWorkflow starting (run-id 1610753914002543):\u001b[0m\n",
      "\u001b[35m2021-01-15 15:38:34.018 \u001b[0m\u001b[32m[1610753914002543/start/1 (pid 12116)] \u001b[0m\u001b[1mTask is starting.\u001b[0m\n",
      "\u001b[35m2021-01-15 15:38:35.150 \u001b[0m\u001b[32m[1610753914002543/start/1 (pid 12116)] \u001b[0m\u001b[22m01-15 15:38:35 doltpy.core.dolt INFO     Creating engine for Dolt SQL Server instance running on 127.0.0.1:3306\u001b[0m\n",
      "\u001b[35m2021-01-15 15:38:35.240 \u001b[0m\u001b[32m[1610753914002543/start/1 (pid 12116)] \u001b[0m\u001b[22m01-15 15:38:35 doltpy.core.dolt INFO       master                                        \tr44hf3g77op6cfhmhj10fpa59qu94p00\u001b[0m\n",
      "\u001b[35m2021-01-15 15:38:35.365 \u001b[0m\u001b[32m[1610753914002543/start/1 (pid 12116)] \u001b[0m\u001b[22m* tmp_4823254690243868365                       \t0cbd00l60kvopvd3qmcohm8ej44pdp2b\u001b[0m\n",
      "\u001b[35m2021-01-15 15:38:35.365 \u001b[0m\u001b[32m[1610753914002543/start/1 (pid 12116)] \u001b[0m\u001b[22m  tmp_56117570602776442003                      \tr44hf3g77op6cfhmhj10fpa59qu94p00\u001b[0m\n",
      "\u001b[35m2021-01-15 15:38:35.365 \u001b[0m\u001b[32m[1610753914002543/start/1 (pid 12116)] \u001b[0m\u001b[22m  tmp_65359573685889210212                      \tvcvdem6noni0sgl6erk06s4r2gtj2i2q\u001b[0m\n",
      "\u001b[35m2021-01-15 15:38:35.365 \u001b[0m\u001b[32m[1610753914002543/start/1 (pid 12116)] \u001b[0m\u001b[22m  tmp_7496997185783575499                       \tvcvdem6noni0sgl6erk06s4r2gtj2i2q\u001b[0m\n",
      "\u001b[35m2021-01-15 15:38:35.365 \u001b[0m\u001b[32m[1610753914002543/start/1 (pid 12116)] \u001b[0m\u001b[22m\u001b[0m\n",
      "\u001b[35m2021-01-15 15:38:35.366 \u001b[0m\u001b[32m[1610753914002543/start/1 (pid 12116)] \u001b[0m\u001b[22m01-15 15:38:35 doltpy.core.dolt INFO     Switched to branch 'tmp_76230193617095352741'\u001b[0m\n",
      "\u001b[35m2021-01-15 15:38:35.464 \u001b[0m\u001b[32m[1610753914002543/start/1 (pid 12116)] \u001b[0m\u001b[22m\u001b[0m\n",
      "\u001b[35m2021-01-15 15:38:35.464 \u001b[0m\u001b[32m[1610753914002543/start/1 (pid 12116)] \u001b[0m\u001b[22m01-15 15:38:35 doltpy.core.dolt INFO\u001b[0m\n",
      "\u001b[35m2021-01-15 15:38:35.552 \u001b[0m\u001b[32m[1610753914002543/start/1 (pid 12116)] \u001b[0m\u001b[22m01-15 15:38:35 doltpy.core.system_helpers INFO     Before exiting cleaning up child processes\u001b[0m\n",
      "\u001b[35m2021-01-15 15:38:35.559 \u001b[0m\u001b[32m[1610753914002543/start/1 (pid 12116)] \u001b[0m\u001b[22m01-15 15:38:35 doltpy.core.system_helpers INFO     No processes to clean up, exiting\u001b[0m\n",
      "\u001b[35m2021-01-15 15:38:35.727 \u001b[0m\u001b[32m[1610753914002543/start/1 (pid 12116)] \u001b[0m\u001b[1mTask finished successfully.\u001b[0m\n",
      "\u001b[35m2021-01-15 15:38:35.733 \u001b[0m\u001b[32m[1610753914002543/middle/2 (pid 12139)] \u001b[0m\u001b[1mTask is starting.\u001b[0m\n",
      "\u001b[35m2021-01-15 15:38:36.874 \u001b[0m\u001b[32m[1610753914002543/middle/2 (pid 12139)] \u001b[0m\u001b[22m01-15 15:38:36 doltpy.core.dolt INFO     Creating engine for Dolt SQL Server instance running on 127.0.0.1:3306\u001b[0m\n",
      "\u001b[35m2021-01-15 15:38:36.959 \u001b[0m\u001b[32m[1610753914002543/middle/2 (pid 12139)] \u001b[0m\u001b[22m01-15 15:38:36 doltpy.core.dolt INFO       master                                        \tr44hf3g77op6cfhmhj10fpa59qu94p00\u001b[0m\n",
      "\u001b[35m2021-01-15 15:38:37.081 \u001b[0m\u001b[32m[1610753914002543/middle/2 (pid 12139)] \u001b[0m\u001b[22m  tmp_4823254690243868365                       \t0cbd00l60kvopvd3qmcohm8ej44pdp2b\u001b[0m\n",
      "\u001b[35m2021-01-15 15:38:37.081 \u001b[0m\u001b[32m[1610753914002543/middle/2 (pid 12139)] \u001b[0m\u001b[22m  tmp_56117570602776442003                      \tr44hf3g77op6cfhmhj10fpa59qu94p00\u001b[0m\n",
      "\u001b[35m2021-01-15 15:38:37.081 \u001b[0m\u001b[32m[1610753914002543/middle/2 (pid 12139)] \u001b[0m\u001b[22m  tmp_65359573685889210212                      \tvcvdem6noni0sgl6erk06s4r2gtj2i2q\u001b[0m\n",
      "\u001b[35m2021-01-15 15:38:37.081 \u001b[0m\u001b[32m[1610753914002543/middle/2 (pid 12139)] \u001b[0m\u001b[22m  tmp_7496997185783575499                       \tvcvdem6noni0sgl6erk06s4r2gtj2i2q\u001b[0m\n",
      "\u001b[35m2021-01-15 15:38:37.081 \u001b[0m\u001b[32m[1610753914002543/middle/2 (pid 12139)] \u001b[0m\u001b[22m* tmp_76230193617095352741                      \tvcvdem6noni0sgl6erk06s4r2gtj2i2q\u001b[0m\n",
      "\u001b[35m2021-01-15 15:38:37.081 \u001b[0m\u001b[32m[1610753914002543/middle/2 (pid 12139)] \u001b[0m\u001b[22m\u001b[0m\n",
      "\u001b[35m2021-01-15 15:38:37.082 \u001b[0m\u001b[32m[1610753914002543/middle/2 (pid 12139)] \u001b[0m\u001b[22m01-15 15:38:37 doltpy.core.dolt INFO     Switched to branch 'tmp_94411905634181357387'\u001b[0m\n",
      "\u001b[35m2021-01-15 15:38:37.187 \u001b[0m\u001b[32m[1610753914002543/middle/2 (pid 12139)] \u001b[0m\u001b[22m\u001b[0m\n",
      "\u001b[35m2021-01-15 15:38:37.187 \u001b[0m\u001b[32m[1610753914002543/middle/2 (pid 12139)] \u001b[0m\u001b[22m01-15 15:38:37 doltpy.core.write.write INFO     No import mode specified, table exists, using \"create\"\u001b[0m\n",
      "\u001b[35m2021-01-15 15:38:37.278 \u001b[0m\u001b[32m[1610753914002543/middle/2 (pid 12139)] \u001b[0m\u001b[22m01-15 15:38:37 doltpy.core.write.write INFO     Importing to table baz in dolt directory located in foo, import mode create\u001b[0m\n",
      "\u001b[35m2021-01-15 15:38:37.278 \u001b[0m\u001b[32m[1610753914002543/middle/2 (pid 12139)] \u001b[0m\u001b[22m01-15 15:38:37 doltpy.core.dolt INFO     Rows Processed: 3, Additions: 3, Modifications: 0, Had No Effect: 0\u001b[0m\n",
      "\u001b[35m2021-01-15 15:38:37.320 \u001b[0m\u001b[32m[1610753914002543/middle/2 (pid 12139)] \u001b[0m\u001b[22m01-15 15:38:37 doltpy.core.dolt INFO\u001b[0m\n",
      "\u001b[35m2021-01-15 15:38:37.402 \u001b[0m\u001b[32m[1610753914002543/middle/2 (pid 12139)] \u001b[0m\u001b[22m01-15 15:38:37 doltpy.core.dolt INFO\u001b[0m\n",
      "\u001b[35m2021-01-15 15:38:37.491 \u001b[0m\u001b[32m[1610753914002543/middle/2 (pid 12139)] \u001b[0m\u001b[22m01-15 15:38:37 doltpy.core.dolt INFO     commit ofgj0lk6ns3oqeltgn2vve68iuvq85cq\u001b[0m\n",
      "\u001b[35m2021-01-15 15:38:37.613 \u001b[0m\u001b[32m[1610753914002543/middle/2 (pid 12139)] \u001b[0m\u001b[22mAuthor: Max Hoffman <maximilian.wolfgang1@gmail.com>\u001b[0m\n",
      "\u001b[35m2021-01-15 15:38:37.613 \u001b[0m\u001b[32m[1610753914002543/middle/2 (pid 12139)] \u001b[0m\u001b[22mDate:   Fri Jan 15 15:38:37 -0800 2021\u001b[0m\n",
      "\u001b[35m2021-01-15 15:38:37.613 \u001b[0m\u001b[32m[1610753914002543/middle/2 (pid 12139)] \u001b[0m\u001b[22m\u001b[0m\n",
      "\u001b[35m2021-01-15 15:38:37.613 \u001b[0m\u001b[32m[1610753914002543/middle/2 (pid 12139)] \u001b[0m\u001b[22m\tSucceedsSecondDemo/1610753914002543/middle/2\u001b[0m\n",
      "\u001b[35m2021-01-15 15:38:37.613 \u001b[0m\u001b[32m[1610753914002543/middle/2 (pid 12139)] \u001b[0m\u001b[22m\u001b[0m\n",
      "\u001b[35m2021-01-15 15:38:37.613 \u001b[0m\u001b[32m[1610753914002543/middle/2 (pid 12139)] \u001b[0m\u001b[22m\u001b[0m\n",
      "\u001b[35m2021-01-15 15:38:37.613 \u001b[0m\u001b[32m[1610753914002543/middle/2 (pid 12139)] \u001b[0m\u001b[22m01-15 15:38:37 doltpy.core.dolt INFO       master                                        \tr44hf3g77op6cfhmhj10fpa59qu94p00\u001b[0m\n",
      "\u001b[35m2021-01-15 15:38:37.694 \u001b[0m\u001b[32m[1610753914002543/middle/2 (pid 12139)] \u001b[0m\u001b[22m  tmp_4823254690243868365                       \t0cbd00l60kvopvd3qmcohm8ej44pdp2b\u001b[0m\n",
      "\u001b[35m2021-01-15 15:38:37.694 \u001b[0m\u001b[32m[1610753914002543/middle/2 (pid 12139)] \u001b[0m\u001b[22m  tmp_56117570602776442003                      \tr44hf3g77op6cfhmhj10fpa59qu94p00\u001b[0m\n",
      "\u001b[35m2021-01-15 15:38:37.695 \u001b[0m\u001b[32m[1610753914002543/middle/2 (pid 12139)] \u001b[0m\u001b[22m  tmp_65359573685889210212                      \tvcvdem6noni0sgl6erk06s4r2gtj2i2q\u001b[0m\n",
      "\u001b[35m2021-01-15 15:38:37.695 \u001b[0m\u001b[32m[1610753914002543/middle/2 (pid 12139)] \u001b[0m\u001b[22m  tmp_7496997185783575499                       \tvcvdem6noni0sgl6erk06s4r2gtj2i2q\u001b[0m\n",
      "\u001b[35m2021-01-15 15:38:37.695 \u001b[0m\u001b[32m[1610753914002543/middle/2 (pid 12139)] \u001b[0m\u001b[22m  tmp_76230193617095352741                      \tvcvdem6noni0sgl6erk06s4r2gtj2i2q\u001b[0m\n",
      "\u001b[35m2021-01-15 15:38:37.695 \u001b[0m\u001b[32m[1610753914002543/middle/2 (pid 12139)] \u001b[0m\u001b[22m* tmp_94411905634181357387                      \tofgj0lk6ns3oqeltgn2vve68iuvq85cq\u001b[0m\n",
      "\u001b[35m2021-01-15 15:38:37.695 \u001b[0m\u001b[32m[1610753914002543/middle/2 (pid 12139)] \u001b[0m\u001b[22m\u001b[0m\n",
      "\u001b[35m2021-01-15 15:38:37.695 \u001b[0m\u001b[32m[1610753914002543/middle/2 (pid 12139)] \u001b[0m\u001b[22m01-15 15:38:37 doltpy.core.system_helpers INFO     Before exiting cleaning up child processes\u001b[0m\n",
      "\u001b[35m2021-01-15 15:38:37.703 \u001b[0m\u001b[32m[1610753914002543/middle/2 (pid 12139)] \u001b[0m\u001b[22m01-15 15:38:37 doltpy.core.system_helpers INFO     No processes to clean up, exiting\u001b[0m\n",
      "\u001b[35m2021-01-15 15:38:37.886 \u001b[0m\u001b[32m[1610753914002543/middle/2 (pid 12139)] \u001b[0m\u001b[1mTask finished successfully.\u001b[0m\n",
      "\u001b[35m2021-01-15 15:38:37.892 \u001b[0m\u001b[32m[1610753914002543/end/3 (pid 12181)] \u001b[0m\u001b[1mTask is starting.\u001b[0m\n",
      "\u001b[35m2021-01-15 15:38:39.034 \u001b[0m\u001b[32m[1610753914002543/end/3 (pid 12181)] \u001b[0m\u001b[22m01-15 15:38:39 doltpy.core.system_helpers INFO     Before exiting cleaning up child processes\u001b[0m\n"
     ]
    },
    {
     "name": "stdout",
     "output_type": "stream",
     "text": [
      "\u001b[35m2021-01-15 15:38:39.040 \u001b[0m\u001b[32m[1610753914002543/end/3 (pid 12181)] \u001b[0m\u001b[22m01-15 15:38:39 doltpy.core.system_helpers INFO     No processes to clean up, exiting\u001b[0m\n",
      "\u001b[35m2021-01-15 15:38:39.202 \u001b[0m\u001b[32m[1610753914002543/end/3 (pid 12181)] \u001b[0m\u001b[1mTask finished successfully.\u001b[0m\n",
      "\u001b[35m2021-01-15 15:38:39.203 \u001b[0m\u001b[1mDone!\u001b[0m\n",
      "01-15 15:38:39 doltpy.core.system_helpers INFO     Before exiting cleaning up child processes\n",
      "01-15 15:38:39 doltpy.core.system_helpers INFO     No processes to clean up, exiting\n"
     ]
    }
   ],
   "source": [
    "!poetry run python3 succeeds_second.py resume start"
   ]
  },
  {
   "cell_type": "code",
   "execution_count": null,
   "id": "behind-there",
   "metadata": {},
   "outputs": [],
   "source": []
  }
 ],
 "metadata": {
  "kernelspec": {
   "display_name": "Python 3",
   "language": "python",
   "name": "python3"
  },
  "language_info": {
   "codemirror_mode": {
    "name": "ipython",
    "version": 3
   },
   "file_extension": ".py",
   "mimetype": "text/x-python",
   "name": "python",
   "nbconvert_exporter": "python",
   "pygments_lexer": "ipython3",
   "version": "3.8.2"
  }
 },
 "nbformat": 4,
 "nbformat_minor": 5
}
