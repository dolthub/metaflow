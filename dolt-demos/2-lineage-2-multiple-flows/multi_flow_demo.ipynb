{
 "cells": [
  {
   "cell_type": "markdown",
   "id": "invisible-bundle",
   "metadata": {},
   "source": [
    "# Multiple flows\n",
    "\n",
    "1. Flow 1 runs, inputs bar1 and outputs bar2\n",
    "2. Flow 2 runs, inputs Flow1.input, Flow1.output"
   ]
  },
  {
   "cell_type": "code",
   "execution_count": 1,
   "id": "northern-blanket",
   "metadata": {},
   "outputs": [
    {
     "name": "stderr",
     "output_type": "stream",
     "text": [
      "01-17 19:09:23 doltpy.core.dolt INFO     Initializing Dolt repo in existing dir .\n",
      "01-17 19:09:23 doltpy.core.dolt INFO     Creating a new repo in .\n"
     ]
    },
    {
     "ename": "DoltException",
     "evalue": "(['dolt', 'init'], b'', b'This directory has already been initialized.\\n', 1)",
     "output_type": "error",
     "traceback": [
      "\u001b[0;31m---------------------------------------------------------------------------\u001b[0m",
      "\u001b[0;31mDoltException\u001b[0m                             Traceback (most recent call last)",
      "\u001b[0;32m<ipython-input-1-69b46066bbab>\u001b[0m in \u001b[0;36m<module>\u001b[0;34m\u001b[0m\n\u001b[1;32m      8\u001b[0m \u001b[0;32mfrom\u001b[0m \u001b[0mdoltpy\u001b[0m\u001b[0;34m.\u001b[0m\u001b[0mcore\u001b[0m\u001b[0;34m.\u001b[0m\u001b[0mwrite\u001b[0m \u001b[0;32mimport\u001b[0m \u001b[0mimport_df\u001b[0m\u001b[0;34m\u001b[0m\u001b[0;34m\u001b[0m\u001b[0m\n\u001b[1;32m      9\u001b[0m \u001b[0;34m\u001b[0m\u001b[0m\n\u001b[0;32m---> 10\u001b[0;31m \u001b[0mdolt\u001b[0m \u001b[0;34m=\u001b[0m \u001b[0mDolt\u001b[0m\u001b[0;34m.\u001b[0m\u001b[0minit\u001b[0m\u001b[0;34m(\u001b[0m\u001b[0;34m\".\"\u001b[0m\u001b[0;34m)\u001b[0m\u001b[0;34m\u001b[0m\u001b[0;34m\u001b[0m\u001b[0m\n\u001b[0m\u001b[1;32m     11\u001b[0m \u001b[0;34m\u001b[0m\u001b[0m\n\u001b[1;32m     12\u001b[0m \u001b[0mdf_v1\u001b[0m \u001b[0;34m=\u001b[0m \u001b[0mpd\u001b[0m\u001b[0;34m.\u001b[0m\u001b[0mDataFrame\u001b[0m\u001b[0;34m(\u001b[0m\u001b[0;34m{\u001b[0m\u001b[0;34m\"A\"\u001b[0m\u001b[0;34m:\u001b[0m \u001b[0;34m[\u001b[0m\u001b[0;36m1\u001b[0m\u001b[0;34m,\u001b[0m\u001b[0;36m1\u001b[0m\u001b[0;34m,\u001b[0m\u001b[0;36m1\u001b[0m\u001b[0;34m]\u001b[0m\u001b[0;34m,\u001b[0m \u001b[0;34m\"B\"\u001b[0m\u001b[0;34m:\u001b[0m \u001b[0;34m[\u001b[0m\u001b[0;36m1\u001b[0m\u001b[0;34m,\u001b[0m\u001b[0;36m1\u001b[0m\u001b[0;34m,\u001b[0m\u001b[0;36m1\u001b[0m\u001b[0;34m]\u001b[0m\u001b[0;34m}\u001b[0m\u001b[0;34m)\u001b[0m\u001b[0;34m\u001b[0m\u001b[0;34m\u001b[0m\u001b[0m\n",
      "\u001b[0;32m~/Library/Caches/pypoetry/virtualenvs/dolt-demos-QWSAyUZC-py3.8/lib/python3.8/site-packages/doltpy/core/dolt.py\u001b[0m in \u001b[0;36minit\u001b[0;34m(repo_dir, server_config)\u001b[0m\n\u001b[1;32m    236\u001b[0m \u001b[0;34m\u001b[0m\u001b[0m\n\u001b[1;32m    237\u001b[0m         \u001b[0mlogger\u001b[0m\u001b[0;34m.\u001b[0m\u001b[0minfo\u001b[0m\u001b[0;34m(\u001b[0m\u001b[0;34m'Creating a new repo in {}'\u001b[0m\u001b[0;34m.\u001b[0m\u001b[0mformat\u001b[0m\u001b[0;34m(\u001b[0m\u001b[0mrepo_dir\u001b[0m\u001b[0;34m)\u001b[0m\u001b[0;34m)\u001b[0m\u001b[0;34m\u001b[0m\u001b[0;34m\u001b[0m\u001b[0m\n\u001b[0;32m--> 238\u001b[0;31m         \u001b[0m_execute\u001b[0m\u001b[0;34m(\u001b[0m\u001b[0;34m[\u001b[0m\u001b[0;34m'init'\u001b[0m\u001b[0;34m]\u001b[0m\u001b[0;34m,\u001b[0m \u001b[0mcwd\u001b[0m\u001b[0;34m=\u001b[0m\u001b[0mrepo_dir\u001b[0m\u001b[0;34m)\u001b[0m\u001b[0;34m\u001b[0m\u001b[0;34m\u001b[0m\u001b[0m\n\u001b[0m\u001b[1;32m    239\u001b[0m         \u001b[0;32mreturn\u001b[0m \u001b[0mDolt\u001b[0m\u001b[0;34m(\u001b[0m\u001b[0mrepo_dir\u001b[0m\u001b[0;34m,\u001b[0m \u001b[0mserver_config\u001b[0m\u001b[0;34m=\u001b[0m\u001b[0mserver_config\u001b[0m\u001b[0;34m)\u001b[0m\u001b[0;34m\u001b[0m\u001b[0;34m\u001b[0m\u001b[0m\n\u001b[1;32m    240\u001b[0m \u001b[0;34m\u001b[0m\u001b[0m\n",
      "\u001b[0;32m~/Library/Caches/pypoetry/virtualenvs/dolt-demos-QWSAyUZC-py3.8/lib/python3.8/site-packages/doltpy/core/dolt.py\u001b[0m in \u001b[0;36m_execute\u001b[0;34m(args, cwd)\u001b[0m\n\u001b[1;32m     54\u001b[0m \u001b[0;34m\u001b[0m\u001b[0m\n\u001b[1;32m     55\u001b[0m     \u001b[0;32mif\u001b[0m \u001b[0mexitcode\u001b[0m \u001b[0;34m!=\u001b[0m \u001b[0;36m0\u001b[0m\u001b[0;34m:\u001b[0m\u001b[0;34m\u001b[0m\u001b[0;34m\u001b[0m\u001b[0m\n\u001b[0;32m---> 56\u001b[0;31m         \u001b[0;32mraise\u001b[0m \u001b[0mDoltException\u001b[0m\u001b[0;34m(\u001b[0m\u001b[0m_args\u001b[0m\u001b[0;34m,\u001b[0m \u001b[0mout\u001b[0m\u001b[0;34m,\u001b[0m \u001b[0merr\u001b[0m\u001b[0;34m,\u001b[0m \u001b[0mexitcode\u001b[0m\u001b[0;34m)\u001b[0m\u001b[0;34m\u001b[0m\u001b[0;34m\u001b[0m\u001b[0m\n\u001b[0m\u001b[1;32m     57\u001b[0m \u001b[0;34m\u001b[0m\u001b[0m\n\u001b[1;32m     58\u001b[0m     \u001b[0;32mreturn\u001b[0m \u001b[0mout\u001b[0m\u001b[0;34m.\u001b[0m\u001b[0mdecode\u001b[0m\u001b[0;34m(\u001b[0m\u001b[0;34m'utf-8'\u001b[0m\u001b[0;34m)\u001b[0m\u001b[0;34m\u001b[0m\u001b[0;34m\u001b[0m\u001b[0m\n",
      "\u001b[0;31mDoltException\u001b[0m: (['dolt', 'init'], b'', b'This directory has already been initialized.\\n', 1)"
     ]
    }
   ],
   "source": [
    "import logging\n",
    "\n",
    "logger = logging.getLogger()\n",
    "logger.setLevel(logging.WARNING)\n",
    "\n",
    "import pandas as pd\n",
    "from doltpy.core import Dolt\n",
    "from doltpy.core.write import import_df\n",
    "\n",
    "dolt = Dolt.init(\".\")\n",
    "\n",
    "df_v1 = pd.DataFrame({\"A\": [1,1,1], \"B\": [1,1,1]})\n",
    "df_v2 = pd.DataFrame({\"A\": [1,1,1,2,2,2], \"B\": [1,1,1,2,2,2]})\n",
    "\n",
    "import_df(dolt, \"bar\", df_v1.reset_index(), [\"index\"], \"create\")\n",
    "dolt.add(\"bar\")\n",
    "dolt.commit(\"Initialize bar\")\n",
    "\n",
    "v1 = list(dolt.log(number=\"1\").keys())[0]\n",
    "\n",
    "import_df(dolt, \"bar\", df_v2.reset_index(), [\"index\"], \"update\")\n",
    "dolt.add(\"bar\")\n",
    "dolt.commit(\"Add rows to bar\")\n",
    "\n",
    "v2 = list(dolt.log(number=\"1\").keys())[0]"
   ]
  },
  {
   "cell_type": "code",
   "execution_count": 7,
   "id": "romantic-italian",
   "metadata": {},
   "outputs": [
    {
     "data": {
      "text/plain": [
       "'Add rows to bar'"
      ]
     },
     "execution_count": 7,
     "metadata": {},
     "output_type": "execute_result"
    }
   ],
   "source": [
    "dolt.log(number=\"1\").popitem()[1].message"
   ]
  },
  {
   "cell_type": "code",
   "execution_count": 13,
   "id": "behind-horizon",
   "metadata": {},
   "outputs": [
    {
     "name": "stdout",
     "output_type": "stream",
     "text": [
      "\u001b[35m\u001b[1mMetaflow 2.2.5.post20+gitfa65b10\u001b[0m\u001b[35m\u001b[22m executing \u001b[0m\u001b[31m\u001b[1mMultiFlowDemo\u001b[0m\u001b[35m\u001b[22m\u001b[0m\u001b[35m\u001b[22m for \u001b[0m\u001b[31m\u001b[1muser:max-hoffman\u001b[0m\u001b[35m\u001b[22m\u001b[K\u001b[0m\u001b[35m\u001b[22m\u001b[0m\n",
      "\u001b[35m\u001b[22mValidating your flow...\u001b[K\u001b[0m\u001b[35m\u001b[22m\u001b[0m\n",
      "\u001b[32m\u001b[1m    The graph looks good!\u001b[K\u001b[0m\u001b[32m\u001b[1m\u001b[0m\n",
      "\u001b[35m\u001b[22mRunning pylint...\u001b[K\u001b[0m\u001b[35m\u001b[22m\u001b[0m\n",
      "\u001b[32m\u001b[1m    Pylint is happy!\u001b[K\u001b[0m\u001b[32m\u001b[1m\u001b[0m\n",
      "\u001b[35m2021-01-16 19:43:28.634 \u001b[0m\u001b[1mWorkflow starting (run-id 1610855008628440):\u001b[0m\n",
      "\u001b[35m2021-01-16 19:43:28.641 \u001b[0m\u001b[32m[1610855008628440/start/1 (pid 20636)] \u001b[0m\u001b[1mTask is starting.\u001b[0m\n",
      "\u001b[35m2021-01-16 19:43:29.782 \u001b[0m\u001b[32m[1610855008628440/start/1 (pid 20636)] \u001b[0m\u001b[22m01-16 19:43:29 doltpy.core.dolt INFO     Creating engine for Dolt SQL Server instance running on 127.0.0.1:3306\u001b[0m\n",
      "\u001b[35m2021-01-16 19:43:29.810 \u001b[0m\u001b[32m[1610855008628440/start/1 (pid 20636)] \u001b[0m\u001b[22m01-16 19:43:29 doltpy.core.dolt INFO     Creating engine for Dolt SQL Server instance running on 127.0.0.1:3306\u001b[0m\n",
      "\u001b[35m2021-01-16 19:43:29.810 \u001b[0m\u001b[32m[1610855008628440/start/1 (pid 20636)] \u001b[0m\u001b[22m01-16 19:43:29 doltpy.core.dolt INFO     Initializing Dolt repo in existing dir /Users/max-hoffman/Documents/sandbox/dolt/metaflow/dolt-demos/2-lineage-2-multiple-flows\u001b[0m\n",
      "\u001b[35m2021-01-16 19:43:29.810 \u001b[0m\u001b[32m[1610855008628440/start/1 (pid 20636)] \u001b[0m\u001b[22m01-16 19:43:29 doltpy.core.dolt INFO     Creating a new repo in /Users/max-hoffman/Documents/sandbox/dolt/metaflow/dolt-demos/2-lineage-2-multiple-flows\u001b[0m\n",
      "\u001b[35m2021-01-16 19:43:29.852 \u001b[0m\u001b[32m[1610855008628440/start/1 (pid 20636)] \u001b[0m\u001b[22m01-16 19:43:29 doltpy.core.dolt INFO     Creating engine for Dolt SQL Server instance running on 127.0.0.1:3306\u001b[0m\n",
      "\u001b[35m2021-01-16 19:43:29.917 \u001b[0m\u001b[32m[1610855008628440/start/1 (pid 20636)] \u001b[0m\u001b[22m01-16 19:43:29 doltpy.core.dolt INFO     * master                                        \t9hi0k5j1nor3nkkofjhni10crgpoukc1\u001b[0m\n",
      "\u001b[35m2021-01-16 19:43:30.013 \u001b[0m\u001b[32m[1610855008628440/start/1 (pid 20636)] \u001b[0m\u001b[22m\u001b[0m\n",
      "\u001b[35m2021-01-16 19:43:30.013 \u001b[0m\u001b[32m[1610855008628440/start/1 (pid 20636)] \u001b[0m\u001b[22m<flow MultiFlowDemo step start> failed:\u001b[0m\n",
      "\u001b[35m2021-01-16 19:43:30.020 \u001b[0m\u001b[32m[1610855008628440/start/1 (pid 20636)] \u001b[0m\u001b[22m    Internal error\u001b[0m\n",
      "\u001b[35m2021-01-16 19:43:30.020 \u001b[0m\u001b[32m[1610855008628440/start/1 (pid 20636)] \u001b[0m\u001b[22mTraceback (most recent call last):\u001b[0m\n",
      "\u001b[35m2021-01-16 19:43:30.021 \u001b[0m\u001b[32m[1610855008628440/start/1 (pid 20636)] \u001b[0m\u001b[22m  File \"/Users/max-hoffman/Documents/sandbox/dolt/metaflow/metaflow/cli.py\", line 923, in main\u001b[0m\n",
      "\u001b[35m2021-01-16 19:43:30.021 \u001b[0m\u001b[32m[1610855008628440/start/1 (pid 20636)] \u001b[0m\u001b[22m    start(auto_envvar_prefix='METAFLOW', obj=state)\u001b[0m\n",
      "\u001b[35m2021-01-16 19:43:30.021 \u001b[0m\u001b[32m[1610855008628440/start/1 (pid 20636)] \u001b[0m\u001b[22m  File \"/Users/max-hoffman/Library/Caches/pypoetry/virtualenvs/dolt-demos-QWSAyUZC-py3.8/lib/python3.8/site-packages/click/core.py\", line 829, in __call__\u001b[0m\n",
      "\u001b[35m2021-01-16 19:43:30.021 \u001b[0m\u001b[32m[1610855008628440/start/1 (pid 20636)] \u001b[0m\u001b[22m    return self.main(args, kwargs)\u001b[0m\n",
      "\u001b[35m2021-01-16 19:43:30.021 \u001b[0m\u001b[32m[1610855008628440/start/1 (pid 20636)] \u001b[0m\u001b[22m  File \"/Users/max-hoffman/Library/Caches/pypoetry/virtualenvs/dolt-demos-QWSAyUZC-py3.8/lib/python3.8/site-packages/click/core.py\", line 782, in main\u001b[0m\n",
      "\u001b[35m2021-01-16 19:43:30.021 \u001b[0m\u001b[32m[1610855008628440/start/1 (pid 20636)] \u001b[0m\u001b[22m    rv = self.invoke(ctx)\u001b[0m\n",
      "\u001b[35m2021-01-16 19:43:30.021 \u001b[0m\u001b[32m[1610855008628440/start/1 (pid 20636)] \u001b[0m\u001b[22m  File \"/Users/max-hoffman/Library/Caches/pypoetry/virtualenvs/dolt-demos-QWSAyUZC-py3.8/lib/python3.8/site-packages/click/core.py\", line 1259, in invoke\u001b[0m\n",
      "\u001b[35m2021-01-16 19:43:30.021 \u001b[0m\u001b[32m[1610855008628440/start/1 (pid 20636)] \u001b[0m\u001b[22m    return _process_result(sub_ctx.command.invoke(sub_ctx))\u001b[0m\n",
      "\u001b[35m2021-01-16 19:43:30.021 \u001b[0m\u001b[32m[1610855008628440/start/1 (pid 20636)] \u001b[0m\u001b[22m  File \"/Users/max-hoffman/Library/Caches/pypoetry/virtualenvs/dolt-demos-QWSAyUZC-py3.8/lib/python3.8/site-packages/click/core.py\", line 1066, in invoke\u001b[0m\n",
      "\u001b[35m2021-01-16 19:43:30.021 \u001b[0m\u001b[32m[1610855008628440/start/1 (pid 20636)] \u001b[0m\u001b[22m    return ctx.invoke(self.callback, ctx.params)\u001b[0m\n",
      "\u001b[35m2021-01-16 19:43:30.021 \u001b[0m\u001b[32m[1610855008628440/start/1 (pid 20636)] \u001b[0m\u001b[22m  File \"/Users/max-hoffman/Library/Caches/pypoetry/virtualenvs/dolt-demos-QWSAyUZC-py3.8/lib/python3.8/site-packages/click/core.py\", line 610, in invoke\u001b[0m\n",
      "\u001b[35m2021-01-16 19:43:30.021 \u001b[0m\u001b[32m[1610855008628440/start/1 (pid 20636)] \u001b[0m\u001b[22m    return callback(args, kwargs)\u001b[0m\n",
      "\u001b[35m2021-01-16 19:43:30.021 \u001b[0m\u001b[32m[1610855008628440/start/1 (pid 20636)] \u001b[0m\u001b[22m  File \"/Users/max-hoffman/Library/Caches/pypoetry/virtualenvs/dolt-demos-QWSAyUZC-py3.8/lib/python3.8/site-packages/click/decorators.py\", line 33, in new_func\u001b[0m\n",
      "\u001b[35m2021-01-16 19:43:30.021 \u001b[0m\u001b[32m[1610855008628440/start/1 (pid 20636)] \u001b[0m\u001b[22m    return f(get_current_context().obj, args, kwargs)\u001b[0m\n",
      "\u001b[35m2021-01-16 19:43:30.021 \u001b[0m\u001b[32m[1610855008628440/start/1 (pid 20636)] \u001b[0m\u001b[22m  File \"/Users/max-hoffman/Documents/sandbox/dolt/metaflow/metaflow/cli.py\", line 436, in step\u001b[0m\n",
      "\u001b[35m2021-01-16 19:43:30.021 \u001b[0m\u001b[32m[1610855008628440/start/1 (pid 20636)] \u001b[0m\u001b[22m    task.run_step(step_name,\u001b[0m\n",
      "\u001b[35m2021-01-16 19:43:30.021 \u001b[0m\u001b[32m[1610855008628440/start/1 (pid 20636)] \u001b[0m\u001b[22m  File \"/Users/max-hoffman/Documents/sandbox/dolt/metaflow/metaflow/task.py\", line 396, in run_step\u001b[0m\n",
      "\u001b[35m2021-01-16 19:43:30.021 \u001b[0m\u001b[32m[1610855008628440/start/1 (pid 20636)] \u001b[0m\u001b[22m    self._exec_step_function(step_func)\u001b[0m\n",
      "\u001b[35m2021-01-16 19:43:30.021 \u001b[0m\u001b[32m[1610855008628440/start/1 (pid 20636)] \u001b[0m\u001b[22m  File \"/Users/max-hoffman/Documents/sandbox/dolt/metaflow/metaflow/task.py\", line 47, in _exec_step_function\u001b[0m\n",
      "\u001b[35m2021-01-16 19:43:30.022 \u001b[0m\u001b[32m[1610855008628440/start/1 (pid 20636)] \u001b[0m\u001b[22m    step_function()\u001b[0m\n",
      "\u001b[35m2021-01-16 19:43:30.022 \u001b[0m\u001b[32m[1610855008628440/start/1 (pid 20636)] \u001b[0m\u001b[22m  File \"demo.py\", line 11, in start\u001b[0m\n",
      "\u001b[35m2021-01-16 19:43:30.022 \u001b[0m\u001b[32m[1610855008628440/start/1 (pid 20636)] \u001b[0m\u001b[22m    with DoltDT(run=self, database='foo', branch=\"master\") as dolt:\u001b[0m\n",
      "\u001b[35m2021-01-16 19:43:30.022 \u001b[0m\u001b[32m[1610855008628440/start/1 (pid 20636)] \u001b[0m\u001b[22m  File \"/Users/max-hoffman/Documents/sandbox/dolt/metaflow/metaflow/datatools/dolt.py\", line 107, in __init__\u001b[0m\n",
      "\u001b[35m2021-01-16 19:43:30.022 \u001b[0m\u001b[32m[1610855008628440/start/1 (pid 20636)] \u001b[0m\u001b[22m    self.doltdb.checkout(branch, checkout_branch=False)\u001b[0m\n",
      "\u001b[35m2021-01-16 19:43:30.022 \u001b[0m\u001b[32m[1610855008628440/start/1 (pid 20636)] \u001b[0m\u001b[22m  File \"/Users/max-hoffman/Library/Caches/pypoetry/virtualenvs/dolt-demos-QWSAyUZC-py3.8/lib/python3.8/site-packages/doltpy/core/dolt.py\", line 768, in checkout\u001b[0m\n",
      "\u001b[35m2021-01-16 19:43:30.022 \u001b[0m\u001b[32m[1610855008628440/start/1 (pid 20636)] \u001b[0m\u001b[22m    self.execute(args, restart_server=True)\u001b[0m\n",
      "\u001b[35m2021-01-16 19:43:30.022 \u001b[0m\u001b[32m[1610855008628440/start/1 (pid 20636)] \u001b[0m\u001b[22m  File \"/Users/max-hoffman/Library/Caches/pypoetry/virtualenvs/dolt-demos-QWSAyUZC-py3.8/lib/python3.8/site-packages/doltpy/core/dolt.py\", line 199, in execute\u001b[0m\n",
      "\u001b[35m2021-01-16 19:43:30.022 \u001b[0m\u001b[32m[1610855008628440/start/1 (pid 20636)] \u001b[0m\u001b[22m    output = _execute(args, self.repo_dir())\u001b[0m\n",
      "\u001b[35m2021-01-16 19:43:30.022 \u001b[0m\u001b[32m[1610855008628440/start/1 (pid 20636)] \u001b[0m\u001b[22m  File \"/Users/max-hoffman/Library/Caches/pypoetry/virtualenvs/dolt-demos-QWSAyUZC-py3.8/lib/python3.8/site-packages/doltpy/core/dolt.py\", line 56, in _execute\u001b[0m\n",
      "\u001b[35m2021-01-16 19:43:30.022 \u001b[0m\u001b[32m[1610855008628440/start/1 (pid 20636)] \u001b[0m\u001b[22m    raise DoltException(_args, out, err, exitcode)\u001b[0m\n",
      "\u001b[35m2021-01-16 19:43:30.022 \u001b[0m\u001b[32m[1610855008628440/start/1 (pid 20636)] \u001b[0m\u001b[22mdoltpy.core.dolt.DoltException: (['dolt', 'checkout', 'master'], b'', b\"Already on branch 'master'\\n\", 1)\u001b[0m\n",
      "\u001b[35m2021-01-16 19:43:30.022 \u001b[0m\u001b[32m[1610855008628440/start/1 (pid 20636)] \u001b[0m\u001b[22m\u001b[0m\n",
      "\u001b[35m2021-01-16 19:43:30.022 \u001b[0m\u001b[32m[1610855008628440/start/1 (pid 20636)] \u001b[0m\u001b[22m01-16 19:43:30 doltpy.core.system_helpers INFO     Before exiting cleaning up child processes\u001b[0m\n",
      "\u001b[35m2021-01-16 19:43:30.027 \u001b[0m\u001b[32m[1610855008628440/start/1 (pid 20636)] \u001b[0m\u001b[22m01-16 19:43:30 doltpy.core.system_helpers INFO     No processes to clean up, exiting\u001b[0m\n"
     ]
    },
    {
     "name": "stdout",
     "output_type": "stream",
     "text": [
      "\u001b[35m2021-01-16 19:43:30.200 \u001b[0m\u001b[32m[1610855008628440/start/1 (pid 20636)] \u001b[0m\u001b[1mTask failed.\u001b[0m\r\n",
      "\u001b[35m2021-01-16 19:43:30.200 \u001b[0m\u001b[31m\u001b[1mWorkflow failed.\u001b[0m\r\n",
      "\u001b[35m2021-01-16 19:43:30.201 \u001b[0m\u001b[31m\u001b[1mTerminating 0 active tasks...\u001b[0m\r\n",
      "\u001b[35m2021-01-16 19:43:30.201 \u001b[0m\u001b[31m\u001b[1mFlushing logs...\u001b[0m\r\n",
      "\u001b[1m    Step failure\u001b[0m\u001b[22m:\u001b[K\u001b[0m\u001b[22m\u001b[0m\r\n",
      "\u001b[22m    Step \u001b[0m\u001b[31m\u001b[1mstart\u001b[0m\u001b[22m (task-id 1) failed.\u001b[K\u001b[0m\u001b[22m\u001b[0m\r\n",
      "\u001b[22m\u001b[K\u001b[0m\r\n",
      "01-16 19:43:30 doltpy.core.system_helpers INFO     Before exiting cleaning up child processes\r\n",
      "01-16 19:43:30 doltpy.core.system_helpers INFO     No processes to clean up, exiting\r\n"
     ]
    }
   ],
   "source": [
    "!poetry run python3 demo.py run"
   ]
  },
  {
   "cell_type": "code",
   "execution_count": 14,
   "id": "round-background",
   "metadata": {},
   "outputs": [
    {
     "name": "stderr",
     "output_type": "stream",
     "text": [
      "01-16 21:04:48 doltpy.core.dolt INFO     Creating engine for Dolt SQL Server instance running on 127.0.0.1:3306\n"
     ]
    }
   ],
   "source": [
    "meta_doltdb = Dolt(\".\")"
   ]
  },
  {
   "cell_type": "code",
   "execution_count": 24,
   "id": "aggregate-cleveland",
   "metadata": {},
   "outputs": [
    {
     "name": "stderr",
     "output_type": "stream",
     "text": [
      "01-16 21:10:47 doltpy.core.dolt INFO     database,commit\n",
      "foo,al0ehd852dev9q37lf4rbjtdkdjo4qln\n",
      "\n",
      "01-16 21:10:47 doltpy.core.dolt INFO     Creating engine for Dolt SQL Server instance running on 127.0.0.1:3306\n",
      "01-16 21:10:47 doltpy.core.dolt INFO     index,A,B\n",
      "0,1,1\n",
      "1,1,1\n",
      "2,1,1\n",
      "3,2,2\n",
      "4,2,2\n",
      "5,2,2\n",
      "\n"
     ]
    },
    {
     "name": "stdout",
     "output_type": "stream",
     "text": [
      "  database                            commit\n",
      "0      foo  al0ehd852dev9q37lf4rbjtdkdjo4qln\n"
     ]
    }
   ],
   "source": [
    "from doltpy.core.read import read_table_sql\n",
    "\n",
    "flow_name = \"MultiFlowDemo\"\n",
    "run_id = \"1610857660139885\"\n",
    "table_name = \"bar\"\n",
    "# get database and commit from metadata\n",
    "filters = f\"flow_name = \\\"{flow_name}\\\"\"\n",
    "filters += f\" AND run_id = \\\"{run_id}\\\"\"\n",
    "# filters += f\" AND kind = \"read\"\n",
    "df = read_table_sql(meta_doltdb, f\"SELECT `database`, `commit` FROM `metadata` WHERE {filters}\")\n",
    "print(df)\n",
    "database = df.database.values[0]\n",
    "commit = df.commit.values[0]\n",
    "db = Dolt(database)\n",
    "table = read_table_sql(db, f\"SELECT * FROM `{table_name}` AS OF \\\"{commit}\\\"\")\n"
   ]
  },
  {
   "cell_type": "code",
   "execution_count": 25,
   "id": "surface-poverty",
   "metadata": {},
   "outputs": [
    {
     "data": {
      "text/html": [
       "<div>\n",
       "<style scoped>\n",
       "    .dataframe tbody tr th:only-of-type {\n",
       "        vertical-align: middle;\n",
       "    }\n",
       "\n",
       "    .dataframe tbody tr th {\n",
       "        vertical-align: top;\n",
       "    }\n",
       "\n",
       "    .dataframe thead th {\n",
       "        text-align: right;\n",
       "    }\n",
       "</style>\n",
       "<table border=\"1\" class=\"dataframe\">\n",
       "  <thead>\n",
       "    <tr style=\"text-align: right;\">\n",
       "      <th></th>\n",
       "      <th>index</th>\n",
       "      <th>A</th>\n",
       "      <th>B</th>\n",
       "    </tr>\n",
       "  </thead>\n",
       "  <tbody>\n",
       "    <tr>\n",
       "      <th>0</th>\n",
       "      <td>0</td>\n",
       "      <td>1</td>\n",
       "      <td>1</td>\n",
       "    </tr>\n",
       "    <tr>\n",
       "      <th>1</th>\n",
       "      <td>1</td>\n",
       "      <td>1</td>\n",
       "      <td>1</td>\n",
       "    </tr>\n",
       "    <tr>\n",
       "      <th>2</th>\n",
       "      <td>2</td>\n",
       "      <td>1</td>\n",
       "      <td>1</td>\n",
       "    </tr>\n",
       "    <tr>\n",
       "      <th>3</th>\n",
       "      <td>3</td>\n",
       "      <td>2</td>\n",
       "      <td>2</td>\n",
       "    </tr>\n",
       "    <tr>\n",
       "      <th>4</th>\n",
       "      <td>4</td>\n",
       "      <td>2</td>\n",
       "      <td>2</td>\n",
       "    </tr>\n",
       "    <tr>\n",
       "      <th>5</th>\n",
       "      <td>5</td>\n",
       "      <td>2</td>\n",
       "      <td>2</td>\n",
       "    </tr>\n",
       "  </tbody>\n",
       "</table>\n",
       "</div>"
      ],
      "text/plain": [
       "  index  A  B\n",
       "0     0  1  1\n",
       "1     1  1  1\n",
       "2     2  1  1\n",
       "3     3  2  2\n",
       "4     4  2  2\n",
       "5     5  2  2"
      ]
     },
     "execution_count": 25,
     "metadata": {},
     "output_type": "execute_result"
    }
   ],
   "source": [
    "table"
   ]
  },
  {
   "cell_type": "code",
   "execution_count": null,
   "id": "tested-consideration",
   "metadata": {},
   "outputs": [],
   "source": []
  }
 ],
 "metadata": {
  "kernelspec": {
   "display_name": "Python 3",
   "language": "python",
   "name": "python3"
  },
  "language_info": {
   "codemirror_mode": {
    "name": "ipython",
    "version": 3
   },
   "file_extension": ".py",
   "mimetype": "text/x-python",
   "name": "python",
   "nbconvert_exporter": "python",
   "pygments_lexer": "ipython3",
   "version": "3.8.2"
  }
 },
 "nbformat": 4,
 "nbformat_minor": 5
}
