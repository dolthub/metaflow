{
 "cells": [
  {
   "cell_type": "code",
   "execution_count": 10,
   "id": "injured-plasma",
   "metadata": {},
   "outputs": [
    {
     "name": "stdout",
     "output_type": "stream",
     "text": [
      "cloning https://doltremoteapi.dolthub.com/vinai/iris-test\n",
      "\u001b[31merror: data repository already exists at iris-test\u001b[0m\n"
     ]
    }
   ],
   "source": [
    "!dolt clone vinai/iris-test"
   ]
  },
  {
   "cell_type": "code",
   "execution_count": 2,
   "id": "southeast-hollow",
   "metadata": {},
   "outputs": [
    {
     "name": "stdout",
     "output_type": "stream",
     "text": [
      "cloning https://doltremoteapi.dolthub.com/vinai/iris-model-results\n",
      "Retrieving remote informatio0 of 63 chunks complete. 0 chunks being downloaded currently0 of 63 chunks complete. 4 chunks being downloaded currently0 of 63 chunks complete. 8 chunks being downloaded currently4 of 63 chunks complete. 4 chunks being downloaded currently8 of 63 chunks complete. 0 chunks being downloaded currently8 of 63 chunks complete. 2 chunks being downloaded currently10 of 63 chunks complete. 0 chunks being downloaded currentl10 of 63 chunks complete. 4 chunks being downloaded currentl14 of 63 chunks complete. 0 chunks being downloaded currentl14 of 63 chunks complete. 4 chunks being downloaded currentl18 of 63 chunks complete. 0 chunks being downloaded currentl18 of 63 chunks complete. 1 chunks being downloaded currentl19 of 63 chunks complete. 0 chunks being downloaded currentl19 of 63 chunks complete. 4 chunks being downloaded currentl23 of 63 chunks complete. 0 chunks being downloaded currentl23 of 63 chunks complete. 1 chunks being downloaded currentl24 of 63 chunks complete. 0 chunks being downloaded currentl24 of 63 chunks complete. 4 chunks being downloaded currentl28 of 63 chunks complete. 0 chunks being downloaded currentl28 of 63 chunks complete. 1 chunks being downloaded currentl29 of 63 chunks complete. 0 chunks being downloaded currentl29 of 63 chunks complete. 4 chunks being downloaded currentl33 of 63 chunks complete. 0 chunks being downloaded currentl33 of 63 chunks complete. 1 chunks being downloaded currentl34 of 63 chunks complete. 0 chunks being downloaded currentl34 of 63 chunks complete. 1 chunks being downloaded currentl35 of 63 chunks complete. 0 chunks being downloaded currentl35 of 63 chunks complete. 4 chunks being downloaded currentl35 of 63 chunks complete. 5 chunks being downloaded currentl39 of 63 chunks complete. 1 chunks being downloaded currentl40 of 63 chunks complete. 0 chunks being downloaded currentl40 of 63 chunks complete. 1 chunks being downloaded currentl41 of 63 chunks complete. 0 chunks being downloaded currentl41 of 63 chunks complete. 1 chunks being downloaded currentl42 of 63 chunks complete. 0 chunks being downloaded currentl42 of 63 chunks complete. 1 chunks being downloaded currentl43 of 63 chunks complete. 0 chunks being downloaded currentl43 of 63 chunks complete. 1 chunks being downloaded currentl44 of 63 chunks complete. 0 chunks being downloaded currentl44 of 63 chunks complete. 4 chunks being downloaded currentl48 of 63 chunks complete. 0 chunks being downloaded currentl48 of 63 chunks complete. 1 chunks being downloaded currentl49 of 63 chunks complete. 0 chunks being downloaded currentl49 of 63 chunks complete. 4 chunks being downloaded currentl53 of 63 chunks complete. 0 chunks being downloaded currentl53 of 63 chunks complete. 6 chunks being downloaded currentl59 of 63 chunks complete. 0 chunks being downloaded currentl59 of 63 chunks complete. 4 chunks being downloaded currentl63 of 63 chunks complete. 0 chunks being downloaded currently.\n"
     ]
    }
   ],
   "source": [
    "!dolt clone vinai/iris-model-results"
   ]
  },
  {
   "cell_type": "code",
   "execution_count": 4,
   "id": "advisory-garbage",
   "metadata": {},
   "outputs": [
    {
     "name": "stdout",
     "output_type": "stream",
     "text": [
      "from metaflow import FlowSpec, step, DoltDT\r\n",
      "import pandas as pd\r\n",
      "import pickle\r\n",
      "from sklearn import tree\r\n",
      "\r\n",
      "class DoltMLDemoFlow(FlowSpec):\r\n",
      "    @step\r\n",
      "    def start(self):\r\n",
      "        # Start by getting original dataset\r\n",
      "        with DoltDT(run=self, doltdb_path='iris-test') as dolt:\r\n",
      "            self.test_set = dolt.read_table('iris-test')\r\n",
      "\r\n",
      "        self.next(self.predict)\r\n",
      "\r\n",
      "    @step\r\n",
      "    def predict(self):\r\n",
      "        with DoltDT(run=self, doltdb_path='iris-model-results') as dolt:\r\n",
      "            self.model = pickle.load(open('model.p', 'rb'))\r\n",
      "            self.model_type = 'Decision Tree'\r\n",
      "\r\n",
      "            samples = self.test_set['sample']\r\n",
      "            y_true = self.test_set['species']\r\n",
      "            y_true = y_true.rename('labels')\r\n",
      "\r\n",
      "            test = self.test_set.drop(columns=['species', 'sample'])\r\n",
      "            predictions = pd.Series(self.model.predict(test))\r\n",
      "            predictions = predictions.rename('predictions')\r\n",
      "\r\n",
      "            self.result = pd.concat([samples, y_true, predictions], axis=1)\r\n",
      "\r\n",
      "            dolt.write_table(table_name='result', df=self.result, pks=['sample'])\r\n",
      "\r\n",
      "        self.next(self.end)\r\n",
      "\r\n",
      "    @step\r\n",
      "    def end(self):\r\n",
      "        with DoltDT(run=self, doltdb_path='iris-model-results') as dolt:\r\n",
      "            dolt.commit_table_writes()\r\n",
      "\r\n",
      "\r\n",
      "if __name__ == '__main__':\r\n",
      "    DoltMLDemoFlow()\r\n"
     ]
    }
   ],
   "source": [
    "!cat iris_demo.py"
   ]
  },
  {
   "cell_type": "code",
   "execution_count": 5,
   "id": "constant-coordinator",
   "metadata": {},
   "outputs": [
    {
     "name": "stdout",
     "output_type": "stream",
     "text": [
      "\u001b[35m\u001b[1mMetaflow 2.2.5.post14+git4337f78\u001b[0m\u001b[35m\u001b[22m executing \u001b[0m\u001b[31m\u001b[1mDoltMLDemoFlow\u001b[0m\u001b[35m\u001b[22m\u001b[0m\u001b[35m\u001b[22m for \u001b[0m\u001b[31m\u001b[1muser:max-hoffman\u001b[0m\u001b[35m\u001b[22m\u001b[K\u001b[0m\u001b[35m\u001b[22m\u001b[0m\n",
      "\u001b[35m\u001b[22mValidating your flow...\u001b[K\u001b[0m\u001b[35m\u001b[22m\u001b[0m\n",
      "\u001b[32m\u001b[1m    The graph looks good!\u001b[K\u001b[0m\u001b[32m\u001b[1m\u001b[0m\n",
      "\u001b[35m\u001b[22mRunning pylint...\u001b[K\u001b[0m\u001b[35m\u001b[22m\u001b[0m\n",
      "\u001b[32m\u001b[1m    Pylint is happy!\u001b[K\u001b[0m\u001b[32m\u001b[1m\u001b[0m\n",
      "\u001b[35m2021-01-14 12:05:54.259 \u001b[0m\u001b[1mWorkflow starting (run-id 1610654754251345):\u001b[0m\n",
      "\u001b[35m2021-01-14 12:05:54.265 \u001b[0m\u001b[32m[1610654754251345/start/1 (pid 2731)] \u001b[0m\u001b[1mTask is starting.\u001b[0m\n",
      "\u001b[35m2021-01-14 12:05:55.315 \u001b[0m\u001b[32m[1610654754251345/start/1 (pid 2731)] \u001b[0m\u001b[22m01-14 12:05:55 doltpy.core.dolt INFO     Creating engine for Dolt SQL Server instance running on 127.0.0.1:3306\u001b[0m\n",
      "\u001b[35m2021-01-14 12:05:55.587 \u001b[0m\u001b[32m[1610654754251345/start/1 (pid 2731)] \u001b[0m\u001b[22m01-14 12:05:55 doltpy.core.dolt INFO     * master                                        \tcnt6q9n22svhdvb1n3g90kk43k3b9aol\u001b[0m\n",
      "\u001b[35m2021-01-14 12:05:55.703 \u001b[0m\u001b[32m[1610654754251345/start/1 (pid 2731)] \u001b[0m\u001b[22m\u001b[0m\n",
      "\u001b[35m2021-01-14 12:05:55.703 \u001b[0m\u001b[32m[1610654754251345/start/1 (pid 2731)] \u001b[0m\u001b[22m01-14 12:05:55 doltpy.core.dolt INFO\u001b[0m\n",
      "\u001b[35m2021-01-14 12:05:55.783 \u001b[0m\u001b[32m[1610654754251345/start/1 (pid 2731)] \u001b[0m\u001b[22m01-14 12:05:55 doltpy.core.system_helpers INFO     Before exiting cleaning up child processes\u001b[0m\n",
      "\u001b[35m2021-01-14 12:05:55.789 \u001b[0m\u001b[32m[1610654754251345/start/1 (pid 2731)] \u001b[0m\u001b[22m01-14 12:05:55 doltpy.core.system_helpers INFO     No processes to clean up, exiting\u001b[0m\n",
      "\u001b[35m2021-01-14 12:05:55.949 \u001b[0m\u001b[32m[1610654754251345/start/1 (pid 2731)] \u001b[0m\u001b[1mTask finished successfully.\u001b[0m\n",
      "\u001b[35m2021-01-14 12:05:55.956 \u001b[0m\u001b[32m[1610654754251345/predict/2 (pid 2748)] \u001b[0m\u001b[1mTask is starting.\u001b[0m\n",
      "\u001b[35m2021-01-14 12:05:57.128 \u001b[0m\u001b[32m[1610654754251345/predict/2 (pid 2748)] \u001b[0m\u001b[22m01-14 12:05:57 doltpy.core.dolt INFO     Creating engine for Dolt SQL Server instance running on 127.0.0.1:3306\u001b[0m\n",
      "\u001b[35m2021-01-14 12:05:57.216 \u001b[0m\u001b[32m[1610654754251345/predict/2 (pid 2748)] \u001b[0m\u001b[22m01-14 12:05:57 doltpy.core.dolt INFO     * master                                        \t4do9ospeovkuaenoqkd963fedaipr9en\u001b[0m\n",
      "\u001b[35m2021-01-14 12:05:57.319 \u001b[0m\u001b[32m[1610654754251345/predict/2 (pid 2748)] \u001b[0m\u001b[22m\u001b[0m\n",
      "\u001b[35m2021-01-14 12:05:57.319 \u001b[0m\u001b[32m[1610654754251345/predict/2 (pid 2748)] \u001b[0m\u001b[22m01-14 12:05:57 doltpy.core.write.write INFO     No import mode specified, table exists, using \"create\"\u001b[0m\n",
      "\u001b[35m2021-01-14 12:05:57.422 \u001b[0m\u001b[32m[1610654754251345/predict/2 (pid 2748)] \u001b[0m\u001b[22m01-14 12:05:57 doltpy.core.write.write INFO     Importing to table result in dolt directory located in iris-model-results, import mode create\u001b[0m\n",
      "\u001b[35m2021-01-14 12:05:57.422 \u001b[0m\u001b[32m[1610654754251345/predict/2 (pid 2748)] \u001b[0m\u001b[22m01-14 12:05:57 doltpy.core.dolt INFO     Rows Processed: 34, Additions: 34, Modifications: 0, Had No Effect: 0\u001b[0m\n",
      "\u001b[35m2021-01-14 12:05:57.483 \u001b[0m\u001b[32m[1610654754251345/predict/2 (pid 2748)] \u001b[0m\u001b[22m01-14 12:05:57 doltpy.core.dolt INFO\u001b[0m\n",
      "\u001b[35m2021-01-14 12:05:57.591 \u001b[0m\u001b[32m[1610654754251345/predict/2 (pid 2748)] \u001b[0m\u001b[22m01-14 12:05:57 doltpy.core.dolt INFO\u001b[0m\n",
      "\u001b[35m2021-01-14 12:05:57.703 \u001b[0m\u001b[32m[1610654754251345/predict/2 (pid 2748)] \u001b[0m\u001b[22m01-14 12:05:57 doltpy.core.dolt INFO     commit h86p839sr86hs4dqb472kkoovak9k52g\u001b[0m\n",
      "\u001b[35m2021-01-14 12:05:57.841 \u001b[0m\u001b[32m[1610654754251345/predict/2 (pid 2748)] \u001b[0m\u001b[22mAuthor: Max Hoffman <maximilian.wolfgang1@gmail.com>\u001b[0m\n",
      "\u001b[35m2021-01-14 12:05:57.841 \u001b[0m\u001b[32m[1610654754251345/predict/2 (pid 2748)] \u001b[0m\u001b[22mDate:   Thu Jan 14 12:05:57 -0800 2021\u001b[0m\n",
      "\u001b[35m2021-01-14 12:05:57.841 \u001b[0m\u001b[32m[1610654754251345/predict/2 (pid 2748)] \u001b[0m\u001b[22m\u001b[0m\n",
      "\u001b[35m2021-01-14 12:05:57.842 \u001b[0m\u001b[32m[1610654754251345/predict/2 (pid 2748)] \u001b[0m\u001b[22m\tDoltMLDemoFlow/1610654754251345/predict/2\u001b[0m\n",
      "\u001b[35m2021-01-14 12:05:57.842 \u001b[0m\u001b[32m[1610654754251345/predict/2 (pid 2748)] \u001b[0m\u001b[22m\u001b[0m\n",
      "\u001b[35m2021-01-14 12:05:57.842 \u001b[0m\u001b[32m[1610654754251345/predict/2 (pid 2748)] \u001b[0m\u001b[22m\u001b[0m\n",
      "\u001b[35m2021-01-14 12:05:57.842 \u001b[0m\u001b[32m[1610654754251345/predict/2 (pid 2748)] \u001b[0m\u001b[22m01-14 12:05:57 doltpy.core.dolt INFO     * master                                        \th86p839sr86hs4dqb472kkoovak9k52g\u001b[0m\n",
      "\u001b[35m2021-01-14 12:05:57.863 \u001b[0m\u001b[32m[1610654754251345/predict/2 (pid 2748)] \u001b[0m\u001b[22m\u001b[0m\n",
      "\u001b[35m2021-01-14 12:05:57.863 \u001b[0m\u001b[32m[1610654754251345/predict/2 (pid 2748)] \u001b[0m\u001b[22m01-14 12:05:57 doltpy.core.system_helpers INFO     Before exiting cleaning up child processes\u001b[0m\n",
      "\u001b[35m2021-01-14 12:05:57.873 \u001b[0m\u001b[32m[1610654754251345/predict/2 (pid 2748)] \u001b[0m\u001b[22m01-14 12:05:57 doltpy.core.system_helpers INFO     No processes to clean up, exiting\u001b[0m\n",
      "\u001b[35m2021-01-14 12:05:58.067 \u001b[0m\u001b[32m[1610654754251345/predict/2 (pid 2748)] \u001b[0m\u001b[1mTask finished successfully.\u001b[0m\n",
      "\u001b[35m2021-01-14 12:05:58.076 \u001b[0m\u001b[32m[1610654754251345/end/3 (pid 2781)] \u001b[0m\u001b[1mTask is starting.\u001b[0m\n",
      "\u001b[35m2021-01-14 12:05:59.357 \u001b[0m\u001b[32m[1610654754251345/end/3 (pid 2781)] \u001b[0m\u001b[22m01-14 12:05:59 doltpy.core.dolt INFO     Creating engine for Dolt SQL Server instance running on 127.0.0.1:3306\u001b[0m\n",
      "\u001b[35m2021-01-14 12:05:59.445 \u001b[0m\u001b[32m[1610654754251345/end/3 (pid 2781)] \u001b[0m\u001b[22m01-14 12:05:59 doltpy.core.dolt INFO     * master                                        \th86p839sr86hs4dqb472kkoovak9k52g\u001b[0m\n",
      "\u001b[35m2021-01-14 12:05:59.544 \u001b[0m\u001b[32m[1610654754251345/end/3 (pid 2781)] \u001b[0m\u001b[22m\u001b[0m\n",
      "\u001b[35m2021-01-14 12:05:59.544 \u001b[0m\u001b[32m[1610654754251345/end/3 (pid 2781)] \u001b[0m\u001b[22m01-14 12:05:59 doltpy.core.dolt INFO\u001b[0m\n",
      "\u001b[35m2021-01-14 12:05:59.647 \u001b[0m\u001b[32m[1610654754251345/end/3 (pid 2781)] \u001b[0m\u001b[22m01-14 12:05:59 doltpy.core.dolt INFO     commit k1mr15s355hmaq5q9as1jq5cs8jvndp7\u001b[0m\n",
      "\u001b[35m2021-01-14 12:05:59.771 \u001b[0m\u001b[32m[1610654754251345/end/3 (pid 2781)] \u001b[0m\u001b[22mAuthor: Max Hoffman <maximilian.wolfgang1@gmail.com>\u001b[0m\n",
      "\u001b[35m2021-01-14 12:05:59.771 \u001b[0m\u001b[32m[1610654754251345/end/3 (pid 2781)] \u001b[0m\u001b[22mDate:   Thu Jan 14 12:05:59 -0800 2021\u001b[0m\n",
      "\u001b[35m2021-01-14 12:05:59.771 \u001b[0m\u001b[32m[1610654754251345/end/3 (pid 2781)] \u001b[0m\u001b[22m\u001b[0m\n",
      "\u001b[35m2021-01-14 12:05:59.771 \u001b[0m\u001b[32m[1610654754251345/end/3 (pid 2781)] \u001b[0m\u001b[22m\tDoltMLDemoFlow/1610654754251345/end/3\u001b[0m\n",
      "\u001b[35m2021-01-14 12:05:59.771 \u001b[0m\u001b[32m[1610654754251345/end/3 (pid 2781)] \u001b[0m\u001b[22m\u001b[0m\n",
      "\u001b[35m2021-01-14 12:05:59.771 \u001b[0m\u001b[32m[1610654754251345/end/3 (pid 2781)] \u001b[0m\u001b[22m\u001b[0m\n",
      "\u001b[35m2021-01-14 12:05:59.772 \u001b[0m\u001b[32m[1610654754251345/end/3 (pid 2781)] \u001b[0m\u001b[22m01-14 12:05:59 doltpy.core.dolt INFO     * master                                        \tk1mr15s355hmaq5q9as1jq5cs8jvndp7\u001b[0m\n",
      "\u001b[35m2021-01-14 12:05:59.783 \u001b[0m\u001b[32m[1610654754251345/end/3 (pid 2781)] \u001b[0m\u001b[22m\u001b[0m\n",
      "\u001b[35m2021-01-14 12:05:59.783 \u001b[0m\u001b[32m[1610654754251345/end/3 (pid 2781)] \u001b[0m\u001b[22m01-14 12:05:59 doltpy.core.system_helpers INFO     Before exiting cleaning up child processes\u001b[0m\n",
      "\u001b[35m2021-01-14 12:05:59.793 \u001b[0m\u001b[32m[1610654754251345/end/3 (pid 2781)] \u001b[0m\u001b[22m01-14 12:05:59 doltpy.core.system_helpers INFO     No processes to clean up, exiting\u001b[0m\n",
      "\u001b[35m2021-01-14 12:05:59.968 \u001b[0m\u001b[32m[1610654754251345/end/3 (pid 2781)] \u001b[0m\u001b[1mTask finished successfully.\u001b[0m\n",
      "\u001b[35m2021-01-14 12:05:59.968 \u001b[0m\u001b[1mDone!\u001b[0m\n",
      "01-14 12:05:59 doltpy.core.system_helpers INFO     Before exiting cleaning up child processes\n",
      "01-14 12:05:59 doltpy.core.system_helpers INFO     No processes to clean up, exiting\n"
     ]
    }
   ],
   "source": [
    "!poetry run python3 iris_demo.py run"
   ]
  },
  {
   "cell_type": "code",
   "execution_count": 4,
   "id": "accompanied-oxygen",
   "metadata": {},
   "outputs": [
    {
     "name": "stderr",
     "output_type": "stream",
     "text": [
      "01-14 12:56:25 doltpy.core.dolt INFO     Creating engine for Dolt SQL Server instance running on 127.0.0.1:3306\n"
     ]
    },
    {
     "name": "stdout",
     "output_type": "stream",
     "text": [
      "Current metadata provider: local@/Users/max-hoffman/Documents/sandbox/dolt/metaflow/dolt-demos\n",
      "Using run: Run('DoltMLDemoFlow/1610654754251345')\n"
     ]
    },
    {
     "name": "stderr",
     "output_type": "stream",
     "text": [
      "01-14 12:56:25 doltpy.core.dolt INFO     * master                                        \tcnt6q9n22svhdvb1n3g90kk43k3b9aol\n",
      "\n",
      "01-14 12:56:25 doltpy.core.dolt INFO     sample,sepal_length,sepal_width,petal_length,petal_width,species\n",
      "3,4.7,3.2,1.3,0.2,setosa\n",
      "5,5,3.6,1.4,0.2,setosa\n",
      "10,4.9,3.1,1.5,0.1,setosa\n",
      "29,5.2,3.4,1.4,0.2,setosa\n",
      "32,5.4,3.4,1.5,0.4,setosa\n",
      "35,4.9,3.1,1.5,0.1,setosa\n",
      "40,5.1,3.4,1.5,0.2,setosa\n",
      "42,4.5,2.3,1.3,0.3,setosa\n",
      "51,7,3.2,4.7,1.4,versicolor\n",
      "58,4.9,2.4,3.3,1,versicolor\n",
      "60,5.2,2.7,3.9,1.4,versicolor\n",
      "62,5.9,3,4.2,1.5,versicolor\n",
      "63,6,2.2,4,1,versicolor\n",
      "65,5.6,2.9,3.6,1.3,versicolor\n",
      "67,5.6,3,4.5,1.5,versicolor\n",
      "69,6.2,2.2,4.5,1.5,versicolor\n",
      "70,5.6,2.5,3.9,1.1,versicolor\n",
      "73,6.3,2.5,4.9,1.5,versicolor\n",
      "74,6.1,2.8,4.7,1.2,versicolor\n",
      "75,6.4,2.9,4.3,1.3,versicolor\n",
      "133,6.4,2.8,5.6,2.2,virginica\n",
      "136,7.7,3,6.1,2.3,virginica\n",
      "143,5.8,2.7,5.1,1.9,virginica\n",
      "147,6.3,2.5,5,1.9,virginica\n",
      "79,6,2.9,4.5,1.5,versicolor\n",
      "89,5.6,3,4.1,1.3,versicolor\n",
      "91,5.5,2.6,4.4,1.2,versicolor\n",
      "104,6.3,2.9,5.6,1.8,virginica\n",
      "115,5.8,2.8,5.1,2.4,virginica\n",
      "121,6.9,3.2,5.7,2.3,virginica\n",
      "122,5.6,2.8,4.9,2,virginica\n",
      "123,7.7,2.8,6.7,2,virginica\n",
      "130,7.2,3,5.8,1.6,virginica\n",
      "131,7.4,2.8,6.1,1.9,virginica\n",
      "\n"
     ]
    },
    {
     "name": "stdout",
     "output_type": "stream",
     "text": [
      "1610654754251345/start, iris-test\n"
     ]
    },
    {
     "data": {
      "text/plain": [
       "'\\nEx 3 Outputs are handled identically\\n'"
      ]
     },
     "execution_count": 4,
     "metadata": {},
     "output_type": "execute_result"
    }
   ],
   "source": [
    "from metaflow import Flow, get_metadata\n",
    "from metaflow.datatools.dolt import DoltDT\n",
    "from doltpy.core import Dolt\n",
    "\n",
    "def print_data_map(data_map):\n",
    "    for run_step in data_map.keys():\n",
    "        for table in data_map[run_step]:\n",
    "            print('{}, {}'.format(run_step, table))\n",
    "            #print(data_map[run_step][table])\n",
    "\n",
    "\n",
    "print(\"Current metadata provider: %s\" % get_metadata())\n",
    "doltdb_path = './iris-test'\n",
    "flow = Flow('DoltMLDemoFlow')\n",
    "run = flow.latest_successful_run\n",
    "print(\"Using run: %s\" % str(run))\n",
    "\n",
    "'''\n",
    "Ex 1: Get all the inputs used by a specific run of a flow\n",
    "'''\n",
    "doltdt = DoltDT(run, doltdb_path, 'master')\n",
    "data_map_for_run = doltdt.get_reads(steps=['start'])\n",
    "print_data_map(data_map_for_run)\n",
    "\n",
    "'''\n",
    "Ex 2: Get all the inputs used by a specific step of a run of a flow\n",
    "'''\n",
    "# doltdt = DoltDT(run, doltdb_path, 'vinai/add-rotten-data')\n",
    "# data_map_for_run = doltdt.get_reads(steps=['start'])\n",
    "# print_data_map(data_map_for_run)\n",
    "\n",
    "'''\n",
    "Ex 3 Outputs are handled identically\n",
    "'''\n",
    "doltdt = DoltDT(run, doltdb_path, 'vinai/add-rotten-data')\n",
    "data_map_flow_outputs = doltdt.get_writes(steps=['stats'])\n",
    "print_data_map(data_map_flow_outputs)\n",
    "\n",
    "# d = Dolt('imdb-reviews')"
   ]
  },
  {
   "cell_type": "code",
   "execution_count": 2,
   "id": "innovative-ownership",
   "metadata": {},
   "outputs": [
    {
     "ename": "SyntaxError",
     "evalue": "closing parenthesis ']' does not match opening parenthesis '(' (<ipython-input-2-c65f291c9618>, line 1)",
     "output_type": "error",
     "traceback": [
      "\u001b[0;36m  File \u001b[0;32m\"<ipython-input-2-c65f291c9618>\"\u001b[0;36m, line \u001b[0;32m1\u001b[0m\n\u001b[0;31m    print('SELECT * FROM `iris-test` AS OF \"cnt6q9n22svhdvb1n3g90kk43k3b9aol\"', '--result-format', 'csv'], b'', b'could not find a value for this hash\\n')\u001b[0m\n\u001b[0m                                                                                                        ^\u001b[0m\n\u001b[0;31mSyntaxError\u001b[0m\u001b[0;31m:\u001b[0m closing parenthesis ']' does not match opening parenthesis '('\n"
     ]
    }
   ],
   "source": [
    "print('SELECT * FROM `iris-test` AS OF \"cnt6q9n22svhdvb1n3g90kk43k3b9aol\"', '--result-format', 'csv'], b'', b'could not find a value for this hash\\n')"
   ]
  },
  {
   "cell_type": "code",
   "execution_count": 5,
   "id": "naval-probability",
   "metadata": {},
   "outputs": [
    {
     "data": {
      "text/plain": [
       "{'1610654754251345/start': {'iris-test':    sample sepal_length sepal_width petal_length petal_width     species\n",
       "  0       3          4.7         3.2          1.3         0.2      setosa\n",
       "  1       5            5         3.6          1.4         0.2      setosa\n",
       "  2      10          4.9         3.1          1.5         0.1      setosa\n",
       "  3      29          5.2         3.4          1.4         0.2      setosa\n",
       "  4      32          5.4         3.4          1.5         0.4      setosa\n",
       "  5      35          4.9         3.1          1.5         0.1      setosa\n",
       "  6      40          5.1         3.4          1.5         0.2      setosa\n",
       "  7      42          4.5         2.3          1.3         0.3      setosa\n",
       "  8      51            7         3.2          4.7         1.4  versicolor\n",
       "  9      58          4.9         2.4          3.3           1  versicolor\n",
       "  10     60          5.2         2.7          3.9         1.4  versicolor\n",
       "  11     62          5.9           3          4.2         1.5  versicolor\n",
       "  12     63            6         2.2            4           1  versicolor\n",
       "  13     65          5.6         2.9          3.6         1.3  versicolor\n",
       "  14     67          5.6           3          4.5         1.5  versicolor\n",
       "  15     69          6.2         2.2          4.5         1.5  versicolor\n",
       "  16     70          5.6         2.5          3.9         1.1  versicolor\n",
       "  17     73          6.3         2.5          4.9         1.5  versicolor\n",
       "  18     74          6.1         2.8          4.7         1.2  versicolor\n",
       "  19     75          6.4         2.9          4.3         1.3  versicolor\n",
       "  20    133          6.4         2.8          5.6         2.2   virginica\n",
       "  21    136          7.7           3          6.1         2.3   virginica\n",
       "  22    143          5.8         2.7          5.1         1.9   virginica\n",
       "  23    147          6.3         2.5            5         1.9   virginica\n",
       "  24     79            6         2.9          4.5         1.5  versicolor\n",
       "  25     89          5.6           3          4.1         1.3  versicolor\n",
       "  26     91          5.5         2.6          4.4         1.2  versicolor\n",
       "  27    104          6.3         2.9          5.6         1.8   virginica\n",
       "  28    115          5.8         2.8          5.1         2.4   virginica\n",
       "  29    121          6.9         3.2          5.7         2.3   virginica\n",
       "  30    122          5.6         2.8          4.9           2   virginica\n",
       "  31    123          7.7         2.8          6.7           2   virginica\n",
       "  32    130          7.2           3          5.8         1.6   virginica\n",
       "  33    131          7.4         2.8          6.1         1.9   virginica}}"
      ]
     },
     "execution_count": 5,
     "metadata": {},
     "output_type": "execute_result"
    }
   ],
   "source": [
    "data_map_for_run"
   ]
  },
  {
   "cell_type": "code",
   "execution_count": null,
   "id": "requested-sugar",
   "metadata": {},
   "outputs": [],
   "source": []
  }
 ],
 "metadata": {
  "kernelspec": {
   "display_name": "Python 3",
   "language": "python",
   "name": "python3"
  },
  "language_info": {
   "codemirror_mode": {
    "name": "ipython",
    "version": 3
   },
   "file_extension": ".py",
   "mimetype": "text/x-python",
   "name": "python",
   "nbconvert_exporter": "python",
   "pygments_lexer": "ipython3",
   "version": "3.8.2"
  }
 },
 "nbformat": 4,
 "nbformat_minor": 5
}
