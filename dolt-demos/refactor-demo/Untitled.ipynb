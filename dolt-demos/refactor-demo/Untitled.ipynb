{
 "cells": [
  {
   "cell_type": "code",
   "execution_count": 1,
   "id": "ruled-definition",
   "metadata": {},
   "outputs": [
    {
     "name": "stderr",
     "output_type": "stream",
     "text": [
      "01-22 13:59:30 doltpy.core.dolt INFO     Creating directory foo\n",
      "01-22 13:59:30 doltpy.core.dolt INFO     Creating a new repo in foo\n",
      "01-22 13:59:30 doltpy.core.dolt INFO     Creating engine for Dolt SQL Server instance running on 127.0.0.1:3306\n",
      "01-22 13:59:30 doltpy.core.write.write INFO     Importing to table bar in dolt directory located in foo, import mode create\n",
      "01-22 13:59:31 doltpy.core.dolt INFO     Rows Processed: 3, Additions: 3, Modifications: 0, Had No Effect: 0\n",
      "01-22 13:59:31 doltpy.core.dolt INFO     \n",
      "01-22 13:59:31 doltpy.core.dolt INFO     commit kt9268l0vmfgaekfk3vjgqiljl1lab1q\n",
      "Author: Max Hoffman <maximilian.wolfgang1@gmail.com>\n",
      "Date:   Fri Jan 22 13:59:31 -0800 2021\n",
      "\n",
      "\tInitialize bar\n",
      "\n",
      "\n",
      "01-22 13:59:31 doltpy.core.write.write INFO     Importing to table bar in dolt directory located in foo, import mode update\n",
      "01-22 13:59:31 doltpy.core.dolt INFO     Rows Processed: 6, Additions: 3, Modifications: 0, Had No Effect: 3\n",
      "01-22 13:59:31 doltpy.core.dolt INFO     \n",
      "01-22 13:59:31 doltpy.core.dolt INFO     commit 1hg5plrn9glt0nv5assjcabgtnfmc0m6\n",
      "Author: Max Hoffman <maximilian.wolfgang1@gmail.com>\n",
      "Date:   Fri Jan 22 13:59:31 -0800 2021\n",
      "\n",
      "\tAdd rows to bar\n",
      "\n",
      "\n"
     ]
    }
   ],
   "source": [
    "import logging\n",
    "\n",
    "logger = logging.getLogger()\n",
    "logger.setLevel(logging.WARNING)\n",
    "\n",
    "from doltpy.core import Dolt\n",
    "from doltpy.core.write import import_df\n",
    "import pandas as pd\n",
    "\n",
    "dolt = Dolt.init(\"foo\")\n",
    "\n",
    "df_v1 = pd.DataFrame({\"A\": [1,1,1], \"B\": [1,1,1]})\n",
    "df_v2 = pd.DataFrame({\"A\": [1,1,1,2,2,2], \"B\": [1,1,1,2,2,2]})\n",
    "\n",
    "import_df(dolt, \"bar\", df_v1.reset_index(), [\"index\"], \"create\")\n",
    "dolt.add(\"bar\")\n",
    "dolt.commit(\"Initialize bar\")\n",
    "\n",
    "v1 = list(dolt.log(number=\"1\").keys())[0]\n",
    "\n",
    "import_df(dolt, \"bar\", df_v2.reset_index(), [\"index\"], \"update\")\n",
    "dolt.add(\"bar\")\n",
    "dolt.commit(\"Add rows to bar\")\n",
    "\n",
    "v2 = list(dolt.log(number=\"1\").keys())[0]"
   ]
  },
  {
   "cell_type": "code",
   "execution_count": null,
   "id": "charming-cradle",
   "metadata": {},
   "outputs": [],
   "source": []
  }
 ],
 "metadata": {
  "kernelspec": {
   "display_name": "Python 3",
   "language": "python",
   "name": "python3"
  },
  "language_info": {
   "codemirror_mode": {
    "name": "ipython",
    "version": 3
   },
   "file_extension": ".py",
   "mimetype": "text/x-python",
   "name": "python",
   "nbconvert_exporter": "python",
   "pygments_lexer": "ipython3",
   "version": "3.8.2"
  }
 },
 "nbformat": 4,
 "nbformat_minor": 5
}
