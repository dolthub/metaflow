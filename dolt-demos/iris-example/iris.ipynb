{
 "cells": [
  {
   "cell_type": "code",
   "execution_count": 2,
   "id": "injured-plasma",
   "metadata": {},
   "outputs": [
    {
     "name": "stdout",
     "output_type": "stream",
     "text": [
      "cloning https://doltremoteapi.dolthub.com/vinai/iris-test\n",
      "Retrieving remote informatio0 of 9 chunks complete. 0 chunks being downloaded currentl0 of 9 chunks complete. 7 chunks being downloaded currentl0 of 9 chunks complete. 9 chunks being downloaded currentl7 of 9 chunks complete. 2 chunks being downloaded currentl9 of 9 chunks complete. 0 chunks being downloaded currently.\n"
     ]
    }
   ],
   "source": [
    "!dolt clone vinai/iris-test"
   ]
  },
  {
   "cell_type": "code",
   "execution_count": null,
   "id": "southeast-hollow",
   "metadata": {},
   "outputs": [],
   "source": [
    "!dolt clone vinai/iris-model-results"
   ]
  },
  {
   "cell_type": "code",
   "execution_count": 4,
   "id": "advisory-garbage",
   "metadata": {},
   "outputs": [
    {
     "name": "stdout",
     "output_type": "stream",
     "text": [
      "from metaflow import FlowSpec, step, DoltDT\r\n",
      "import pandas as pd\r\n",
      "import pickle\r\n",
      "from sklearn import tree\r\n",
      "\r\n",
      "class DoltMLDemoFlow(FlowSpec):\r\n",
      "    @step\r\n",
      "    def start(self):\r\n",
      "        # Start by getting original dataset\r\n",
      "        with DoltDT(run=self, doltdb_path='iris-test') as dolt:\r\n",
      "            self.test_set = dolt.read_table('iris-test')\r\n",
      "\r\n",
      "        self.next(self.predict)\r\n",
      "\r\n",
      "    @step\r\n",
      "    def predict(self):\r\n",
      "        with DoltDT(run=self, doltdb_path='iris-model-results') as dolt:\r\n",
      "            self.model = pickle.load(open('model.p', 'rb'))\r\n",
      "            self.model_type = 'Decision Tree'\r\n",
      "\r\n",
      "            samples = self.test_set['sample']\r\n",
      "            y_true = self.test_set['species']\r\n",
      "            y_true = y_true.rename('labels')\r\n",
      "\r\n",
      "            test = self.test_set.drop(columns=['species', 'sample'])\r\n",
      "            predictions = pd.Series(self.model.predict(test))\r\n",
      "            predictions = predictions.rename('predictions')\r\n",
      "\r\n",
      "            self.result = pd.concat([samples, y_true, predictions], axis=1)\r\n",
      "\r\n",
      "            dolt.write_table(table_name='result', df=self.result, pks=['sample'])\r\n",
      "\r\n",
      "        self.next(self.end)\r\n",
      "\r\n",
      "    @step\r\n",
      "    def end(self):\r\n",
      "        with DoltDT(run=self, doltdb_path='iris-model-results') as dolt:\r\n",
      "            dolt.commit_table_writes()\r\n",
      "\r\n",
      "\r\n",
      "if __name__ == '__main__':\r\n",
      "    DoltMLDemoFlow()\r\n"
     ]
    }
   ],
   "source": [
    "!cat dolt_ml_demo.py"
   ]
  },
  {
   "cell_type": "code",
   "execution_count": 3,
   "id": "constant-coordinator",
   "metadata": {},
   "outputs": [
    {
     "name": "stdout",
     "output_type": "stream",
     "text": [
      "\u001b[35m\u001b[1mMetaflow 2.2.5.post14+git4337f78\u001b[0m\u001b[35m\u001b[22m executing \u001b[0m\u001b[31m\u001b[1mDoltMLDemoFlow\u001b[0m\u001b[35m\u001b[22m\u001b[0m\u001b[35m\u001b[22m for \u001b[0m\u001b[31m\u001b[1muser:max-hoffman\u001b[0m\u001b[35m\u001b[22m\u001b[K\u001b[0m\u001b[35m\u001b[22m\u001b[0m\n",
      "\u001b[35m\u001b[22mValidating your flow...\u001b[K\u001b[0m\u001b[35m\u001b[22m\u001b[0m\n",
      "\u001b[32m\u001b[1m    The graph looks good!\u001b[K\u001b[0m\u001b[32m\u001b[1m\u001b[0m\n",
      "\u001b[35m\u001b[22mRunning pylint...\u001b[K\u001b[0m\u001b[35m\u001b[22m\u001b[0m\n",
      "\u001b[32m\u001b[1m    Pylint is happy!\u001b[K\u001b[0m\u001b[32m\u001b[1m\u001b[0m\n",
      "\u001b[35m2021-01-14 11:00:35.485 \u001b[0m\u001b[1mWorkflow starting (run-id 1610650835478011):\u001b[0m\n",
      "\u001b[35m2021-01-14 11:00:35.491 \u001b[0m\u001b[32m[1610650835478011/start/1 (pid 2132)] \u001b[0m\u001b[1mTask is starting.\u001b[0m\n",
      "\u001b[35m2021-01-14 11:00:36.624 \u001b[0m\u001b[32m[1610650835478011/start/1 (pid 2132)] \u001b[0m\u001b[22m01-14 11:00:36 doltpy.core.dolt INFO     Creating engine for Dolt SQL Server instance running on 127.0.0.1:3306\u001b[0m\n",
      "\u001b[35m2021-01-14 11:00:36.709 \u001b[0m\u001b[32m[1610650835478011/start/1 (pid 2132)] \u001b[0m\u001b[22m01-14 11:00:36 doltpy.core.dolt INFO     * master                                        \tcnt6q9n22svhdvb1n3g90kk43k3b9aol\u001b[0m\n",
      "\u001b[35m2021-01-14 11:00:36.806 \u001b[0m\u001b[32m[1610650835478011/start/1 (pid 2132)] \u001b[0m\u001b[22m\u001b[0m\n",
      "\u001b[35m2021-01-14 11:00:36.806 \u001b[0m\u001b[32m[1610650835478011/start/1 (pid 2132)] \u001b[0m\u001b[22m01-14 11:00:36 doltpy.core.dolt INFO\u001b[0m\n",
      "\u001b[35m2021-01-14 11:00:36.881 \u001b[0m\u001b[32m[1610650835478011/start/1 (pid 2132)] \u001b[0m\u001b[22m01-14 11:00:36 doltpy.core.system_helpers INFO     Before exiting cleaning up child processes\u001b[0m\n",
      "\u001b[35m2021-01-14 11:00:36.888 \u001b[0m\u001b[32m[1610650835478011/start/1 (pid 2132)] \u001b[0m\u001b[22m01-14 11:00:36 doltpy.core.system_helpers INFO     No processes to clean up, exiting\u001b[0m\n",
      "\u001b[35m2021-01-14 11:00:37.064 \u001b[0m\u001b[32m[1610650835478011/start/1 (pid 2132)] \u001b[0m\u001b[1mTask finished successfully.\u001b[0m\n",
      "\u001b[35m2021-01-14 11:00:37.072 \u001b[0m\u001b[32m[1610650835478011/predict/2 (pid 2149)] \u001b[0m\u001b[1mTask is starting.\u001b[0m\n",
      "\u001b[35m2021-01-14 11:00:38.183 \u001b[0m\u001b[32m[1610650835478011/predict/2 (pid 2149)] \u001b[0m\u001b[22m01-14 11:00:38 doltpy.core.dolt INFO     Creating engine for Dolt SQL Server instance running on 127.0.0.1:3306\u001b[0m\n",
      "\u001b[35m2021-01-14 11:00:38.267 \u001b[0m\u001b[32m[1610650835478011/predict/2 (pid 2149)] \u001b[0m\u001b[22m01-14 11:00:38 doltpy.core.dolt INFO     * master                                        \tsoe04pejtv523ci3nnegalpbj3eltj9m\u001b[0m\n",
      "\u001b[35m2021-01-14 11:00:38.376 \u001b[0m\u001b[32m[1610650835478011/predict/2 (pid 2149)] \u001b[0m\u001b[22m\u001b[0m\n",
      "\u001b[35m2021-01-14 11:00:38.376 \u001b[0m\u001b[32m[1610650835478011/predict/2 (pid 2149)] \u001b[0m\u001b[22m01-14 11:00:38 doltpy.core.write.write INFO     No import mode specified, table exists, using \"update\"\u001b[0m\n",
      "\u001b[35m2021-01-14 11:00:38.465 \u001b[0m\u001b[32m[1610650835478011/predict/2 (pid 2149)] \u001b[0m\u001b[22m01-14 11:00:38 doltpy.core.write.write INFO     Importing to table result in dolt directory located in iris-model-results, import mode update\u001b[0m\n",
      "\u001b[35m2021-01-14 11:00:38.465 \u001b[0m\u001b[32m[1610650835478011/predict/2 (pid 2149)] \u001b[0m\u001b[22m01-14 11:00:38 doltpy.core.dolt INFO     Rows Processed: 34, Additions: 0, Modifications: 0, Had No Effect: 34\u001b[0m\n",
      "\u001b[35m2021-01-14 11:00:38.510 \u001b[0m\u001b[32m[1610650835478011/predict/2 (pid 2149)] \u001b[0m\u001b[22m01-14 11:00:38 doltpy.core.dolt INFO\u001b[0m\n",
      "\u001b[35m2021-01-14 11:00:38.603 \u001b[0m\u001b[32m[1610650835478011/predict/2 (pid 2149)] \u001b[0m\u001b[22m01-14 11:00:38 doltpy.core.dolt INFO\u001b[0m\n",
      "\u001b[35m2021-01-14 11:00:38.693 \u001b[0m\u001b[32m[1610650835478011/predict/2 (pid 2149)] \u001b[0m\u001b[22m01-14 11:00:38 doltpy.core.dolt INFO     commit db38spd2id84p1gloh2b98heage0tjht\u001b[0m\n",
      "\u001b[35m2021-01-14 11:00:38.811 \u001b[0m\u001b[32m[1610650835478011/predict/2 (pid 2149)] \u001b[0m\u001b[22mAuthor: Max Hoffman <maximilian.wolfgang1@gmail.com>\u001b[0m\n",
      "\u001b[35m2021-01-14 11:00:38.811 \u001b[0m\u001b[32m[1610650835478011/predict/2 (pid 2149)] \u001b[0m\u001b[22mDate:   Thu Jan 14 11:00:38 -0800 2021\u001b[0m\n",
      "\u001b[35m2021-01-14 11:00:38.811 \u001b[0m\u001b[32m[1610650835478011/predict/2 (pid 2149)] \u001b[0m\u001b[22m\u001b[0m\n",
      "\u001b[35m2021-01-14 11:00:38.811 \u001b[0m\u001b[32m[1610650835478011/predict/2 (pid 2149)] \u001b[0m\u001b[22m\tDoltMLDemoFlow/1610650835478011/predict/2\u001b[0m\n",
      "\u001b[35m2021-01-14 11:00:38.812 \u001b[0m\u001b[32m[1610650835478011/predict/2 (pid 2149)] \u001b[0m\u001b[22m\u001b[0m\n",
      "\u001b[35m2021-01-14 11:00:38.812 \u001b[0m\u001b[32m[1610650835478011/predict/2 (pid 2149)] \u001b[0m\u001b[22m\u001b[0m\n",
      "\u001b[35m2021-01-14 11:00:38.812 \u001b[0m\u001b[32m[1610650835478011/predict/2 (pid 2149)] \u001b[0m\u001b[22m01-14 11:00:38 doltpy.core.dolt INFO     * master                                        \tdb38spd2id84p1gloh2b98heage0tjht\u001b[0m\n",
      "\u001b[35m2021-01-14 11:00:38.823 \u001b[0m\u001b[32m[1610650835478011/predict/2 (pid 2149)] \u001b[0m\u001b[22m\u001b[0m\n",
      "\u001b[35m2021-01-14 11:00:38.823 \u001b[0m\u001b[32m[1610650835478011/predict/2 (pid 2149)] \u001b[0m\u001b[22m01-14 11:00:38 doltpy.core.system_helpers INFO     Before exiting cleaning up child processes\u001b[0m\n",
      "\u001b[35m2021-01-14 11:00:38.830 \u001b[0m\u001b[32m[1610650835478011/predict/2 (pid 2149)] \u001b[0m\u001b[22m01-14 11:00:38 doltpy.core.system_helpers INFO     No processes to clean up, exiting\u001b[0m\n",
      "\u001b[35m2021-01-14 11:00:38.989 \u001b[0m\u001b[32m[1610650835478011/predict/2 (pid 2149)] \u001b[0m\u001b[1mTask finished successfully.\u001b[0m\n",
      "\u001b[35m2021-01-14 11:00:38.995 \u001b[0m\u001b[32m[1610650835478011/end/3 (pid 2182)] \u001b[0m\u001b[1mTask is starting.\u001b[0m\n",
      "\u001b[35m2021-01-14 11:00:40.106 \u001b[0m\u001b[32m[1610650835478011/end/3 (pid 2182)] \u001b[0m\u001b[22m01-14 11:00:40 doltpy.core.dolt INFO     Creating engine for Dolt SQL Server instance running on 127.0.0.1:3306\u001b[0m\n",
      "\u001b[35m2021-01-14 11:00:40.194 \u001b[0m\u001b[32m[1610650835478011/end/3 (pid 2182)] \u001b[0m\u001b[22m01-14 11:00:40 doltpy.core.dolt INFO     * master                                        \tdb38spd2id84p1gloh2b98heage0tjht\u001b[0m\n",
      "\u001b[35m2021-01-14 11:00:40.284 \u001b[0m\u001b[32m[1610650835478011/end/3 (pid 2182)] \u001b[0m\u001b[22m\u001b[0m\n",
      "\u001b[35m2021-01-14 11:00:40.285 \u001b[0m\u001b[32m[1610650835478011/end/3 (pid 2182)] \u001b[0m\u001b[22m01-14 11:00:40 doltpy.core.dolt INFO\u001b[0m\n",
      "\u001b[35m2021-01-14 11:00:40.371 \u001b[0m\u001b[32m[1610650835478011/end/3 (pid 2182)] \u001b[0m\u001b[22m01-14 11:00:40 doltpy.core.dolt INFO     commit 8q38kjpfqir8m666qbp4qoucd4u4rla6\u001b[0m\n",
      "\u001b[35m2021-01-14 11:00:40.499 \u001b[0m\u001b[32m[1610650835478011/end/3 (pid 2182)] \u001b[0m\u001b[22mAuthor: Max Hoffman <maximilian.wolfgang1@gmail.com>\u001b[0m\n",
      "\u001b[35m2021-01-14 11:00:40.499 \u001b[0m\u001b[32m[1610650835478011/end/3 (pid 2182)] \u001b[0m\u001b[22mDate:   Thu Jan 14 11:00:40 -0800 2021\u001b[0m\n",
      "\u001b[35m2021-01-14 11:00:40.499 \u001b[0m\u001b[32m[1610650835478011/end/3 (pid 2182)] \u001b[0m\u001b[22m\u001b[0m\n",
      "\u001b[35m2021-01-14 11:00:40.499 \u001b[0m\u001b[32m[1610650835478011/end/3 (pid 2182)] \u001b[0m\u001b[22m\tDoltMLDemoFlow/1610650835478011/end/3\u001b[0m\n",
      "\u001b[35m2021-01-14 11:00:40.499 \u001b[0m\u001b[32m[1610650835478011/end/3 (pid 2182)] \u001b[0m\u001b[22m\u001b[0m\n",
      "\u001b[35m2021-01-14 11:00:40.499 \u001b[0m\u001b[32m[1610650835478011/end/3 (pid 2182)] \u001b[0m\u001b[22m\u001b[0m\n",
      "\u001b[35m2021-01-14 11:00:40.499 \u001b[0m\u001b[32m[1610650835478011/end/3 (pid 2182)] \u001b[0m\u001b[22m01-14 11:00:40 doltpy.core.dolt INFO     * master                                        \t8q38kjpfqir8m666qbp4qoucd4u4rla6\u001b[0m\n",
      "\u001b[35m2021-01-14 11:00:40.509 \u001b[0m\u001b[32m[1610650835478011/end/3 (pid 2182)] \u001b[0m\u001b[22m\u001b[0m\n",
      "\u001b[35m2021-01-14 11:00:40.509 \u001b[0m\u001b[32m[1610650835478011/end/3 (pid 2182)] \u001b[0m\u001b[22m01-14 11:00:40 doltpy.core.system_helpers INFO     Before exiting cleaning up child processes\u001b[0m\n",
      "\u001b[35m2021-01-14 11:00:40.517 \u001b[0m\u001b[32m[1610650835478011/end/3 (pid 2182)] \u001b[0m\u001b[22m01-14 11:00:40 doltpy.core.system_helpers INFO     No processes to clean up, exiting\u001b[0m\n",
      "\u001b[35m2021-01-14 11:00:40.684 \u001b[0m\u001b[32m[1610650835478011/end/3 (pid 2182)] \u001b[0m\u001b[1mTask finished successfully.\u001b[0m\n",
      "\u001b[35m2021-01-14 11:00:40.684 \u001b[0m\u001b[1mDone!\u001b[0m\n",
      "01-14 11:00:40 doltpy.core.system_helpers INFO     Before exiting cleaning up child processes\n",
      "01-14 11:00:40 doltpy.core.system_helpers INFO     No processes to clean up, exiting\n"
     ]
    }
   ],
   "source": [
    "!poetry run python3 dolt_ml_demo.py run"
   ]
  },
  {
   "cell_type": "code",
   "execution_count": null,
   "id": "accompanied-oxygen",
   "metadata": {},
   "outputs": [],
   "source": []
  }
 ],
 "metadata": {
  "kernelspec": {
   "display_name": "Python 3",
   "language": "python",
   "name": "python3"
  },
  "language_info": {
   "codemirror_mode": {
    "name": "ipython",
    "version": 3
   },
   "file_extension": ".py",
   "mimetype": "text/x-python",
   "name": "python",
   "nbconvert_exporter": "python",
   "pygments_lexer": "ipython3",
   "version": "3.8.2"
  }
 },
 "nbformat": 4,
 "nbformat_minor": 5
}
